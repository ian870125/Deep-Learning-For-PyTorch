{
 "cells": [
  {
   "cell_type": "code",
   "execution_count": 1,
   "id": "7791e894",
   "metadata": {},
   "outputs": [],
   "source": [
    "import os\n",
    "import torch\n",
    "from torch import nn\n",
    "from torch.nn import functional as F\n",
    "from torch.utils.data import DataLoader, random_split\n",
    "from torchmetrics import Accuracy\n",
    "from torchvision import transforms\n",
    "from torchvision.datasets import MNIST"
   ]
  },
  {
   "cell_type": "code",
   "execution_count": 2,
   "id": "9bd7b48f",
   "metadata": {},
   "outputs": [],
   "source": [
    "BATCH_SIZE = 1024\n",
    "device = torch.device('cuda' if torch.cuda.is_available() else 'cpu')"
   ]
  },
  {
   "cell_type": "code",
   "execution_count": 3,
   "id": "35833531",
   "metadata": {},
   "outputs": [],
   "source": [
    "train_ds = MNIST('', train = True, download = True, transform = transforms.ToTensor())\n",
    "test_ds = MNIST('', train = False, download = True, transform = transforms.ToTensor())"
   ]
  },
  {
   "cell_type": "code",
   "execution_count": 4,
   "id": "4ad6d786",
   "metadata": {},
   "outputs": [
    {
     "name": "stdout",
     "output_type": "stream",
     "text": [
      "torch.Size([60000, 28, 28]) torch.Size([10000, 28, 28])\n"
     ]
    }
   ],
   "source": [
    "print(train_ds.data.shape, test_ds.data.shape)"
   ]
  },
  {
   "cell_type": "code",
   "execution_count": 5,
   "id": "9c3b18cd",
   "metadata": {},
   "outputs": [
    {
     "data": {
      "text/plain": [
       "tensor([5, 0, 4, 1, 9, 2, 1, 3, 1, 4])"
      ]
     },
     "execution_count": 5,
     "metadata": {},
     "output_type": "execute_result"
    }
   ],
   "source": [
    "train_ds.targets[:10]"
   ]
  },
  {
   "cell_type": "code",
   "execution_count": 6,
   "id": "2949ceee",
   "metadata": {},
   "outputs": [
    {
     "data": {
      "text/plain": [
       "tensor([[  0,   0,   0,   0,   0,   0,   0,   0,   0,   0,   0,   0,   0,   0,\n",
       "           0,   0,   0,   0,   0,   0,   0,   0,   0,   0,   0,   0,   0,   0],\n",
       "        [  0,   0,   0,   0,   0,   0,   0,   0,   0,   0,   0,   0,   0,   0,\n",
       "           0,   0,   0,   0,   0,   0,   0,   0,   0,   0,   0,   0,   0,   0],\n",
       "        [  0,   0,   0,   0,   0,   0,   0,   0,   0,   0,   0,   0,   0,   0,\n",
       "           0,   0,   0,   0,   0,   0,   0,   0,   0,   0,   0,   0,   0,   0],\n",
       "        [  0,   0,   0,   0,   0,   0,   0,   0,   0,   0,   0,   0,   0,   0,\n",
       "           0,   0,   0,   0,   0,   0,   0,   0,   0,   0,   0,   0,   0,   0],\n",
       "        [  0,   0,   0,   0,   0,   0,   0,   0,   0,   0,   0,   0,   0,   0,\n",
       "           0,   0,   0,   0,   0,   0,   0,   0,   0,   0,   0,   0,   0,   0],\n",
       "        [  0,   0,   0,   0,   0,   0,   0,   0,   0,   0,   0,   0,   3,  18,\n",
       "          18,  18, 126, 136, 175,  26, 166, 255, 247, 127,   0,   0,   0,   0],\n",
       "        [  0,   0,   0,   0,   0,   0,   0,   0,  30,  36,  94, 154, 170, 253,\n",
       "         253, 253, 253, 253, 225, 172, 253, 242, 195,  64,   0,   0,   0,   0],\n",
       "        [  0,   0,   0,   0,   0,   0,   0,  49, 238, 253, 253, 253, 253, 253,\n",
       "         253, 253, 253, 251,  93,  82,  82,  56,  39,   0,   0,   0,   0,   0],\n",
       "        [  0,   0,   0,   0,   0,   0,   0,  18, 219, 253, 253, 253, 253, 253,\n",
       "         198, 182, 247, 241,   0,   0,   0,   0,   0,   0,   0,   0,   0,   0],\n",
       "        [  0,   0,   0,   0,   0,   0,   0,   0,  80, 156, 107, 253, 253, 205,\n",
       "          11,   0,  43, 154,   0,   0,   0,   0,   0,   0,   0,   0,   0,   0],\n",
       "        [  0,   0,   0,   0,   0,   0,   0,   0,   0,  14,   1, 154, 253,  90,\n",
       "           0,   0,   0,   0,   0,   0,   0,   0,   0,   0,   0,   0,   0,   0],\n",
       "        [  0,   0,   0,   0,   0,   0,   0,   0,   0,   0,   0, 139, 253, 190,\n",
       "           2,   0,   0,   0,   0,   0,   0,   0,   0,   0,   0,   0,   0,   0],\n",
       "        [  0,   0,   0,   0,   0,   0,   0,   0,   0,   0,   0,  11, 190, 253,\n",
       "          70,   0,   0,   0,   0,   0,   0,   0,   0,   0,   0,   0,   0,   0],\n",
       "        [  0,   0,   0,   0,   0,   0,   0,   0,   0,   0,   0,   0,  35, 241,\n",
       "         225, 160, 108,   1,   0,   0,   0,   0,   0,   0,   0,   0,   0,   0],\n",
       "        [  0,   0,   0,   0,   0,   0,   0,   0,   0,   0,   0,   0,   0,  81,\n",
       "         240, 253, 253, 119,  25,   0,   0,   0,   0,   0,   0,   0,   0,   0],\n",
       "        [  0,   0,   0,   0,   0,   0,   0,   0,   0,   0,   0,   0,   0,   0,\n",
       "          45, 186, 253, 253, 150,  27,   0,   0,   0,   0,   0,   0,   0,   0],\n",
       "        [  0,   0,   0,   0,   0,   0,   0,   0,   0,   0,   0,   0,   0,   0,\n",
       "           0,  16,  93, 252, 253, 187,   0,   0,   0,   0,   0,   0,   0,   0],\n",
       "        [  0,   0,   0,   0,   0,   0,   0,   0,   0,   0,   0,   0,   0,   0,\n",
       "           0,   0,   0, 249, 253, 249,  64,   0,   0,   0,   0,   0,   0,   0],\n",
       "        [  0,   0,   0,   0,   0,   0,   0,   0,   0,   0,   0,   0,   0,   0,\n",
       "          46, 130, 183, 253, 253, 207,   2,   0,   0,   0,   0,   0,   0,   0],\n",
       "        [  0,   0,   0,   0,   0,   0,   0,   0,   0,   0,   0,   0,  39, 148,\n",
       "         229, 253, 253, 253, 250, 182,   0,   0,   0,   0,   0,   0,   0,   0],\n",
       "        [  0,   0,   0,   0,   0,   0,   0,   0,   0,   0,  24, 114, 221, 253,\n",
       "         253, 253, 253, 201,  78,   0,   0,   0,   0,   0,   0,   0,   0,   0],\n",
       "        [  0,   0,   0,   0,   0,   0,   0,   0,  23,  66, 213, 253, 253, 253,\n",
       "         253, 198,  81,   2,   0,   0,   0,   0,   0,   0,   0,   0,   0,   0],\n",
       "        [  0,   0,   0,   0,   0,   0,  18, 171, 219, 253, 253, 253, 253, 195,\n",
       "          80,   9,   0,   0,   0,   0,   0,   0,   0,   0,   0,   0,   0,   0],\n",
       "        [  0,   0,   0,   0,  55, 172, 226, 253, 253, 253, 253, 244, 133,  11,\n",
       "           0,   0,   0,   0,   0,   0,   0,   0,   0,   0,   0,   0,   0,   0],\n",
       "        [  0,   0,   0,   0, 136, 253, 253, 253, 212, 135, 132,  16,   0,   0,\n",
       "           0,   0,   0,   0,   0,   0,   0,   0,   0,   0,   0,   0,   0,   0],\n",
       "        [  0,   0,   0,   0,   0,   0,   0,   0,   0,   0,   0,   0,   0,   0,\n",
       "           0,   0,   0,   0,   0,   0,   0,   0,   0,   0,   0,   0,   0,   0],\n",
       "        [  0,   0,   0,   0,   0,   0,   0,   0,   0,   0,   0,   0,   0,   0,\n",
       "           0,   0,   0,   0,   0,   0,   0,   0,   0,   0,   0,   0,   0,   0],\n",
       "        [  0,   0,   0,   0,   0,   0,   0,   0,   0,   0,   0,   0,   0,   0,\n",
       "           0,   0,   0,   0,   0,   0,   0,   0,   0,   0,   0,   0,   0,   0]],\n",
       "       dtype=torch.uint8)"
      ]
     },
     "execution_count": 6,
     "metadata": {},
     "output_type": "execute_result"
    }
   ],
   "source": [
    "train_ds.data[0]"
   ]
  },
  {
   "cell_type": "code",
   "execution_count": 7,
   "id": "c4c8e127",
   "metadata": {},
   "outputs": [],
   "source": [
    "data = train_ds.data[0].clone()"
   ]
  },
  {
   "cell_type": "code",
   "execution_count": 8,
   "id": "97adb4a4",
   "metadata": {},
   "outputs": [],
   "source": [
    "data[data > 0] = 1"
   ]
  },
  {
   "cell_type": "code",
   "execution_count": 9,
   "id": "ee37ed79",
   "metadata": {},
   "outputs": [],
   "source": [
    "data = data.numpy()"
   ]
  },
  {
   "cell_type": "code",
   "execution_count": 10,
   "id": "211d92c8",
   "metadata": {},
   "outputs": [],
   "source": [
    "text_image = []\n",
    "for i in range(data.shape[0]):\n",
    "    text_image.append(''.join(data[i].astype(str)))"
   ]
  },
  {
   "cell_type": "code",
   "execution_count": 11,
   "id": "d7acf6f4",
   "metadata": {},
   "outputs": [
    {
     "data": {
      "text/plain": [
       "['0000000000000000000000000000',\n",
       " '0000000000000000000000000000',\n",
       " '0000000000000000000000000000',\n",
       " '0000000000000000000000000000',\n",
       " '0000000000000000000000000000',\n",
       " '0000000000001111111111110000',\n",
       " '0000000011111111111111110000',\n",
       " '0000000111111111111111100000',\n",
       " '0000000111111111110000000000',\n",
       " '0000000011111110110000000000',\n",
       " '0000000001111100000000000000',\n",
       " '0000000000011110000000000000',\n",
       " '0000000000011110000000000000',\n",
       " '0000000000001111110000000000',\n",
       " '0000000000000111111000000000',\n",
       " '0000000000000011111100000000',\n",
       " '0000000000000001111100000000',\n",
       " '0000000000000000011110000000',\n",
       " '0000000000000011111110000000',\n",
       " '0000000000001111111100000000',\n",
       " '0000000000111111111000000000',\n",
       " '0000000011111111110000000000',\n",
       " '0000001111111111000000000000',\n",
       " '0000111111111100000000000000',\n",
       " '0000111111110000000000000000',\n",
       " '0000000000000000000000000000',\n",
       " '0000000000000000000000000000',\n",
       " '0000000000000000000000000000']"
      ]
     },
     "execution_count": 11,
     "metadata": {},
     "output_type": "execute_result"
    }
   ],
   "source": [
    "text_image"
   ]
  },
  {
   "cell_type": "code",
   "execution_count": 12,
   "id": "cd67c494",
   "metadata": {},
   "outputs": [],
   "source": [
    "import matplotlib.pyplot as plt"
   ]
  },
  {
   "cell_type": "code",
   "execution_count": 13,
   "id": "f7932d48",
   "metadata": {},
   "outputs": [
    {
     "data": {
      "image/png": "[encoded data removed]",
      "text/plain": [
       "<Figure size 432x288 with 1 Axes>"
      ]
     },
     "metadata": {
      "needs_background": "light"
     },
     "output_type": "display_data"
    }
   ],
   "source": [
    "X = train_ds.data[0]\n",
    "\n",
    "# 繪製點陣圖，cmap='gray':灰階\n",
    "plt.imshow(X.reshape(28,28), cmap='gray')\n",
    "\n",
    "# 隱藏刻度\n",
    "plt.axis('off') \n",
    "\n",
    "# 顯示圖形\n",
    "plt.show() "
   ]
  },
  {
   "cell_type": "code",
   "execution_count": 14,
   "id": "3f9214b7",
   "metadata": {},
   "outputs": [],
   "source": [
    "transforms = transforms.Compose([\n",
    "    transforms.ToTensor(),\n",
    "    transforms.Normalize((0.1307,), (0.3081))\n",
    "])"
   ]
  },
  {
   "cell_type": "code",
   "execution_count": 15,
   "id": "242c383f",
   "metadata": {},
   "outputs": [],
   "source": [
    "train_ds = MNIST('', train = True, download = True, transform = transforms)"
   ]
  },
  {
   "cell_type": "code",
   "execution_count": 16,
   "id": "3f8e86f1",
   "metadata": {},
   "outputs": [],
   "source": [
    "model = torch.nn.Sequential(\n",
    "torch.nn.Flatten(),\n",
    "torch.nn.Linear(28 * 28, 256),\n",
    "nn.Dropout(0.2),\n",
    "torch.nn.Linear(256, 10)).to(device)"
   ]
  },
  {
   "cell_type": "code",
   "execution_count": 17,
   "id": "1dd21219",
   "metadata": {},
   "outputs": [],
   "source": [
    "epochs = 5\n",
    "lr = 0.1\n",
    "train_loader = DataLoader(train_ds, batch_size = 600)\n",
    "optimizer = torch.optim.Adadelta(model.parameters(), lr = lr)"
   ]
  },
  {
   "cell_type": "code",
   "execution_count": 18,
   "id": "a36bf052",
   "metadata": {},
   "outputs": [
    {
     "name": "stdout",
     "output_type": "stream",
     "text": [
      "Epoch 1: [    0 / 60000] (0%) Loss: 2.300007\n",
      "Epoch 1: [ 6000 / 60000] (10%) Loss: 1.264730\n",
      "Epoch 1: [12000 / 60000] (20%) Loss: 0.969756\n",
      "Epoch 1: [18000 / 60000] (30%) Loss: 0.732796\n",
      "Epoch 1: [24000 / 60000] (40%) Loss: 0.640906\n",
      "Epoch 1: [30000 / 60000] (50%) Loss: 0.657205\n",
      "Epoch 1: [36000 / 60000] (60%) Loss: 0.509171\n",
      "Epoch 1: [42000 / 60000] (70%) Loss: 0.582772\n",
      "Epoch 1: [48000 / 60000] (80%) Loss: 0.396073\n",
      "Epoch 1: [54000 / 60000] (90%) Loss: 0.431202\n",
      "Epoch 2: [    0 / 60000] (0%) Loss: 0.406442\n",
      "Epoch 2: [ 6000 / 60000] (10%) Loss: 0.318440\n",
      "Epoch 2: [12000 / 60000] (20%) Loss: 0.432115\n",
      "Epoch 2: [18000 / 60000] (30%) Loss: 0.337445\n",
      "Epoch 2: [24000 / 60000] (40%) Loss: 0.374227\n",
      "Epoch 2: [30000 / 60000] (50%) Loss: 0.401978\n",
      "Epoch 2: [36000 / 60000] (60%) Loss: 0.353657\n",
      "Epoch 2: [42000 / 60000] (70%) Loss: 0.463738\n",
      "Epoch 2: [48000 / 60000] (80%) Loss: 0.297539\n",
      "Epoch 2: [54000 / 60000] (90%) Loss: 0.349371\n",
      "Epoch 3: [    0 / 60000] (0%) Loss: 0.313185\n",
      "Epoch 3: [ 6000 / 60000] (10%) Loss: 0.261076\n",
      "Epoch 3: [12000 / 60000] (20%) Loss: 0.387752\n",
      "Epoch 3: [18000 / 60000] (30%) Loss: 0.295901\n",
      "Epoch 3: [24000 / 60000] (40%) Loss: 0.328378\n",
      "Epoch 3: [30000 / 60000] (50%) Loss: 0.337100\n",
      "Epoch 3: [36000 / 60000] (60%) Loss: 0.312574\n",
      "Epoch 3: [42000 / 60000] (70%) Loss: 0.443399\n",
      "Epoch 3: [48000 / 60000] (80%) Loss: 0.267588\n",
      "Epoch 3: [54000 / 60000] (90%) Loss: 0.324783\n",
      "Epoch 4: [    0 / 60000] (0%) Loss: 0.294050\n",
      "Epoch 4: [ 6000 / 60000] (10%) Loss: 0.228103\n",
      "Epoch 4: [12000 / 60000] (20%) Loss: 0.359879\n",
      "Epoch 4: [18000 / 60000] (30%) Loss: 0.273891\n",
      "Epoch 4: [24000 / 60000] (40%) Loss: 0.312578\n",
      "Epoch 4: [30000 / 60000] (50%) Loss: 0.314808\n",
      "Epoch 4: [36000 / 60000] (60%) Loss: 0.300907\n",
      "Epoch 4: [42000 / 60000] (70%) Loss: 0.418569\n",
      "Epoch 4: [48000 / 60000] (80%) Loss: 0.254529\n",
      "Epoch 4: [54000 / 60000] (90%) Loss: 0.316816\n",
      "Epoch 5: [    0 / 60000] (0%) Loss: 0.278533\n",
      "Epoch 5: [ 6000 / 60000] (10%) Loss: 0.220653\n",
      "Epoch 5: [12000 / 60000] (20%) Loss: 0.355327\n",
      "Epoch 5: [18000 / 60000] (30%) Loss: 0.267307\n",
      "Epoch 5: [24000 / 60000] (40%) Loss: 0.291077\n",
      "Epoch 5: [30000 / 60000] (50%) Loss: 0.302326\n",
      "Epoch 5: [36000 / 60000] (60%) Loss: 0.303308\n",
      "Epoch 5: [42000 / 60000] (70%) Loss: 0.419236\n",
      "Epoch 5: [48000 / 60000] (80%) Loss: 0.249128\n",
      "Epoch 5: [54000 / 60000] (90%) Loss: 0.300275\n"
     ]
    }
   ],
   "source": [
    "criterion = nn.CrossEntropyLoss()\n",
    "model.train()\n",
    "loss_list = []\n",
    "for epoch in range(1, epochs + 1):\n",
    "    for batch_idx, (data, target) in enumerate(train_loader):\n",
    "        data, target = data.to(device), target.to(device)\n",
    "        optimizer.zero_grad()\n",
    "        output = model(data)\n",
    "        loss = criterion(output, target)\n",
    "        loss.backward()\n",
    "        optimizer.step()\n",
    "        if batch_idx % 10 == 0:\n",
    "            loss_list.append(loss.item())\n",
    "            batch = batch_idx * len(data)\n",
    "            data_count = len(train_loader.dataset)\n",
    "            percentage = (100. * batch_idx / len(train_loader))\n",
    "            print(f'Epoch {epoch}: [{batch:5d} / {data_count}] ({percentage:.0f}%)' f' Loss: {loss.item():.6f}')"
   ]
  },
  {
   "cell_type": "code",
   "execution_count": 19,
   "id": "acdf8ed4",
   "metadata": {},
   "outputs": [
    {
     "data": {
      "text/plain": [
       "[<matplotlib.lines.Line2D at 0x229f763f310>]"
      ]
     },
     "execution_count": 19,
     "metadata": {},
     "output_type": "execute_result"
    },
    {
     "data": {
      "image/png": "[encoded data removed]",
      "text/plain": [
       "<Figure size 432x288 with 1 Axes>"
      ]
     },
     "metadata": {
      "needs_background": "light"
     },
     "output_type": "display_data"
    }
   ],
   "source": [
    "plt.plot(loss_list)"
   ]
  },
  {
   "cell_type": "code",
   "execution_count": 20,
   "id": "a43bc35f",
   "metadata": {},
   "outputs": [
    {
     "name": "stdout",
     "output_type": "stream",
     "text": [
      "平均損失: 0.0001, 準確率: 0.8466 (85\n",
      ")\n"
     ]
    }
   ],
   "source": [
    "test_loader = DataLoader(test_ds, shuffle = False, batch_size = BATCH_SIZE)\n",
    "model.eval()\n",
    "test_loss = 0\n",
    "correct = 0\n",
    "with torch.no_grad():\n",
    "    for data, target in test_loader:\n",
    "        data, target = data.to(device), target.to(device)\n",
    "        output = model(data)\n",
    "        test_loss = criterion(output, target).item()\n",
    "        pred = output.argmax(dim = 1, keepdim = True)\n",
    "        correct += pred.eq(target.view_as(pred)).sum().item()\n",
    "test_loss /= len(test_loader.dataset)\n",
    "batch = batch_idx * len(data)\n",
    "data_count = len(test_loader.dataset)\n",
    "percentage = 100. * correct / data_count\n",
    "print(f'平均損失: {test_loss:.4f}, 準確率: {correct / data_count}' + f' ({percentage:.0f}\\n)')"
   ]
  },
  {
   "cell_type": "code",
   "execution_count": null,
   "id": "8ee07e47",
   "metadata": {},
   "outputs": [],
   "source": []
  },
  {
   "cell_type": "code",
   "execution_count": null,
   "id": "bb8da59e",
   "metadata": {},
   "outputs": [],
   "source": []
  }
 ],
 "metadata": {
  "kernelspec": {
   "display_name": "Python 3",
   "language": "python",
   "name": "python3"
  },
  "language_info": {
   "codemirror_mode": {
    "name": "ipython",
    "version": 3
   },
   "file_extension": ".py",
   "mimetype": "text/x-python",
   "name": "python",
   "nbconvert_exporter": "python",
   "pygments_lexer": "ipython3",
   "version": "3.8.8"
  },
  "varInspector": {
   "cols": {
    "lenName": 16,
    "lenType": 16,
    "lenVar": 40
   },
   "kernels_config": {
    "python": {
     "delete_cmd_postfix": "",
     "delete_cmd_prefix": "del ",
     "library": "var_list.py",
     "varRefreshCmd": "print(var_dic_list())"
    },
    "r": {
     "delete_cmd_postfix": ") ",
     "delete_cmd_prefix": "rm(",
     "library": "var_list.r",
     "varRefreshCmd": "cat(var_dic_list()) "
    }
   },
   "types_to_exclude": [
    "module",
    "function",
    "builtin_function_or_method",
    "instance",
    "_Feature"
   ],
   "window_display": false
  }
 },
 "nbformat": 4,
 "nbformat_minor": 5
}
