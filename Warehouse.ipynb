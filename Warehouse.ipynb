{
 "cells": [
  {
   "attachments": {
    "image.png": {
     "image/png": "[encoded data removed]"
    }
   },
   "cell_type": "markdown",
   "id": "07726dd1",
   "metadata": {},
   "source": [
    "倉庫布置圖：\n",
    "![image.png](attachment:image.png)"
   ]
  },
  {
   "cell_type": "code",
   "execution_count": 1,
   "id": "ff404d10",
   "metadata": {
    "ExecuteTime": {
     "end_time": "2023-03-11T16:26:08.051433Z",
     "start_time": "2023-03-11T16:26:08.037816Z"
    }
   },
   "outputs": [],
   "source": [
    "import numpy as np\n"
   ]
  },
  {
   "cell_type": "code",
   "execution_count": 2,
   "id": "657c1d88",
   "metadata": {
    "ExecuteTime": {
     "end_time": "2023-03-11T16:26:08.252610Z",
     "start_time": "2023-03-11T16:26:08.233868Z"
    }
   },
   "outputs": [],
   "source": [
    "location_to_state = {'A': 0,\n",
    "                     'B': 1,\n",
    "                     'C': 2,\n",
    "                     'D': 3,\n",
    "                     'E': 4,\n",
    "                     'F': 5,\n",
    "                     'G': 6,\n",
    "                     'H': 7,\n",
    "                     'I': 8,\n",
    "                     'J': 9,\n",
    "                     'K': 10,\n",
    "                     'L': 11}"
   ]
  },
  {
   "cell_type": "code",
   "execution_count": 3,
   "id": "ce4c42a1",
   "metadata": {
    "ExecuteTime": {
     "end_time": "2023-03-11T16:26:08.514109Z",
     "start_time": "2023-03-11T16:26:08.501582Z"
    }
   },
   "outputs": [],
   "source": [
    "actions = [0,1,2,3,4,5,6,7,8,9,10,11]\n"
   ]
  },
  {
   "cell_type": "code",
   "execution_count": 4,
   "id": "8aa60c16",
   "metadata": {
    "ExecuteTime": {
     "end_time": "2023-03-11T16:26:08.717151Z",
     "start_time": "2023-03-11T16:26:08.710502Z"
    }
   },
   "outputs": [],
   "source": [
    "#定義行動限制，假設G點有最高優先度, 故獎勵設為1000\n",
    "R = np.array([[0, 1, 0, 0, 0, 0, 0, 0, 0, 0, 0, 0],\n",
    "              [1, 0, 1, 0, 0, 1, 0, 0, 0, 0, 0, 0],\n",
    "              [0, 1, 0, 0, 0, 0, 1, 0, 0, 0, 0, 0],\n",
    "              [0, 0, 0, 0, 0, 0, 0, 1, 0, 0, 0, 0],\n",
    "              [0, 0, 0, 0, 0, 0, 0, 0, 1, 0, 0, 0],\n",
    "              [0, 1, 0, 0, 0, 0, 0, 0, 0, 1, 0, 0],\n",
    "              [0, 0, 1, 0, 0, 0, 1000, 1, 0, 0, 0, 0],\n",
    "              [0, 0, 0, 1, 0, 0, 1, 0, 0, 0, 0, 1],\n",
    "              [0, 0, 0, 0, 1, 0, 0, 0, 0, 1, 0, 0],\n",
    "              [0, 0, 0, 0, 0, 1, 0, 0, 1, 0, 1, 0],\n",
    "              [0, 0, 0, 0, 0, 0, 0, 0, 0, 1, 0, 1],\n",
    "              [0, 0, 0, 0, 0, 0, 0, 1, 0, 0, 1, 0]])"
   ]
  },
  {
   "cell_type": "code",
   "execution_count": 15,
   "id": "d2bf557d",
   "metadata": {
    "ExecuteTime": {
     "end_time": "2023-03-11T16:28:35.075309Z",
     "start_time": "2023-03-11T16:28:35.048092Z"
    }
   },
   "outputs": [],
   "source": [
    "gamma = 0.75\n",
    "alpha = 0.9\n",
    "Q = np.array(np.zeros([12,12]))\n",
    "\n",
    "for i in range(1000):\n",
    "    current_state = np.random.randint(0, 12)\n",
    "    playable_actions = []\n",
    "    for j in range(12):\n",
    "        if R[current_state, j] > 0:\n",
    "            playable_actions.append(j)\n",
    "    next_state = np.random.choice(playable_actions)\n",
    "    TD = R[current_state, next_state] + gamma * Q[next_state, np.argmax(Q[next_state,])] - Q[current_state, next_state]\n",
    "    Q[current_state, next_state] = Q[current_state, next_state] + alpha*TD"
   ]
  },
  {
   "cell_type": "code",
   "execution_count": 16,
   "id": "b9eef615",
   "metadata": {
    "ExecuteTime": {
     "end_time": "2023-03-11T16:28:35.401146Z",
     "start_time": "2023-03-11T16:28:35.371543Z"
    }
   },
   "outputs": [
    {
     "data": {
      "text/html": [
       "<style type=\"text/css\">\n",
       "#T_44692_row0_col0, #T_44692_row0_col2, #T_44692_row0_col3, #T_44692_row0_col4, #T_44692_row0_col5, #T_44692_row0_col6, #T_44692_row0_col7, #T_44692_row0_col8, #T_44692_row0_col9, #T_44692_row0_col10, #T_44692_row0_col11, #T_44692_row1_col1, #T_44692_row1_col3, #T_44692_row1_col4, #T_44692_row1_col6, #T_44692_row1_col7, #T_44692_row1_col8, #T_44692_row1_col9, #T_44692_row1_col10, #T_44692_row1_col11, #T_44692_row2_col0, #T_44692_row2_col2, #T_44692_row2_col3, #T_44692_row2_col4, #T_44692_row2_col5, #T_44692_row2_col7, #T_44692_row2_col8, #T_44692_row2_col9, #T_44692_row2_col10, #T_44692_row2_col11, #T_44692_row3_col0, #T_44692_row3_col1, #T_44692_row3_col2, #T_44692_row3_col3, #T_44692_row3_col4, #T_44692_row3_col5, #T_44692_row3_col6, #T_44692_row3_col8, #T_44692_row3_col9, #T_44692_row3_col10, #T_44692_row3_col11, #T_44692_row4_col0, #T_44692_row4_col1, #T_44692_row4_col2, #T_44692_row4_col3, #T_44692_row4_col4, #T_44692_row4_col5, #T_44692_row4_col6, #T_44692_row4_col7, #T_44692_row4_col9, #T_44692_row4_col10, #T_44692_row4_col11, #T_44692_row5_col0, #T_44692_row5_col2, #T_44692_row5_col3, #T_44692_row5_col4, #T_44692_row5_col5, #T_44692_row5_col6, #T_44692_row5_col7, #T_44692_row5_col8, #T_44692_row5_col10, #T_44692_row5_col11, #T_44692_row6_col0, #T_44692_row6_col1, #T_44692_row6_col3, #T_44692_row6_col4, #T_44692_row6_col5, #T_44692_row6_col8, #T_44692_row6_col9, #T_44692_row6_col10, #T_44692_row6_col11, #T_44692_row7_col0, #T_44692_row7_col1, #T_44692_row7_col2, #T_44692_row7_col4, #T_44692_row7_col5, #T_44692_row7_col7, #T_44692_row7_col8, #T_44692_row7_col9, #T_44692_row7_col10, #T_44692_row8_col0, #T_44692_row8_col1, #T_44692_row8_col2, #T_44692_row8_col3, #T_44692_row8_col5, #T_44692_row8_col6, #T_44692_row8_col7, #T_44692_row8_col8, #T_44692_row8_col10, #T_44692_row8_col11, #T_44692_row9_col0, #T_44692_row9_col1, #T_44692_row9_col2, #T_44692_row9_col3, #T_44692_row9_col4, #T_44692_row9_col6, #T_44692_row9_col7, #T_44692_row9_col9, #T_44692_row9_col11, #T_44692_row10_col0, #T_44692_row10_col1, #T_44692_row10_col2, #T_44692_row10_col3, #T_44692_row10_col4, #T_44692_row10_col5, #T_44692_row10_col6, #T_44692_row10_col7, #T_44692_row10_col8, #T_44692_row10_col10, #T_44692_row11_col0, #T_44692_row11_col1, #T_44692_row11_col2, #T_44692_row11_col3, #T_44692_row11_col4, #T_44692_row11_col5, #T_44692_row11_col6, #T_44692_row11_col8, #T_44692_row11_col9, #T_44692_row11_col11 {\n",
       "  background-color: #f7fcf0;\n",
       "  color: #000000;\n",
       "}\n",
       "#T_44692_row0_col1, #T_44692_row1_col0, #T_44692_row1_col2, #T_44692_row1_col5, #T_44692_row2_col1, #T_44692_row3_col7, #T_44692_row4_col8, #T_44692_row5_col1, #T_44692_row6_col2, #T_44692_row6_col6, #T_44692_row6_col7, #T_44692_row7_col3, #T_44692_row7_col11, #T_44692_row8_col4, #T_44692_row9_col5, #T_44692_row9_col8, #T_44692_row9_col10, #T_44692_row10_col9, #T_44692_row10_col11, #T_44692_row11_col7, #T_44692_row11_col10 {\n",
       "  background-color: #084081;\n",
       "  color: #f1f1f1;\n",
       "}\n",
       "#T_44692_row2_col6, #T_44692_row7_col6 {\n",
       "  background-color: #2b8cbe;\n",
       "  color: #f1f1f1;\n",
       "}\n",
       "#T_44692_row5_col9, #T_44692_row8_col9 {\n",
       "  background-color: #084182;\n",
       "  color: #f1f1f1;\n",
       "}\n",
       "</style>\n",
       "<table id=\"T_44692\">\n",
       "  <thead>\n",
       "    <tr>\n",
       "      <th class=\"blank level0\" >&nbsp;</th>\n",
       "      <th id=\"T_44692_level0_col0\" class=\"col_heading level0 col0\" >A</th>\n",
       "      <th id=\"T_44692_level0_col1\" class=\"col_heading level0 col1\" >B</th>\n",
       "      <th id=\"T_44692_level0_col2\" class=\"col_heading level0 col2\" >C</th>\n",
       "      <th id=\"T_44692_level0_col3\" class=\"col_heading level0 col3\" >D</th>\n",
       "      <th id=\"T_44692_level0_col4\" class=\"col_heading level0 col4\" >E</th>\n",
       "      <th id=\"T_44692_level0_col5\" class=\"col_heading level0 col5\" >F</th>\n",
       "      <th id=\"T_44692_level0_col6\" class=\"col_heading level0 col6\" >G</th>\n",
       "      <th id=\"T_44692_level0_col7\" class=\"col_heading level0 col7\" >H</th>\n",
       "      <th id=\"T_44692_level0_col8\" class=\"col_heading level0 col8\" >I</th>\n",
       "      <th id=\"T_44692_level0_col9\" class=\"col_heading level0 col9\" >J</th>\n",
       "      <th id=\"T_44692_level0_col10\" class=\"col_heading level0 col10\" >K</th>\n",
       "      <th id=\"T_44692_level0_col11\" class=\"col_heading level0 col11\" >L</th>\n",
       "    </tr>\n",
       "  </thead>\n",
       "  <tbody>\n",
       "    <tr>\n",
       "      <th id=\"T_44692_level0_row0\" class=\"row_heading level0 row0\" >0</th>\n",
       "      <td id=\"T_44692_row0_col0\" class=\"data row0 col0\" >0.000000</td>\n",
       "      <td id=\"T_44692_row0_col1\" class=\"data row0 col1\" >1682.000000</td>\n",
       "      <td id=\"T_44692_row0_col2\" class=\"data row0 col2\" >0.000000</td>\n",
       "      <td id=\"T_44692_row0_col3\" class=\"data row0 col3\" >0.000000</td>\n",
       "      <td id=\"T_44692_row0_col4\" class=\"data row0 col4\" >0.000000</td>\n",
       "      <td id=\"T_44692_row0_col5\" class=\"data row0 col5\" >0.000000</td>\n",
       "      <td id=\"T_44692_row0_col6\" class=\"data row0 col6\" >0.000000</td>\n",
       "      <td id=\"T_44692_row0_col7\" class=\"data row0 col7\" >0.000000</td>\n",
       "      <td id=\"T_44692_row0_col8\" class=\"data row0 col8\" >0.000000</td>\n",
       "      <td id=\"T_44692_row0_col9\" class=\"data row0 col9\" >0.000000</td>\n",
       "      <td id=\"T_44692_row0_col10\" class=\"data row0 col10\" >0.000000</td>\n",
       "      <td id=\"T_44692_row0_col11\" class=\"data row0 col11\" >0.000000</td>\n",
       "    </tr>\n",
       "    <tr>\n",
       "      <th id=\"T_44692_level0_row1\" class=\"row_heading level0 row1\" >1</th>\n",
       "      <td id=\"T_44692_row1_col0\" class=\"data row1 col0\" >1262.000000</td>\n",
       "      <td id=\"T_44692_row1_col1\" class=\"data row1 col1\" >0.000000</td>\n",
       "      <td id=\"T_44692_row1_col2\" class=\"data row1 col2\" >2241.000000</td>\n",
       "      <td id=\"T_44692_row1_col3\" class=\"data row1 col3\" >0.000000</td>\n",
       "      <td id=\"T_44692_row1_col4\" class=\"data row1 col4\" >0.000000</td>\n",
       "      <td id=\"T_44692_row1_col5\" class=\"data row1 col5\" >1262.000000</td>\n",
       "      <td id=\"T_44692_row1_col6\" class=\"data row1 col6\" >0.000000</td>\n",
       "      <td id=\"T_44692_row1_col7\" class=\"data row1 col7\" >0.000000</td>\n",
       "      <td id=\"T_44692_row1_col8\" class=\"data row1 col8\" >0.000000</td>\n",
       "      <td id=\"T_44692_row1_col9\" class=\"data row1 col9\" >0.000000</td>\n",
       "      <td id=\"T_44692_row1_col10\" class=\"data row1 col10\" >0.000000</td>\n",
       "      <td id=\"T_44692_row1_col11\" class=\"data row1 col11\" >0.000000</td>\n",
       "    </tr>\n",
       "    <tr>\n",
       "      <th id=\"T_44692_level0_row2\" class=\"row_heading level0 row2\" >2</th>\n",
       "      <td id=\"T_44692_row2_col0\" class=\"data row2 col0\" >0.000000</td>\n",
       "      <td id=\"T_44692_row2_col1\" class=\"data row2 col1\" >1682.000000</td>\n",
       "      <td id=\"T_44692_row2_col2\" class=\"data row2 col2\" >0.000000</td>\n",
       "      <td id=\"T_44692_row2_col3\" class=\"data row2 col3\" >0.000000</td>\n",
       "      <td id=\"T_44692_row2_col4\" class=\"data row2 col4\" >0.000000</td>\n",
       "      <td id=\"T_44692_row2_col5\" class=\"data row2 col5\" >0.000000</td>\n",
       "      <td id=\"T_44692_row2_col6\" class=\"data row2 col6\" >2987.000000</td>\n",
       "      <td id=\"T_44692_row2_col7\" class=\"data row2 col7\" >0.000000</td>\n",
       "      <td id=\"T_44692_row2_col8\" class=\"data row2 col8\" >0.000000</td>\n",
       "      <td id=\"T_44692_row2_col9\" class=\"data row2 col9\" >0.000000</td>\n",
       "      <td id=\"T_44692_row2_col10\" class=\"data row2 col10\" >0.000000</td>\n",
       "      <td id=\"T_44692_row2_col11\" class=\"data row2 col11\" >0.000000</td>\n",
       "    </tr>\n",
       "    <tr>\n",
       "      <th id=\"T_44692_level0_row3\" class=\"row_heading level0 row3\" >3</th>\n",
       "      <td id=\"T_44692_row3_col0\" class=\"data row3 col0\" >0.000000</td>\n",
       "      <td id=\"T_44692_row3_col1\" class=\"data row3 col1\" >0.000000</td>\n",
       "      <td id=\"T_44692_row3_col2\" class=\"data row3 col2\" >0.000000</td>\n",
       "      <td id=\"T_44692_row3_col3\" class=\"data row3 col3\" >0.000000</td>\n",
       "      <td id=\"T_44692_row3_col4\" class=\"data row3 col4\" >0.000000</td>\n",
       "      <td id=\"T_44692_row3_col5\" class=\"data row3 col5\" >0.000000</td>\n",
       "      <td id=\"T_44692_row3_col6\" class=\"data row3 col6\" >0.000000</td>\n",
       "      <td id=\"T_44692_row3_col7\" class=\"data row3 col7\" >2241.000000</td>\n",
       "      <td id=\"T_44692_row3_col8\" class=\"data row3 col8\" >0.000000</td>\n",
       "      <td id=\"T_44692_row3_col9\" class=\"data row3 col9\" >0.000000</td>\n",
       "      <td id=\"T_44692_row3_col10\" class=\"data row3 col10\" >0.000000</td>\n",
       "      <td id=\"T_44692_row3_col11\" class=\"data row3 col11\" >0.000000</td>\n",
       "    </tr>\n",
       "    <tr>\n",
       "      <th id=\"T_44692_level0_row4\" class=\"row_heading level0 row4\" >4</th>\n",
       "      <td id=\"T_44692_row4_col0\" class=\"data row4 col0\" >0.000000</td>\n",
       "      <td id=\"T_44692_row4_col1\" class=\"data row4 col1\" >0.000000</td>\n",
       "      <td id=\"T_44692_row4_col2\" class=\"data row4 col2\" >0.000000</td>\n",
       "      <td id=\"T_44692_row4_col3\" class=\"data row4 col3\" >0.000000</td>\n",
       "      <td id=\"T_44692_row4_col4\" class=\"data row4 col4\" >0.000000</td>\n",
       "      <td id=\"T_44692_row4_col5\" class=\"data row4 col5\" >0.000000</td>\n",
       "      <td id=\"T_44692_row4_col6\" class=\"data row4 col6\" >0.000000</td>\n",
       "      <td id=\"T_44692_row4_col7\" class=\"data row4 col7\" >0.000000</td>\n",
       "      <td id=\"T_44692_row4_col8\" class=\"data row4 col8\" >707.000000</td>\n",
       "      <td id=\"T_44692_row4_col9\" class=\"data row4 col9\" >0.000000</td>\n",
       "      <td id=\"T_44692_row4_col10\" class=\"data row4 col10\" >0.000000</td>\n",
       "      <td id=\"T_44692_row4_col11\" class=\"data row4 col11\" >0.000000</td>\n",
       "    </tr>\n",
       "    <tr>\n",
       "      <th id=\"T_44692_level0_row5\" class=\"row_heading level0 row5\" >5</th>\n",
       "      <td id=\"T_44692_row5_col0\" class=\"data row5 col0\" >0.000000</td>\n",
       "      <td id=\"T_44692_row5_col1\" class=\"data row5 col1\" >1682.000000</td>\n",
       "      <td id=\"T_44692_row5_col2\" class=\"data row5 col2\" >0.000000</td>\n",
       "      <td id=\"T_44692_row5_col3\" class=\"data row5 col3\" >0.000000</td>\n",
       "      <td id=\"T_44692_row5_col4\" class=\"data row5 col4\" >0.000000</td>\n",
       "      <td id=\"T_44692_row5_col5\" class=\"data row5 col5\" >0.000000</td>\n",
       "      <td id=\"T_44692_row5_col6\" class=\"data row5 col6\" >0.000000</td>\n",
       "      <td id=\"T_44692_row5_col7\" class=\"data row5 col7\" >0.000000</td>\n",
       "      <td id=\"T_44692_row5_col8\" class=\"data row5 col8\" >0.000000</td>\n",
       "      <td id=\"T_44692_row5_col9\" class=\"data row5 col9\" >943.000000</td>\n",
       "      <td id=\"T_44692_row5_col10\" class=\"data row5 col10\" >0.000000</td>\n",
       "      <td id=\"T_44692_row5_col11\" class=\"data row5 col11\" >0.000000</td>\n",
       "    </tr>\n",
       "    <tr>\n",
       "      <th id=\"T_44692_level0_row6\" class=\"row_heading level0 row6\" >6</th>\n",
       "      <td id=\"T_44692_row6_col0\" class=\"data row6 col0\" >0.000000</td>\n",
       "      <td id=\"T_44692_row6_col1\" class=\"data row6 col1\" >0.000000</td>\n",
       "      <td id=\"T_44692_row6_col2\" class=\"data row6 col2\" >2241.000000</td>\n",
       "      <td id=\"T_44692_row6_col3\" class=\"data row6 col3\" >0.000000</td>\n",
       "      <td id=\"T_44692_row6_col4\" class=\"data row6 col4\" >0.000000</td>\n",
       "      <td id=\"T_44692_row6_col5\" class=\"data row6 col5\" >0.000000</td>\n",
       "      <td id=\"T_44692_row6_col6\" class=\"data row6 col6\" >3993.000000</td>\n",
       "      <td id=\"T_44692_row6_col7\" class=\"data row6 col7\" >2238.000000</td>\n",
       "      <td id=\"T_44692_row6_col8\" class=\"data row6 col8\" >0.000000</td>\n",
       "      <td id=\"T_44692_row6_col9\" class=\"data row6 col9\" >0.000000</td>\n",
       "      <td id=\"T_44692_row6_col10\" class=\"data row6 col10\" >0.000000</td>\n",
       "      <td id=\"T_44692_row6_col11\" class=\"data row6 col11\" >0.000000</td>\n",
       "    </tr>\n",
       "    <tr>\n",
       "      <th id=\"T_44692_level0_row7\" class=\"row_heading level0 row7\" >7</th>\n",
       "      <td id=\"T_44692_row7_col0\" class=\"data row7 col0\" >0.000000</td>\n",
       "      <td id=\"T_44692_row7_col1\" class=\"data row7 col1\" >0.000000</td>\n",
       "      <td id=\"T_44692_row7_col2\" class=\"data row7 col2\" >0.000000</td>\n",
       "      <td id=\"T_44692_row7_col3\" class=\"data row7 col3\" >1682.000000</td>\n",
       "      <td id=\"T_44692_row7_col4\" class=\"data row7 col4\" >0.000000</td>\n",
       "      <td id=\"T_44692_row7_col5\" class=\"data row7 col5\" >0.000000</td>\n",
       "      <td id=\"T_44692_row7_col6\" class=\"data row7 col6\" >2987.000000</td>\n",
       "      <td id=\"T_44692_row7_col7\" class=\"data row7 col7\" >0.000000</td>\n",
       "      <td id=\"T_44692_row7_col8\" class=\"data row7 col8\" >0.000000</td>\n",
       "      <td id=\"T_44692_row7_col9\" class=\"data row7 col9\" >0.000000</td>\n",
       "      <td id=\"T_44692_row7_col10\" class=\"data row7 col10\" >0.000000</td>\n",
       "      <td id=\"T_44692_row7_col11\" class=\"data row7 col11\" >1680.000000</td>\n",
       "    </tr>\n",
       "    <tr>\n",
       "      <th id=\"T_44692_level0_row8\" class=\"row_heading level0 row8\" >8</th>\n",
       "      <td id=\"T_44692_row8_col0\" class=\"data row8 col0\" >0.000000</td>\n",
       "      <td id=\"T_44692_row8_col1\" class=\"data row8 col1\" >0.000000</td>\n",
       "      <td id=\"T_44692_row8_col2\" class=\"data row8 col2\" >0.000000</td>\n",
       "      <td id=\"T_44692_row8_col3\" class=\"data row8 col3\" >0.000000</td>\n",
       "      <td id=\"T_44692_row8_col4\" class=\"data row8 col4\" >531.000000</td>\n",
       "      <td id=\"T_44692_row8_col5\" class=\"data row8 col5\" >0.000000</td>\n",
       "      <td id=\"T_44692_row8_col6\" class=\"data row8 col6\" >0.000000</td>\n",
       "      <td id=\"T_44692_row8_col7\" class=\"data row8 col7\" >0.000000</td>\n",
       "      <td id=\"T_44692_row8_col8\" class=\"data row8 col8\" >0.000000</td>\n",
       "      <td id=\"T_44692_row8_col9\" class=\"data row8 col9\" >943.000000</td>\n",
       "      <td id=\"T_44692_row8_col10\" class=\"data row8 col10\" >0.000000</td>\n",
       "      <td id=\"T_44692_row8_col11\" class=\"data row8 col11\" >0.000000</td>\n",
       "    </tr>\n",
       "    <tr>\n",
       "      <th id=\"T_44692_level0_row9\" class=\"row_heading level0 row9\" >9</th>\n",
       "      <td id=\"T_44692_row9_col0\" class=\"data row9 col0\" >0.000000</td>\n",
       "      <td id=\"T_44692_row9_col1\" class=\"data row9 col1\" >0.000000</td>\n",
       "      <td id=\"T_44692_row9_col2\" class=\"data row9 col2\" >0.000000</td>\n",
       "      <td id=\"T_44692_row9_col3\" class=\"data row9 col3\" >0.000000</td>\n",
       "      <td id=\"T_44692_row9_col4\" class=\"data row9 col4\" >0.000000</td>\n",
       "      <td id=\"T_44692_row9_col5\" class=\"data row9 col5\" >1262.000000</td>\n",
       "      <td id=\"T_44692_row9_col6\" class=\"data row9 col6\" >0.000000</td>\n",
       "      <td id=\"T_44692_row9_col7\" class=\"data row9 col7\" >0.000000</td>\n",
       "      <td id=\"T_44692_row9_col8\" class=\"data row9 col8\" >707.000000</td>\n",
       "      <td id=\"T_44692_row9_col9\" class=\"data row9 col9\" >0.000000</td>\n",
       "      <td id=\"T_44692_row9_col10\" class=\"data row9 col10\" >1251.000000</td>\n",
       "      <td id=\"T_44692_row9_col11\" class=\"data row9 col11\" >0.000000</td>\n",
       "    </tr>\n",
       "    <tr>\n",
       "      <th id=\"T_44692_level0_row10\" class=\"row_heading level0 row10\" >10</th>\n",
       "      <td id=\"T_44692_row10_col0\" class=\"data row10 col0\" >0.000000</td>\n",
       "      <td id=\"T_44692_row10_col1\" class=\"data row10 col1\" >0.000000</td>\n",
       "      <td id=\"T_44692_row10_col2\" class=\"data row10 col2\" >0.000000</td>\n",
       "      <td id=\"T_44692_row10_col3\" class=\"data row10 col3\" >0.000000</td>\n",
       "      <td id=\"T_44692_row10_col4\" class=\"data row10 col4\" >0.000000</td>\n",
       "      <td id=\"T_44692_row10_col5\" class=\"data row10 col5\" >0.000000</td>\n",
       "      <td id=\"T_44692_row10_col6\" class=\"data row10 col6\" >0.000000</td>\n",
       "      <td id=\"T_44692_row10_col7\" class=\"data row10 col7\" >0.000000</td>\n",
       "      <td id=\"T_44692_row10_col8\" class=\"data row10 col8\" >0.000000</td>\n",
       "      <td id=\"T_44692_row10_col9\" class=\"data row10 col9\" >947.000000</td>\n",
       "      <td id=\"T_44692_row10_col10\" class=\"data row10 col10\" >0.000000</td>\n",
       "      <td id=\"T_44692_row10_col11\" class=\"data row10 col11\" >1680.000000</td>\n",
       "    </tr>\n",
       "    <tr>\n",
       "      <th id=\"T_44692_level0_row11\" class=\"row_heading level0 row11\" >11</th>\n",
       "      <td id=\"T_44692_row11_col0\" class=\"data row11 col0\" >0.000000</td>\n",
       "      <td id=\"T_44692_row11_col1\" class=\"data row11 col1\" >0.000000</td>\n",
       "      <td id=\"T_44692_row11_col2\" class=\"data row11 col2\" >0.000000</td>\n",
       "      <td id=\"T_44692_row11_col3\" class=\"data row11 col3\" >0.000000</td>\n",
       "      <td id=\"T_44692_row11_col4\" class=\"data row11 col4\" >0.000000</td>\n",
       "      <td id=\"T_44692_row11_col5\" class=\"data row11 col5\" >0.000000</td>\n",
       "      <td id=\"T_44692_row11_col6\" class=\"data row11 col6\" >0.000000</td>\n",
       "      <td id=\"T_44692_row11_col7\" class=\"data row11 col7\" >2241.000000</td>\n",
       "      <td id=\"T_44692_row11_col8\" class=\"data row11 col8\" >0.000000</td>\n",
       "      <td id=\"T_44692_row11_col9\" class=\"data row11 col9\" >0.000000</td>\n",
       "      <td id=\"T_44692_row11_col10\" class=\"data row11 col10\" >1251.000000</td>\n",
       "      <td id=\"T_44692_row11_col11\" class=\"data row11 col11\" >0.000000</td>\n",
       "    </tr>\n",
       "  </tbody>\n",
       "</table>\n"
      ],
      "text/plain": [
       "<pandas.io.formats.style.Styler at 0x1e9d3846ca0>"
      ]
     },
     "execution_count": 16,
     "metadata": {},
     "output_type": "execute_result"
    }
   ],
   "source": [
    "import pandas as pd\n",
    "\n",
    "q_values = pd.DataFrame(Q, columns=[location for location in location_to_state])\n",
    "s = q_values.round().style.background_gradient(cmap='GnBu')\n",
    "s"
   ]
  },
  {
   "cell_type": "code",
   "execution_count": 17,
   "id": "8d5e5476",
   "metadata": {
    "ExecuteTime": {
     "end_time": "2023-03-11T16:28:47.693801Z",
     "start_time": "2023-03-11T16:28:47.684166Z"
    }
   },
   "outputs": [],
   "source": [
    "R = np.array([[0, 1, 0, 0, 0, 0, 0, 0, 0, 0, 0, 0],\n",
    "              [1, 0, 1, 0, 0, 1, 0, 0, 0, 0, 0, 0],\n",
    "              [0, 1, 0, 0, 0, 0, 1, 0, 0, 0, 0, 0],\n",
    "              [0, 0, 0, 0, 0, 0, 0, 1, 0, 0, 0, 0],\n",
    "              [0, 0, 0, 0, 0, 0, 0, 0, 1, 0, 0, 0],\n",
    "              [0, 1, 0, 0, 0, 0, 0, 0, 0, 1, 0, 0],\n",
    "              [0, 0, 1, 0, 0, 0, 1, 1, 0, 0, 0, 0],\n",
    "              [0, 0, 0, 1, 0, 0, 1, 0, 0, 0, 0, 1],\n",
    "              [0, 0, 0, 0, 1, 0, 0, 0, 0, 1, 0, 0],\n",
    "              [0, 0, 0, 0, 0, 1, 0, 0, 1, 0, 1, 0],\n",
    "              [0, 0, 0, 0, 0, 0, 0, 0, 0, 1, 0, 1],\n",
    "              [0, 0, 0, 0, 0, 0, 0, 1, 0, 0, 1, 0]])"
   ]
  },
  {
   "cell_type": "code",
   "execution_count": 18,
   "id": "6afb2221",
   "metadata": {
    "ExecuteTime": {
     "end_time": "2023-03-11T16:29:30.936400Z",
     "start_time": "2023-03-11T16:29:30.931240Z"
    }
   },
   "outputs": [
    {
     "data": {
      "text/plain": [
       "{0: 'A',\n",
       " 1: 'B',\n",
       " 2: 'C',\n",
       " 3: 'D',\n",
       " 4: 'E',\n",
       " 5: 'F',\n",
       " 6: 'G',\n",
       " 7: 'H',\n",
       " 8: 'I',\n",
       " 9: 'J',\n",
       " 10: 'K',\n",
       " 11: 'L'}"
      ]
     },
     "execution_count": 18,
     "metadata": {},
     "output_type": "execute_result"
    }
   ],
   "source": [
    "state_to_location = {state: location for location, \n",
    "                     state in location_to_state.items()}\n",
    "state_to_location            "
   ]
  },
  {
   "cell_type": "code",
   "execution_count": 19,
   "id": "900f02e5",
   "metadata": {
    "ExecuteTime": {
     "end_time": "2023-03-11T16:42:07.942472Z",
     "start_time": "2023-03-11T16:42:07.928925Z"
    }
   },
   "outputs": [],
   "source": [
    "def route(starting_location, ending_location):\n",
    "    ending_state = location_to_state[ending_location]\n",
    "    \n",
    "    R_new = np.copy(R)\n",
    "    R_new[ending_state, ending_state] = 1000\n",
    "    Q = np.array(np.zeros([12,12]))\n",
    "    for i in range(1000):\n",
    "        current_state = np.random.randint(0,12)\n",
    "        playable_actions = []\n",
    "        for j in range(12):\n",
    "            if R_new[current_state, j] > 0:\n",
    "                playable_actions.append(j)\n",
    "        next_state = np.random.choice(playable_actions)\n",
    "        TD = R_new[current_state, next_state] + gamma * \\\n",
    "            Q[next_state, np.argmax(Q[next_state,])] - Q[current_state, next_state]\n",
    "        Q[current_state, next_state] = Q[current_state, next_state] + alpha * TD\n",
    "    route = [starting_location]\n",
    "    next_location = starting_location\n",
    "    while (next_location != ending_location):\n",
    "        starting_state = location_to_state[starting_location]\n",
    "        next_state = np.argmax(Q[starting_state,])\n",
    "        next_location = state_to_location[next_state]\n",
    "        route.append(next_location)\n",
    "        starting_location = next_location\n",
    "    return route\n"
   ]
  },
  {
   "cell_type": "code",
   "execution_count": 20,
   "id": "88736c2b",
   "metadata": {
    "ExecuteTime": {
     "end_time": "2023-03-11T16:42:13.393964Z",
     "start_time": "2023-03-11T16:42:13.356793Z"
    }
   },
   "outputs": [
    {
     "data": {
      "text/plain": [
       "['E', 'I', 'J', 'F', 'B', 'C', 'G']"
      ]
     },
     "execution_count": 20,
     "metadata": {},
     "output_type": "execute_result"
    }
   ],
   "source": [
    "route('E', 'G')\n"
   ]
  },
  {
   "cell_type": "code",
   "execution_count": 21,
   "id": "16a5dd99",
   "metadata": {
    "ExecuteTime": {
     "end_time": "2023-03-11T16:42:30.579949Z",
     "start_time": "2023-03-11T16:42:30.552215Z"
    }
   },
   "outputs": [
    {
     "data": {
      "text/plain": [
       "['A', 'B', 'F', 'J', 'K']"
      ]
     },
     "execution_count": 21,
     "metadata": {},
     "output_type": "execute_result"
    }
   ],
   "source": [
    "route('A', 'K')\n"
   ]
  },
  {
   "cell_type": "code",
   "execution_count": 22,
   "id": "8a1d84fe",
   "metadata": {
    "ExecuteTime": {
     "end_time": "2023-03-11T16:42:54.038334Z",
     "start_time": "2023-03-11T16:42:54.026836Z"
    }
   },
   "outputs": [],
   "source": [
    "def best_route(starting_location, intermediary_location, ending_location):\n",
    "    # 3 個點的路由 = 2 個點的路由 + 2 個點的路由\n",
    "    return route(starting_location, intermediary_location) + route(intermediary_location, ending_location)[1:]"
   ]
  },
  {
   "cell_type": "code",
   "execution_count": 23,
   "id": "3953c790",
   "metadata": {
    "ExecuteTime": {
     "end_time": "2023-03-11T16:42:59.815402Z",
     "start_time": "2023-03-11T16:42:59.777886Z"
    }
   },
   "outputs": [
    {
     "data": {
      "text/plain": [
       "['E', 'I', 'J', 'K', 'L', 'H', 'G']"
      ]
     },
     "execution_count": 23,
     "metadata": {},
     "output_type": "execute_result"
    }
   ],
   "source": [
    "best_route('E', 'K', 'G')\n"
   ]
  },
  {
   "cell_type": "code",
   "execution_count": 25,
   "id": "6b883761",
   "metadata": {
    "ExecuteTime": {
     "end_time": "2023-03-11T16:43:20.751338Z",
     "start_time": "2023-03-11T16:43:20.679231Z"
    }
   },
   "outputs": [
    {
     "name": "stdout",
     "output_type": "stream",
     "text": [
      "最佳路由: \n",
      "A, B, C, G, H, L, K\n"
     ]
    }
   ],
   "source": [
    "initial = \"A\" \n",
    "intermediary = \"G\" \n",
    "final = \"K\" \n",
    "best = best_route(initial, intermediary, final)\n",
    "print('最佳路由: ')\n",
    "print(*best, sep=', ')"
   ]
  },
  {
   "cell_type": "code",
   "execution_count": null,
   "id": "e89c737b",
   "metadata": {},
   "outputs": [],
   "source": []
  }
 ],
 "metadata": {
  "kernelspec": {
   "display_name": "Python 3 (ipykernel)",
   "language": "python",
   "name": "python3"
  },
  "language_info": {
   "codemirror_mode": {
    "name": "ipython",
    "version": 3
   },
   "file_extension": ".py",
   "mimetype": "text/x-python",
   "name": "python",
   "nbconvert_exporter": "python",
   "pygments_lexer": "ipython3",
   "version": "3.8.8"
  },
  "varInspector": {
   "cols": {
    "lenName": 16,
    "lenType": 16,
    "lenVar": 40
   },
   "kernels_config": {
    "python": {
     "delete_cmd_postfix": "",
     "delete_cmd_prefix": "del ",
     "library": "var_list.py",
     "varRefreshCmd": "print(var_dic_list())"
    },
    "r": {
     "delete_cmd_postfix": ") ",
     "delete_cmd_prefix": "rm(",
     "library": "var_list.r",
     "varRefreshCmd": "cat(var_dic_list()) "
    }
   },
   "types_to_exclude": [
    "module",
    "function",
    "builtin_function_or_method",
    "instance",
    "_Feature"
   ],
   "window_display": false
  }
 },
 "nbformat": 4,
 "nbformat_minor": 5
}
