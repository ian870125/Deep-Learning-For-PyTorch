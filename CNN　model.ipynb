{
 "cells": [
  {
   "cell_type": "code",
   "execution_count": 2,
   "id": "489b7870",
   "metadata": {},
   "outputs": [],
   "source": [
    "import torch\n",
    "from torchvision import models\n",
    "from torch import nn\n",
    "import numpy as np\n",
    "from torchsummary import summary"
   ]
  },
  {
   "cell_type": "code",
   "execution_count": 3,
   "id": "5df33663",
   "metadata": {},
   "outputs": [
    {
     "data": {
      "text/plain": [
       "'cuda'"
      ]
     },
     "execution_count": 3,
     "metadata": {},
     "output_type": "execute_result"
    }
   ],
   "source": [
    "device = torch.device(\"cuda\" if torch.cuda.is_available() else \"cpu\")\n",
    "\"cuda\" if torch.cuda.is_available() else \"cpu\""
   ]
  },
  {
   "cell_type": "code",
   "execution_count": 4,
   "id": "54ae2029",
   "metadata": {},
   "outputs": [
    {
     "name": "stderr",
     "output_type": "stream",
     "text": [
      "Downloading: \"https://download.pytorch.org/models/vgg16-397923af.pth\" to C:\\Users\\ian/.cache\\torch\\hub\\checkpoints\\vgg16-397923af.pth\n"
     ]
    },
    {
     "data": {
      "application/vnd.jupyter.widget-view+json": {
       "model_id": "af23801160964760bd61a1617af7080f",
       "version_major": 2,
       "version_minor": 0
      },
      "text/plain": [
       "  0%|          | 0.00/528M [00:00<?, ?B/s]"
      ]
     },
     "metadata": {},
     "output_type": "display_data"
    }
   ],
   "source": [
    "model = models.vgg16(pretrained = True)"
   ]
  },
  {
   "cell_type": "code",
   "execution_count": 5,
   "id": "054056be",
   "metadata": {},
   "outputs": [
    {
     "name": "stdout",
     "output_type": "stream",
     "text": [
      "Children Counter:  0  Layer Name:  features\n",
      "Children Counter:  1  Layer Name:  avgpool\n",
      "Children Counter:  2  Layer Name:  classifier\n"
     ]
    }
   ],
   "source": [
    "children_counter = 0\n",
    "for n,c in model.named_children():\n",
    "    print(\"Children Counter: \",children_counter,\" Layer Name: \",n)\n",
    "    children_counter+=1"
   ]
  },
  {
   "cell_type": "code",
   "execution_count": 7,
   "id": "5d25efb7",
   "metadata": {},
   "outputs": [
    {
     "data": {
      "text/plain": [
       "<bound method Module.modules of VGG(\n",
       "  (features): Sequential(\n",
       "    (0): Conv2d(3, 64, kernel_size=(3, 3), stride=(1, 1), padding=(1, 1))\n",
       "    (1): ReLU(inplace=True)\n",
       "    (2): Conv2d(64, 64, kernel_size=(3, 3), stride=(1, 1), padding=(1, 1))\n",
       "    (3): ReLU(inplace=True)\n",
       "    (4): MaxPool2d(kernel_size=2, stride=2, padding=0, dilation=1, ceil_mode=False)\n",
       "    (5): Conv2d(64, 128, kernel_size=(3, 3), stride=(1, 1), padding=(1, 1))\n",
       "    (6): ReLU(inplace=True)\n",
       "    (7): Conv2d(128, 128, kernel_size=(3, 3), stride=(1, 1), padding=(1, 1))\n",
       "    (8): ReLU(inplace=True)\n",
       "    (9): MaxPool2d(kernel_size=2, stride=2, padding=0, dilation=1, ceil_mode=False)\n",
       "    (10): Conv2d(128, 256, kernel_size=(3, 3), stride=(1, 1), padding=(1, 1))\n",
       "    (11): ReLU(inplace=True)\n",
       "    (12): Conv2d(256, 256, kernel_size=(3, 3), stride=(1, 1), padding=(1, 1))\n",
       "    (13): ReLU(inplace=True)\n",
       "    (14): Conv2d(256, 256, kernel_size=(3, 3), stride=(1, 1), padding=(1, 1))\n",
       "    (15): ReLU(inplace=True)\n",
       "    (16): MaxPool2d(kernel_size=2, stride=2, padding=0, dilation=1, ceil_mode=False)\n",
       "    (17): Conv2d(256, 512, kernel_size=(3, 3), stride=(1, 1), padding=(1, 1))\n",
       "    (18): ReLU(inplace=True)\n",
       "    (19): Conv2d(512, 512, kernel_size=(3, 3), stride=(1, 1), padding=(1, 1))\n",
       "    (20): ReLU(inplace=True)\n",
       "    (21): Conv2d(512, 512, kernel_size=(3, 3), stride=(1, 1), padding=(1, 1))\n",
       "    (22): ReLU(inplace=True)\n",
       "    (23): MaxPool2d(kernel_size=2, stride=2, padding=0, dilation=1, ceil_mode=False)\n",
       "    (24): Conv2d(512, 512, kernel_size=(3, 3), stride=(1, 1), padding=(1, 1))\n",
       "    (25): ReLU(inplace=True)\n",
       "    (26): Conv2d(512, 512, kernel_size=(3, 3), stride=(1, 1), padding=(1, 1))\n",
       "    (27): ReLU(inplace=True)\n",
       "    (28): Conv2d(512, 512, kernel_size=(3, 3), stride=(1, 1), padding=(1, 1))\n",
       "    (29): ReLU(inplace=True)\n",
       "    (30): MaxPool2d(kernel_size=2, stride=2, padding=0, dilation=1, ceil_mode=False)\n",
       "  )\n",
       "  (avgpool): AdaptiveAvgPool2d(output_size=(7, 7))\n",
       "  (classifier): Sequential(\n",
       "    (0): Linear(in_features=25088, out_features=4096, bias=True)\n",
       "    (1): ReLU(inplace=True)\n",
       "    (2): Dropout(p=0.5, inplace=False)\n",
       "    (3): Linear(in_features=4096, out_features=4096, bias=True)\n",
       "    (4): ReLU(inplace=True)\n",
       "    (5): Dropout(p=0.5, inplace=False)\n",
       "    (6): Linear(in_features=4096, out_features=1000, bias=True)\n",
       "  )\n",
       ")>"
      ]
     },
     "execution_count": 7,
     "metadata": {},
     "output_type": "execute_result"
    }
   ],
   "source": [
    "model.modules"
   ]
  },
  {
   "cell_type": "code",
   "execution_count": 16,
   "id": "73c13cea",
   "metadata": {},
   "outputs": [
    {
     "data": {
      "text/plain": [
       "Sequential(\n",
       "  (0): Sequential(\n",
       "    (0): Conv2d(3, 64, kernel_size=(3, 3), stride=(1, 1), padding=(1, 1))\n",
       "    (1): ReLU(inplace=True)\n",
       "    (2): Conv2d(64, 64, kernel_size=(3, 3), stride=(1, 1), padding=(1, 1))\n",
       "    (3): ReLU(inplace=True)\n",
       "    (4): MaxPool2d(kernel_size=2, stride=2, padding=0, dilation=1, ceil_mode=False)\n",
       "    (5): Conv2d(64, 128, kernel_size=(3, 3), stride=(1, 1), padding=(1, 1))\n",
       "    (6): ReLU(inplace=True)\n",
       "    (7): Conv2d(128, 128, kernel_size=(3, 3), stride=(1, 1), padding=(1, 1))\n",
       "    (8): ReLU(inplace=True)\n",
       "    (9): MaxPool2d(kernel_size=2, stride=2, padding=0, dilation=1, ceil_mode=False)\n",
       "    (10): Conv2d(128, 256, kernel_size=(3, 3), stride=(1, 1), padding=(1, 1))\n",
       "    (11): ReLU(inplace=True)\n",
       "    (12): Conv2d(256, 256, kernel_size=(3, 3), stride=(1, 1), padding=(1, 1))\n",
       "    (13): ReLU(inplace=True)\n",
       "    (14): Conv2d(256, 256, kernel_size=(3, 3), stride=(1, 1), padding=(1, 1))\n",
       "    (15): ReLU(inplace=True)\n",
       "    (16): MaxPool2d(kernel_size=2, stride=2, padding=0, dilation=1, ceil_mode=False)\n",
       "    (17): Conv2d(256, 512, kernel_size=(3, 3), stride=(1, 1), padding=(1, 1))\n",
       "    (18): ReLU(inplace=True)\n",
       "    (19): Conv2d(512, 512, kernel_size=(3, 3), stride=(1, 1), padding=(1, 1))\n",
       "    (20): ReLU(inplace=True)\n",
       "    (21): Conv2d(512, 512, kernel_size=(3, 3), stride=(1, 1), padding=(1, 1))\n",
       "    (22): ReLU(inplace=True)\n",
       "    (23): MaxPool2d(kernel_size=2, stride=2, padding=0, dilation=1, ceil_mode=False)\n",
       "    (24): Conv2d(512, 512, kernel_size=(3, 3), stride=(1, 1), padding=(1, 1))\n",
       "    (25): ReLU(inplace=True)\n",
       "    (26): Conv2d(512, 512, kernel_size=(3, 3), stride=(1, 1), padding=(1, 1))\n",
       "    (27): ReLU(inplace=True)\n",
       "    (28): Conv2d(512, 512, kernel_size=(3, 3), stride=(1, 1), padding=(1, 1))\n",
       "    (29): ReLU(inplace=True)\n",
       "    (30): MaxPool2d(kernel_size=2, stride=2, padding=0, dilation=1, ceil_mode=False)\n",
       "  )\n",
       "  (1): AdaptiveAvgPool2d(output_size=(7, 7))\n",
       "  (2): Sequential(\n",
       "    (0): Linear(in_features=25088, out_features=4096, bias=True)\n",
       "    (1): ReLU(inplace=True)\n",
       "    (2): Dropout(p=0.5, inplace=False)\n",
       "    (3): Linear(in_features=4096, out_features=4096, bias=True)\n",
       "    (4): ReLU(inplace=True)\n",
       "    (5): Dropout(p=0.5, inplace=False)\n",
       "    (6): Linear(in_features=4096, out_features=1000, bias=True)\n",
       "  )\n",
       ")"
      ]
     },
     "execution_count": 16,
     "metadata": {},
     "output_type": "execute_result"
    }
   ],
   "source": [
    "torch.nn.Sequential(*list(model.children())[:])"
   ]
  },
  {
   "cell_type": "code",
   "execution_count": 18,
   "id": "e9831c93",
   "metadata": {},
   "outputs": [
    {
     "data": {
      "text/plain": [
       "odict_keys(['features', 'avgpool', 'classifier'])"
      ]
     },
     "execution_count": 18,
     "metadata": {},
     "output_type": "execute_result"
    }
   ],
   "source": [
    "model._modules.keys()"
   ]
  },
  {
   "cell_type": "code",
   "execution_count": 21,
   "id": "2e6f5c4f",
   "metadata": {},
   "outputs": [
    {
     "data": {
      "text/plain": [
       "Sequential(\n",
       "  (0): Conv2d(3, 64, kernel_size=(3, 3), stride=(1, 1), padding=(1, 1))\n",
       "  (1): ReLU(inplace=True)\n",
       "  (2): Conv2d(64, 64, kernel_size=(3, 3), stride=(1, 1), padding=(1, 1))\n",
       "  (3): ReLU(inplace=True)\n",
       "  (4): MaxPool2d(kernel_size=2, stride=2, padding=0, dilation=1, ceil_mode=False)\n",
       "  (5): Conv2d(64, 128, kernel_size=(3, 3), stride=(1, 1), padding=(1, 1))\n",
       "  (6): ReLU(inplace=True)\n",
       "  (7): Conv2d(128, 128, kernel_size=(3, 3), stride=(1, 1), padding=(1, 1))\n",
       "  (8): ReLU(inplace=True)\n",
       "  (9): MaxPool2d(kernel_size=2, stride=2, padding=0, dilation=1, ceil_mode=False)\n",
       "  (10): Conv2d(128, 256, kernel_size=(3, 3), stride=(1, 1), padding=(1, 1))\n",
       "  (11): ReLU(inplace=True)\n",
       "  (12): Conv2d(256, 256, kernel_size=(3, 3), stride=(1, 1), padding=(1, 1))\n",
       "  (13): ReLU(inplace=True)\n",
       "  (14): Conv2d(256, 256, kernel_size=(3, 3), stride=(1, 1), padding=(1, 1))\n",
       "  (15): ReLU(inplace=True)\n",
       "  (16): MaxPool2d(kernel_size=2, stride=2, padding=0, dilation=1, ceil_mode=False)\n",
       "  (17): Conv2d(256, 512, kernel_size=(3, 3), stride=(1, 1), padding=(1, 1))\n",
       "  (18): ReLU(inplace=True)\n",
       "  (19): Conv2d(512, 512, kernel_size=(3, 3), stride=(1, 1), padding=(1, 1))\n",
       "  (20): ReLU(inplace=True)\n",
       "  (21): Conv2d(512, 512, kernel_size=(3, 3), stride=(1, 1), padding=(1, 1))\n",
       "  (22): ReLU(inplace=True)\n",
       "  (23): MaxPool2d(kernel_size=2, stride=2, padding=0, dilation=1, ceil_mode=False)\n",
       "  (24): Conv2d(512, 512, kernel_size=(3, 3), stride=(1, 1), padding=(1, 1))\n",
       "  (25): ReLU(inplace=True)\n",
       "  (26): Conv2d(512, 512, kernel_size=(3, 3), stride=(1, 1), padding=(1, 1))\n",
       "  (27): ReLU(inplace=True)\n",
       "  (28): Conv2d(512, 512, kernel_size=(3, 3), stride=(1, 1), padding=(1, 1))\n",
       "  (29): ReLU(inplace=True)\n",
       "  (30): MaxPool2d(kernel_size=2, stride=2, padding=0, dilation=1, ceil_mode=False)\n",
       ")"
      ]
     },
     "execution_count": 21,
     "metadata": {},
     "output_type": "execute_result"
    }
   ],
   "source": [
    "model.features"
   ]
  },
  {
   "cell_type": "code",
   "execution_count": 25,
   "id": "b573eca2",
   "metadata": {},
   "outputs": [
    {
     "data": {
      "text/plain": [
       "torch.Size([1000, 4096])"
      ]
     },
     "execution_count": 25,
     "metadata": {},
     "output_type": "execute_result"
    }
   ],
   "source": [
    "model.classifier[-1].weight.shape"
   ]
  },
  {
   "cell_type": "code",
   "execution_count": 26,
   "id": "f1920ef5",
   "metadata": {},
   "outputs": [
    {
     "data": {
      "text/plain": [
       "1000"
      ]
     },
     "execution_count": 26,
     "metadata": {},
     "output_type": "execute_result"
    }
   ],
   "source": [
    "model.classifier[-1].out_features\n"
   ]
  },
  {
   "cell_type": "code",
   "execution_count": 27,
   "id": "d4f53906",
   "metadata": {},
   "outputs": [
    {
     "name": "stdout",
     "output_type": "stream",
     "text": [
      "----------------------------------------------------------------\n",
      "        Layer (type)               Output Shape         Param #\n",
      "================================================================\n",
      "            Conv2d-1         [-1, 64, 224, 224]           1,792\n",
      "              ReLU-2         [-1, 64, 224, 224]               0\n",
      "            Conv2d-3         [-1, 64, 224, 224]          36,928\n",
      "              ReLU-4         [-1, 64, 224, 224]               0\n",
      "         MaxPool2d-5         [-1, 64, 112, 112]               0\n",
      "            Conv2d-6        [-1, 128, 112, 112]          73,856\n",
      "              ReLU-7        [-1, 128, 112, 112]               0\n",
      "            Conv2d-8        [-1, 128, 112, 112]         147,584\n",
      "              ReLU-9        [-1, 128, 112, 112]               0\n",
      "        MaxPool2d-10          [-1, 128, 56, 56]               0\n",
      "           Conv2d-11          [-1, 256, 56, 56]         295,168\n",
      "             ReLU-12          [-1, 256, 56, 56]               0\n",
      "           Conv2d-13          [-1, 256, 56, 56]         590,080\n",
      "             ReLU-14          [-1, 256, 56, 56]               0\n",
      "           Conv2d-15          [-1, 256, 56, 56]         590,080\n",
      "             ReLU-16          [-1, 256, 56, 56]               0\n",
      "        MaxPool2d-17          [-1, 256, 28, 28]               0\n",
      "           Conv2d-18          [-1, 512, 28, 28]       1,180,160\n",
      "             ReLU-19          [-1, 512, 28, 28]               0\n",
      "           Conv2d-20          [-1, 512, 28, 28]       2,359,808\n",
      "             ReLU-21          [-1, 512, 28, 28]               0\n",
      "           Conv2d-22          [-1, 512, 28, 28]       2,359,808\n",
      "             ReLU-23          [-1, 512, 28, 28]               0\n",
      "        MaxPool2d-24          [-1, 512, 14, 14]               0\n",
      "           Conv2d-25          [-1, 512, 14, 14]       2,359,808\n",
      "             ReLU-26          [-1, 512, 14, 14]               0\n",
      "           Conv2d-27          [-1, 512, 14, 14]       2,359,808\n",
      "             ReLU-28          [-1, 512, 14, 14]               0\n",
      "           Conv2d-29          [-1, 512, 14, 14]       2,359,808\n",
      "             ReLU-30          [-1, 512, 14, 14]               0\n",
      "        MaxPool2d-31            [-1, 512, 7, 7]               0\n",
      "AdaptiveAvgPool2d-32            [-1, 512, 7, 7]               0\n",
      "           Linear-33                 [-1, 4096]     102,764,544\n",
      "             ReLU-34                 [-1, 4096]               0\n",
      "          Dropout-35                 [-1, 4096]               0\n",
      "           Linear-36                 [-1, 4096]      16,781,312\n",
      "             ReLU-37                 [-1, 4096]               0\n",
      "          Dropout-38                 [-1, 4096]               0\n",
      "           Linear-39                 [-1, 1000]       4,097,000\n",
      "================================================================\n",
      "Total params: 138,357,544\n",
      "Trainable params: 138,357,544\n",
      "Non-trainable params: 0\n",
      "----------------------------------------------------------------\n",
      "Input size (MB): 0.57\n",
      "Forward/backward pass size (MB): 218.78\n",
      "Params size (MB): 527.79\n",
      "Estimated Total Size (MB): 747.15\n",
      "----------------------------------------------------------------\n"
     ]
    }
   ],
   "source": [
    "model = model.to(device)\n",
    "summary(model, input_size=(3, 224, 224))"
   ]
  },
  {
   "cell_type": "code",
   "execution_count": 28,
   "id": "f6703b9d",
   "metadata": {},
   "outputs": [],
   "source": [
    "from PIL import Image\n",
    "from torchvision import transforms"
   ]
  },
  {
   "cell_type": "code",
   "execution_count": 29,
   "id": "c386f361",
   "metadata": {},
   "outputs": [],
   "source": [
    "filename = './images_test/cat.jpg'"
   ]
  },
  {
   "cell_type": "code",
   "execution_count": 30,
   "id": "ae9ec71c",
   "metadata": {},
   "outputs": [],
   "source": [
    "input_image = Image.open(filename)"
   ]
  },
  {
   "cell_type": "code",
   "execution_count": 31,
   "id": "e040a2b4",
   "metadata": {},
   "outputs": [],
   "source": [
    "transform = transforms.Compose([\n",
    "    transforms.Resize((224, 224)),\n",
    "    transforms.ToTensor(),\n",
    "    transforms.Normalize(mean = (0.485, 0.456, 0.406), std = [0.229, 0.224, 0.225])\n",
    "])"
   ]
  },
  {
   "cell_type": "code",
   "execution_count": 32,
   "id": "f7a46be9",
   "metadata": {},
   "outputs": [],
   "source": [
    "input_tensor = transform(input_image)"
   ]
  },
  {
   "cell_type": "code",
   "execution_count": 35,
   "id": "fda6d01c",
   "metadata": {},
   "outputs": [],
   "source": [
    "input_batch = input_tensor.unsqueeze(0).to(device)"
   ]
  },
  {
   "cell_type": "code",
   "execution_count": 40,
   "id": "6504b838",
   "metadata": {},
   "outputs": [],
   "source": [
    "model.eval()\n",
    "with torch.no_grad():\n",
    "    output = model(input_batch)"
   ]
  },
  {
   "cell_type": "code",
   "execution_count": 48,
   "id": "9bfc3e8a",
   "metadata": {},
   "outputs": [],
   "source": [
    "probabilities = torch.nn.functional.softmax(output[0], dim = 0)"
   ]
  },
  {
   "cell_type": "code",
   "execution_count": 55,
   "id": "07721649",
   "metadata": {},
   "outputs": [
    {
     "name": "stdout",
     "output_type": "stream",
     "text": [
      "285: 0.6066890954971313\n"
     ]
    }
   ],
   "source": [
    "print(f'{torch.argmax(probabilities).item()}: {torch.max(probabilities).item()}')\n"
   ]
  },
  {
   "cell_type": "code",
   "execution_count": 57,
   "id": "57637e39",
   "metadata": {},
   "outputs": [
    {
     "ename": "FileNotFoundError",
     "evalue": "[Errno 2] No such file or directory: 'imagenet.categories'",
     "output_type": "error",
     "traceback": [
      "\u001b[1;31m---------------------------------------------------------------------------\u001b[0m",
      "\u001b[1;31mFileNotFoundError\u001b[0m                         Traceback (most recent call last)",
      "\u001b[1;32m<ipython-input-57-31cc88d50e16>\u001b[0m in \u001b[0;36m<module>\u001b[1;34m\u001b[0m\n\u001b[1;32m----> 1\u001b[1;33m \u001b[1;32mwith\u001b[0m \u001b[0mopen\u001b[0m\u001b[1;33m(\u001b[0m\u001b[1;34m\"imagenet.categories\"\u001b[0m\u001b[1;33m,\u001b[0m \u001b[1;34m\"r\"\u001b[0m\u001b[1;33m)\u001b[0m \u001b[1;32mas\u001b[0m \u001b[0mf\u001b[0m\u001b[1;33m:\u001b[0m\u001b[1;33m\u001b[0m\u001b[1;33m\u001b[0m\u001b[0m\n\u001b[0m\u001b[0;32m      2\u001b[0m     \u001b[1;31m# 取第一欄\u001b[0m\u001b[1;33m\u001b[0m\u001b[1;33m\u001b[0m\u001b[1;33m\u001b[0m\u001b[0m\n\u001b[0;32m      3\u001b[0m     \u001b[0mcategories\u001b[0m \u001b[1;33m=\u001b[0m \u001b[1;33m[\u001b[0m\u001b[0ms\u001b[0m\u001b[1;33m.\u001b[0m\u001b[0mstrip\u001b[0m\u001b[1;33m(\u001b[0m\u001b[1;33m)\u001b[0m\u001b[1;33m.\u001b[0m\u001b[0msplit\u001b[0m\u001b[1;33m(\u001b[0m\u001b[1;34m','\u001b[0m\u001b[1;33m)\u001b[0m\u001b[1;33m[\u001b[0m\u001b[1;36m0\u001b[0m\u001b[1;33m]\u001b[0m \u001b[1;32mfor\u001b[0m \u001b[0ms\u001b[0m \u001b[1;32min\u001b[0m \u001b[0mf\u001b[0m\u001b[1;33m.\u001b[0m\u001b[0mreadlines\u001b[0m\u001b[1;33m(\u001b[0m\u001b[1;33m)\u001b[0m\u001b[1;33m]\u001b[0m\u001b[1;33m\u001b[0m\u001b[1;33m\u001b[0m\u001b[0m\n\u001b[0;32m      4\u001b[0m \u001b[0mcategories\u001b[0m\u001b[1;33m[\u001b[0m\u001b[0mtorch\u001b[0m\u001b[1;33m.\u001b[0m\u001b[0margmax\u001b[0m\u001b[1;33m(\u001b[0m\u001b[0mprobabilities\u001b[0m\u001b[1;33m)\u001b[0m\u001b[1;33m.\u001b[0m\u001b[0mitem\u001b[0m\u001b[1;33m(\u001b[0m\u001b[1;33m)\u001b[0m\u001b[1;33m]\u001b[0m\u001b[1;33m\u001b[0m\u001b[1;33m\u001b[0m\u001b[0m\n",
      "\u001b[1;31mFileNotFoundError\u001b[0m: [Errno 2] No such file or directory: 'imagenet.categories'"
     ]
    }
   ],
   "source": [
    "with open(\"imagenet.categories\", \"r\") as f:\n",
    "    # 取第一欄\n",
    "    categories = [s.strip().split(',')[0] for s in f.readlines()]\n",
    "categories[torch.argmax(probabilities).item()]"
   ]
  },
  {
   "cell_type": "code",
   "execution_count": 58,
   "id": "caa95502",
   "metadata": {},
   "outputs": [],
   "source": [
    "import torch\n",
    "from torchvision import models\n",
    "from torch import nn\n",
    "from torchsummary import summary\n",
    "import numpy as np"
   ]
  },
  {
   "cell_type": "code",
   "execution_count": 59,
   "id": "c67c451f",
   "metadata": {},
   "outputs": [],
   "source": [
    "device = 'cuda' if torch.cuda.is_available() else 'cpu'"
   ]
  },
  {
   "cell_type": "code",
   "execution_count": 61,
   "id": "1cb4e809",
   "metadata": {},
   "outputs": [
    {
     "data": {
      "text/plain": [
       "<bound method Module.modules of VGG(\n",
       "  (features): Sequential(\n",
       "    (0): Conv2d(3, 64, kernel_size=(3, 3), stride=(1, 1), padding=(1, 1))\n",
       "    (1): ReLU(inplace=True)\n",
       "    (2): Conv2d(64, 64, kernel_size=(3, 3), stride=(1, 1), padding=(1, 1))\n",
       "    (3): ReLU(inplace=True)\n",
       "    (4): MaxPool2d(kernel_size=2, stride=2, padding=0, dilation=1, ceil_mode=False)\n",
       "    (5): Conv2d(64, 128, kernel_size=(3, 3), stride=(1, 1), padding=(1, 1))\n",
       "    (6): ReLU(inplace=True)\n",
       "    (7): Conv2d(128, 128, kernel_size=(3, 3), stride=(1, 1), padding=(1, 1))\n",
       "    (8): ReLU(inplace=True)\n",
       "    (9): MaxPool2d(kernel_size=2, stride=2, padding=0, dilation=1, ceil_mode=False)\n",
       "    (10): Conv2d(128, 256, kernel_size=(3, 3), stride=(1, 1), padding=(1, 1))\n",
       "    (11): ReLU(inplace=True)\n",
       "    (12): Conv2d(256, 256, kernel_size=(3, 3), stride=(1, 1), padding=(1, 1))\n",
       "    (13): ReLU(inplace=True)\n",
       "    (14): Conv2d(256, 256, kernel_size=(3, 3), stride=(1, 1), padding=(1, 1))\n",
       "    (15): ReLU(inplace=True)\n",
       "    (16): MaxPool2d(kernel_size=2, stride=2, padding=0, dilation=1, ceil_mode=False)\n",
       "    (17): Conv2d(256, 512, kernel_size=(3, 3), stride=(1, 1), padding=(1, 1))\n",
       "    (18): ReLU(inplace=True)\n",
       "    (19): Conv2d(512, 512, kernel_size=(3, 3), stride=(1, 1), padding=(1, 1))\n",
       "    (20): ReLU(inplace=True)\n",
       "    (21): Conv2d(512, 512, kernel_size=(3, 3), stride=(1, 1), padding=(1, 1))\n",
       "    (22): ReLU(inplace=True)\n",
       "    (23): MaxPool2d(kernel_size=2, stride=2, padding=0, dilation=1, ceil_mode=False)\n",
       "    (24): Conv2d(512, 512, kernel_size=(3, 3), stride=(1, 1), padding=(1, 1))\n",
       "    (25): ReLU(inplace=True)\n",
       "    (26): Conv2d(512, 512, kernel_size=(3, 3), stride=(1, 1), padding=(1, 1))\n",
       "    (27): ReLU(inplace=True)\n",
       "    (28): Conv2d(512, 512, kernel_size=(3, 3), stride=(1, 1), padding=(1, 1))\n",
       "    (29): ReLU(inplace=True)\n",
       "    (30): MaxPool2d(kernel_size=2, stride=2, padding=0, dilation=1, ceil_mode=False)\n",
       "  )\n",
       "  (avgpool): AdaptiveAvgPool2d(output_size=(7, 7))\n",
       "  (classifier): Sequential(\n",
       "    (0): Linear(in_features=25088, out_features=4096, bias=True)\n",
       "    (1): ReLU(inplace=True)\n",
       "    (2): Dropout(p=0.5, inplace=False)\n",
       "    (3): Linear(in_features=4096, out_features=4096, bias=True)\n",
       "    (4): ReLU(inplace=True)\n",
       "    (5): Dropout(p=0.5, inplace=False)\n",
       "    (6): Linear(in_features=4096, out_features=1000, bias=True)\n",
       "  )\n",
       ")>"
      ]
     },
     "execution_count": 61,
     "metadata": {},
     "output_type": "execute_result"
    }
   ],
   "source": [
    "model = models.vgg16(pretrained = True)\n",
    "model.modules"
   ]
  },
  {
   "cell_type": "code",
   "execution_count": 75,
   "id": "237754cd",
   "metadata": {},
   "outputs": [
    {
     "name": "stdout",
     "output_type": "stream",
     "text": [
      "found !!\n"
     ]
    },
    {
     "data": {
      "text/plain": [
       "OrderedDict([('pretrained', None),\n",
       "             ('net', Sequential(\n",
       "                (0): Sequential(\n",
       "                  (0): Conv2d(3, 64, kernel_size=(3, 3), stride=(1, 1), padding=(1, 1))\n",
       "                  (1): ReLU(inplace=True)\n",
       "                  (2): Conv2d(64, 64, kernel_size=(3, 3), stride=(1, 1), padding=(1, 1))\n",
       "                  (3): ReLU(inplace=True)\n",
       "                  (4): MaxPool2d(kernel_size=2, stride=2, padding=0, dilation=1, ceil_mode=False)\n",
       "                  (5): Conv2d(64, 128, kernel_size=(3, 3), stride=(1, 1), padding=(1, 1))\n",
       "                  (6): ReLU(inplace=True)\n",
       "                  (7): Conv2d(128, 128, kernel_size=(3, 3), stride=(1, 1), padding=(1, 1))\n",
       "                  (8): ReLU(inplace=True)\n",
       "                  (9): MaxPool2d(kernel_size=2, stride=2, padding=0, dilation=1, ceil_mode=False)\n",
       "                  (10): Conv2d(128, 256, kernel_size=(3, 3), stride=(1, 1), padding=(1, 1))\n",
       "                  (11): ReLU(inplace=True)\n",
       "                  (12): Conv2d(256, 256, kernel_size=(3, 3), stride=(1, 1), padding=(1, 1))\n",
       "                  (13): ReLU(inplace=True)\n",
       "                  (14): Conv2d(256, 256, kernel_size=(3, 3), stride=(1, 1), padding=(1, 1))\n",
       "                  (15): ReLU(inplace=True)\n",
       "                  (16): MaxPool2d(kernel_size=2, stride=2, padding=0, dilation=1, ceil_mode=False)\n",
       "                  (17): Conv2d(256, 512, kernel_size=(3, 3), stride=(1, 1), padding=(1, 1))\n",
       "                  (18): ReLU(inplace=True)\n",
       "                  (19): Conv2d(512, 512, kernel_size=(3, 3), stride=(1, 1), padding=(1, 1))\n",
       "                  (20): ReLU(inplace=True)\n",
       "                  (21): Conv2d(512, 512, kernel_size=(3, 3), stride=(1, 1), padding=(1, 1))\n",
       "                  (22): ReLU(inplace=True)\n",
       "                  (23): MaxPool2d(kernel_size=2, stride=2, padding=0, dilation=1, ceil_mode=False)\n",
       "                  (24): Conv2d(512, 512, kernel_size=(3, 3), stride=(1, 1), padding=(1, 1))\n",
       "                  (25): ReLU(inplace=True)\n",
       "                  (26): Conv2d(512, 512, kernel_size=(3, 3), stride=(1, 1), padding=(1, 1))\n",
       "                  (27): ReLU(inplace=True)\n",
       "                  (28): Conv2d(512, 512, kernel_size=(3, 3), stride=(1, 1), padding=(1, 1))\n",
       "                  (29): ReLU(inplace=True)\n",
       "                  (30): MaxPool2d(kernel_size=2, stride=2, padding=0, dilation=1, ceil_mode=False)\n",
       "                )\n",
       "                (1): AdaptiveAvgPool2d(output_size=(7, 7))\n",
       "              ))])"
      ]
     },
     "execution_count": 75,
     "metadata": {},
     "output_type": "execute_result"
    }
   ],
   "source": [
    "class new_model(nn.Module):\n",
    "    def __init__(self, pretrained, output_layer):\n",
    "        super().__init__()\n",
    "        self.output_layer = output_layer\n",
    "        self.pretrained = pretrained\n",
    "        self.children_list = []\n",
    "        \n",
    "        for n, c in self.pretrained.named_children():\n",
    "            self.children_list.append(c)\n",
    "            if n == self.output_layer:\n",
    "                print('found !!')\n",
    "                break\n",
    "        self.net = nn.Sequential(*self.children_list)\n",
    "        self.pretrained = None\n",
    "    def forward(self, x):\n",
    "        x = self.net(x)\n",
    "        return x\n",
    "model = new_model(model, 'avgpool')\n",
    "model = model.to(device)\n",
    "model._modules"
   ]
  },
  {
   "cell_type": "code",
   "execution_count": 76,
   "id": "7934c01b",
   "metadata": {},
   "outputs": [
    {
     "data": {
      "text/plain": [
       "<bound method Module.modules of new_model(\n",
       "  (pretrained): None\n",
       "  (net): Sequential(\n",
       "    (0): Sequential(\n",
       "      (0): Conv2d(3, 64, kernel_size=(3, 3), stride=(1, 1), padding=(1, 1))\n",
       "      (1): ReLU(inplace=True)\n",
       "      (2): Conv2d(64, 64, kernel_size=(3, 3), stride=(1, 1), padding=(1, 1))\n",
       "      (3): ReLU(inplace=True)\n",
       "      (4): MaxPool2d(kernel_size=2, stride=2, padding=0, dilation=1, ceil_mode=False)\n",
       "      (5): Conv2d(64, 128, kernel_size=(3, 3), stride=(1, 1), padding=(1, 1))\n",
       "      (6): ReLU(inplace=True)\n",
       "      (7): Conv2d(128, 128, kernel_size=(3, 3), stride=(1, 1), padding=(1, 1))\n",
       "      (8): ReLU(inplace=True)\n",
       "      (9): MaxPool2d(kernel_size=2, stride=2, padding=0, dilation=1, ceil_mode=False)\n",
       "      (10): Conv2d(128, 256, kernel_size=(3, 3), stride=(1, 1), padding=(1, 1))\n",
       "      (11): ReLU(inplace=True)\n",
       "      (12): Conv2d(256, 256, kernel_size=(3, 3), stride=(1, 1), padding=(1, 1))\n",
       "      (13): ReLU(inplace=True)\n",
       "      (14): Conv2d(256, 256, kernel_size=(3, 3), stride=(1, 1), padding=(1, 1))\n",
       "      (15): ReLU(inplace=True)\n",
       "      (16): MaxPool2d(kernel_size=2, stride=2, padding=0, dilation=1, ceil_mode=False)\n",
       "      (17): Conv2d(256, 512, kernel_size=(3, 3), stride=(1, 1), padding=(1, 1))\n",
       "      (18): ReLU(inplace=True)\n",
       "      (19): Conv2d(512, 512, kernel_size=(3, 3), stride=(1, 1), padding=(1, 1))\n",
       "      (20): ReLU(inplace=True)\n",
       "      (21): Conv2d(512, 512, kernel_size=(3, 3), stride=(1, 1), padding=(1, 1))\n",
       "      (22): ReLU(inplace=True)\n",
       "      (23): MaxPool2d(kernel_size=2, stride=2, padding=0, dilation=1, ceil_mode=False)\n",
       "      (24): Conv2d(512, 512, kernel_size=(3, 3), stride=(1, 1), padding=(1, 1))\n",
       "      (25): ReLU(inplace=True)\n",
       "      (26): Conv2d(512, 512, kernel_size=(3, 3), stride=(1, 1), padding=(1, 1))\n",
       "      (27): ReLU(inplace=True)\n",
       "      (28): Conv2d(512, 512, kernel_size=(3, 3), stride=(1, 1), padding=(1, 1))\n",
       "      (29): ReLU(inplace=True)\n",
       "      (30): MaxPool2d(kernel_size=2, stride=2, padding=0, dilation=1, ceil_mode=False)\n",
       "    )\n",
       "    (1): AdaptiveAvgPool2d(output_size=(7, 7))\n",
       "  )\n",
       ")>"
      ]
     },
     "execution_count": 76,
     "metadata": {},
     "output_type": "execute_result"
    }
   ],
   "source": [
    "model.modules"
   ]
  },
  {
   "cell_type": "code",
   "execution_count": 74,
   "id": "194e1008",
   "metadata": {},
   "outputs": [
    {
     "data": {
      "text/plain": [
       "[('features',\n",
       "  Sequential(\n",
       "    (0): Conv2d(3, 64, kernel_size=(3, 3), stride=(1, 1), padding=(1, 1))\n",
       "    (1): ReLU(inplace=True)\n",
       "    (2): Conv2d(64, 64, kernel_size=(3, 3), stride=(1, 1), padding=(1, 1))\n",
       "    (3): ReLU(inplace=True)\n",
       "    (4): MaxPool2d(kernel_size=2, stride=2, padding=0, dilation=1, ceil_mode=False)\n",
       "    (5): Conv2d(64, 128, kernel_size=(3, 3), stride=(1, 1), padding=(1, 1))\n",
       "    (6): ReLU(inplace=True)\n",
       "    (7): Conv2d(128, 128, kernel_size=(3, 3), stride=(1, 1), padding=(1, 1))\n",
       "    (8): ReLU(inplace=True)\n",
       "    (9): MaxPool2d(kernel_size=2, stride=2, padding=0, dilation=1, ceil_mode=False)\n",
       "    (10): Conv2d(128, 256, kernel_size=(3, 3), stride=(1, 1), padding=(1, 1))\n",
       "    (11): ReLU(inplace=True)\n",
       "    (12): Conv2d(256, 256, kernel_size=(3, 3), stride=(1, 1), padding=(1, 1))\n",
       "    (13): ReLU(inplace=True)\n",
       "    (14): Conv2d(256, 256, kernel_size=(3, 3), stride=(1, 1), padding=(1, 1))\n",
       "    (15): ReLU(inplace=True)\n",
       "    (16): MaxPool2d(kernel_size=2, stride=2, padding=0, dilation=1, ceil_mode=False)\n",
       "    (17): Conv2d(256, 512, kernel_size=(3, 3), stride=(1, 1), padding=(1, 1))\n",
       "    (18): ReLU(inplace=True)\n",
       "    (19): Conv2d(512, 512, kernel_size=(3, 3), stride=(1, 1), padding=(1, 1))\n",
       "    (20): ReLU(inplace=True)\n",
       "    (21): Conv2d(512, 512, kernel_size=(3, 3), stride=(1, 1), padding=(1, 1))\n",
       "    (22): ReLU(inplace=True)\n",
       "    (23): MaxPool2d(kernel_size=2, stride=2, padding=0, dilation=1, ceil_mode=False)\n",
       "    (24): Conv2d(512, 512, kernel_size=(3, 3), stride=(1, 1), padding=(1, 1))\n",
       "    (25): ReLU(inplace=True)\n",
       "    (26): Conv2d(512, 512, kernel_size=(3, 3), stride=(1, 1), padding=(1, 1))\n",
       "    (27): ReLU(inplace=True)\n",
       "    (28): Conv2d(512, 512, kernel_size=(3, 3), stride=(1, 1), padding=(1, 1))\n",
       "    (29): ReLU(inplace=True)\n",
       "    (30): MaxPool2d(kernel_size=2, stride=2, padding=0, dilation=1, ceil_mode=False)\n",
       "  )),\n",
       " ('avgpool', AdaptiveAvgPool2d(output_size=(7, 7))),\n",
       " ('classifier',\n",
       "  Sequential(\n",
       "    (0): Linear(in_features=25088, out_features=4096, bias=True)\n",
       "    (1): ReLU(inplace=True)\n",
       "    (2): Dropout(p=0.5, inplace=False)\n",
       "    (3): Linear(in_features=4096, out_features=4096, bias=True)\n",
       "    (4): ReLU(inplace=True)\n",
       "    (5): Dropout(p=0.5, inplace=False)\n",
       "    (6): Linear(in_features=4096, out_features=1000, bias=True)\n",
       "  ))]"
      ]
     },
     "execution_count": 74,
     "metadata": {},
     "output_type": "execute_result"
    }
   ],
   "source": [
    "list(model.named_children())"
   ]
  },
  {
   "cell_type": "code",
   "execution_count": 77,
   "id": "fa5c7d3b",
   "metadata": {},
   "outputs": [],
   "source": [
    "from PIL import Image\n",
    "from torchvision import transforms"
   ]
  },
  {
   "cell_type": "code",
   "execution_count": 81,
   "id": "45bf9f4d",
   "metadata": {},
   "outputs": [],
   "source": [
    "filename = './images_test/tiger2.jpg'\n",
    "input_image = Image.open(filename)\n",
    "transform = transforms.Compose([\n",
    "    transforms.Resize((224, 224)),\n",
    "    transforms.ToTensor(),\n",
    "    transforms.Normalize(mean = [0.485, 0.456, 0.406], std = [0.229, 0.224, 0.225])\n",
    "])"
   ]
  },
  {
   "cell_type": "code",
   "execution_count": 82,
   "id": "5b9b16ea",
   "metadata": {},
   "outputs": [
    {
     "data": {
      "text/plain": [
       "tensor([[[[0.0000, 0.0000, 0.0000,  ..., 0.0000, 0.0000, 0.0000],\n",
       "          [0.0000, 0.0000, 0.0000,  ..., 0.2639, 0.0000, 0.0000],\n",
       "          [0.0000, 0.0000, 0.0000,  ..., 0.0000, 0.0000, 0.0000],\n",
       "          ...,\n",
       "          [2.1444, 0.0000, 0.0000,  ..., 0.0000, 0.0000, 0.3817],\n",
       "          [1.5378, 0.0000, 0.0000,  ..., 0.0000, 2.0310, 5.3875],\n",
       "          [0.0000, 0.0000, 0.0000,  ..., 0.5578, 2.1862, 6.1961]],\n",
       "\n",
       "         [[0.0000, 0.0000, 0.0000,  ..., 0.0000, 0.3582, 0.6443],\n",
       "          [0.6325, 0.0000, 0.0000,  ..., 0.0000, 1.9570, 1.9593],\n",
       "          [2.0923, 0.3279, 0.0000,  ..., 0.0000, 0.0000, 1.4265],\n",
       "          ...,\n",
       "          [0.0000, 2.7189, 5.2889,  ..., 2.0368, 2.2243, 1.3909],\n",
       "          [0.0000, 3.1237, 3.3685,  ..., 0.4262, 1.1930, 0.6169],\n",
       "          [0.0000, 0.0000, 0.0000,  ..., 0.0000, 0.0000, 0.0000]],\n",
       "\n",
       "         [[0.0000, 0.0000, 0.0000,  ..., 0.0000, 0.0000, 0.0000],\n",
       "          [0.0000, 0.0000, 0.0000,  ..., 0.0000, 0.0000, 0.0000],\n",
       "          [0.0000, 0.0000, 2.0149,  ..., 0.0000, 0.0000, 0.0000],\n",
       "          ...,\n",
       "          [0.0000, 0.0000, 0.0000,  ..., 0.0000, 0.0000, 0.0000],\n",
       "          [0.0000, 0.0000, 0.0000,  ..., 0.0000, 0.0000, 0.0000],\n",
       "          [0.0000, 0.0000, 0.0000,  ..., 0.0000, 0.0000, 0.0000]],\n",
       "\n",
       "         ...,\n",
       "\n",
       "         [[0.0000, 0.0000, 0.0000,  ..., 0.0000, 0.0000, 0.2534],\n",
       "          [0.0000, 0.0000, 0.0000,  ..., 0.0000, 0.0000, 0.4784],\n",
       "          [4.6888, 0.0000, 0.0000,  ..., 0.0000, 0.0000, 0.0000],\n",
       "          ...,\n",
       "          [0.0000, 0.1431, 0.0000,  ..., 0.0000, 0.0000, 0.0000],\n",
       "          [0.0000, 3.3974, 1.6921,  ..., 0.0000, 0.8665, 0.0000],\n",
       "          [0.0000, 0.0000, 0.0000,  ..., 0.0000, 0.0000, 0.0000]],\n",
       "\n",
       "         [[0.0000, 0.0000, 4.3630,  ..., 0.9632, 0.4230, 0.0000],\n",
       "          [0.0000, 0.0000, 1.9937,  ..., 1.2367, 0.0000, 0.0000],\n",
       "          [0.0000, 0.0000, 0.0000,  ..., 0.9807, 2.1675, 0.9781],\n",
       "          ...,\n",
       "          [0.0000, 0.2327, 0.0000,  ..., 0.0000, 0.0000, 0.0000],\n",
       "          [0.0000, 0.5992, 0.0000,  ..., 0.0000, 0.0000, 0.0000],\n",
       "          [0.0000, 0.0000, 0.0000,  ..., 0.0000, 0.0000, 0.0000]],\n",
       "\n",
       "         [[0.0000, 0.0000, 0.0000,  ..., 0.0000, 0.0000, 0.0000],\n",
       "          [0.0000, 0.0000, 0.0000,  ..., 0.0000, 0.0000, 0.0000],\n",
       "          [0.0000, 0.0000, 0.0000,  ..., 0.0000, 0.0000, 0.0000],\n",
       "          ...,\n",
       "          [0.0000, 1.4255, 3.3414,  ..., 0.7073, 0.0000, 0.0000],\n",
       "          [0.0000, 1.8367, 2.8021,  ..., 0.3752, 1.3401, 0.8863],\n",
       "          [0.0000, 0.0000, 0.0000,  ..., 0.2211, 1.4836, 1.4101]]]],\n",
       "       device='cuda:0')"
      ]
     },
     "execution_count": 82,
     "metadata": {},
     "output_type": "execute_result"
    }
   ],
   "source": [
    "input_tensor = transform(input_image)\n",
    "input_batch = input_tensor.unsqueeze(0).to(device)\n",
    "model.eval()\n",
    "with torch.no_grad():\n",
    "    output = model(input_batch)\n",
    "output"
   ]
  },
  {
   "cell_type": "code",
   "execution_count": 83,
   "id": "d2adbaa8",
   "metadata": {},
   "outputs": [
    {
     "name": "stdout",
     "output_type": "stream",
     "text": [
      "torch.Size([1, 512, 7, 7])\n"
     ]
    }
   ],
   "source": [
    "print(output.shape)"
   ]
  },
  {
   "cell_type": "code",
   "execution_count": 84,
   "id": "a1f97cb9",
   "metadata": {},
   "outputs": [],
   "source": [
    "from os import listdir\n",
    "from os.path import isfile, join"
   ]
  },
  {
   "cell_type": "code",
   "execution_count": 88,
   "id": "aa26f9fc",
   "metadata": {},
   "outputs": [],
   "source": [
    "img_path = './images_test/'\n",
    "image_files = np.array([f for f in listdir(img_path) if isfile(join(img_path, f)) and f[-3:] == 'jpg'])"
   ]
  },
  {
   "cell_type": "code",
   "execution_count": 89,
   "id": "f2579b0b",
   "metadata": {},
   "outputs": [
    {
     "data": {
      "text/plain": [
       "array(['astronaut.jpg', 'bird.jpg', 'bird2.jpg', 'cat.jpg', 'daisy1.jpg',\n",
       "       'daisy2.jpg', 'deer.jpg', 'elephant.jpg', 'elephant2.jpg',\n",
       "       'lion1.jpg', 'lion2.jpg', 'owl.jpg', 'panda1.jpg', 'panda2.jpg',\n",
       "       'panda3.jpg', 'peacock.jpg', 'rose2.jpg', 'tiger1.jpg',\n",
       "       'tiger2.jpg', 'tiger3.jpg', 'toucan.jpg'], dtype='<U13')"
      ]
     },
     "execution_count": 89,
     "metadata": {},
     "output_type": "execute_result"
    }
   ],
   "source": [
    "image_files"
   ]
  },
  {
   "cell_type": "code",
   "execution_count": 96,
   "id": "aa57cd01",
   "metadata": {},
   "outputs": [],
   "source": [
    "import os\n",
    "model.eval()\n",
    "x = torch.tensor([])"
   ]
  },
  {
   "cell_type": "code",
   "execution_count": 97,
   "id": "72cac99c",
   "metadata": {},
   "outputs": [],
   "source": [
    "for filename in image_files:\n",
    "    input_image = Image.open(os.path.join(img_path, filename))\n",
    "    input_tensor = transform(input_image)\n",
    "    input_batch = input_tensor.unsqueeze(0).to(device)\n",
    "    if len(x.shape) == 1:\n",
    "        x = input_batch\n",
    "    else:\n",
    "        x = torch.cat((x, input_batch), dim = 0)"
   ]
  },
  {
   "cell_type": "code",
   "execution_count": 98,
   "id": "9e90893f",
   "metadata": {},
   "outputs": [
    {
     "data": {
      "text/plain": [
       "torch.Size([21, 512, 7, 7])"
      ]
     },
     "execution_count": 98,
     "metadata": {},
     "output_type": "execute_result"
    }
   ],
   "source": [
    "with torch.no_grad():\n",
    "    features = model(x)\n",
    "features.shape"
   ]
  },
  {
   "cell_type": "code",
   "execution_count": 99,
   "id": "2106d686",
   "metadata": {},
   "outputs": [],
   "source": [
    "from sklearn.metrics.pairwise import cosine_similarity"
   ]
  },
  {
   "cell_type": "code",
   "execution_count": 100,
   "id": "75650c4e",
   "metadata": {},
   "outputs": [
    {
     "name": "stdout",
     "output_type": "stream",
     "text": [
      "tiger3.jpg\n"
     ]
    }
   ],
   "source": [
    "no = -2 \n",
    "print(image_files[no])"
   ]
  },
  {
   "cell_type": "code",
   "execution_count": 102,
   "id": "4d40f2a4",
   "metadata": {},
   "outputs": [],
   "source": [
    "features2 = features.cpu().reshape((features.shape[0], -1))"
   ]
  },
  {
   "cell_type": "code",
   "execution_count": 113,
   "id": "f9715ddb",
   "metadata": {},
   "outputs": [],
   "source": [
    "other_features = np.concatenate((features2[:no], features2[no + 1:]))\n",
    "similar_list = cosine_similarity(features2, other_features, dense_output = False)"
   ]
  },
  {
   "cell_type": "code",
   "execution_count": 112,
   "id": "41cad581",
   "metadata": {},
   "outputs": [
    {
     "data": {
      "text/plain": [
       "array([[0.9999999 , 0.05813711, 0.04339975, 0.06365152, 0.05540558,\n",
       "        0.07560316, 0.05999345, 0.04194814, 0.0549625 , 0.04293375,\n",
       "        0.08447523, 0.06783494, 0.07097944, 0.04038769, 0.05111516,\n",
       "        0.04289774, 0.07881916, 0.05452679, 0.06588724, 0.04503619],\n",
       "       [0.05813711, 1.0000002 , 0.17146686, 0.1471321 , 0.0413562 ,\n",
       "        0.05581459, 0.14943112, 0.05143525, 0.08423477, 0.0606058 ,\n",
       "        0.09888165, 0.24716558, 0.14372583, 0.06280698, 0.21038973,\n",
       "        0.08878403, 0.08842303, 0.09075072, 0.10901843, 0.25219506],\n",
       "       [0.04339975, 0.17146686, 0.9999995 , 0.129894  , 0.03902254,\n",
       "        0.06473182, 0.06234483, 0.05915822, 0.14548272, 0.09194133,\n",
       "        0.08504301, 0.11225588, 0.09479395, 0.0509206 , 0.09711492,\n",
       "        0.07111394, 0.14107814, 0.1351856 , 0.12074561, 0.16043437],\n",
       "       [0.06365152, 0.1471321 , 0.129894  , 1.0000005 , 0.13684137,\n",
       "        0.08409561, 0.12928648, 0.18071142, 0.10394667, 0.20070007,\n",
       "        0.14852   , 0.13730355, 0.15394069, 0.1528727 , 0.15089074,\n",
       "        0.07124254, 0.07474495, 0.26377696, 0.16802315, 0.09491255],\n",
       "       [0.05540558, 0.0413562 , 0.03902254, 0.13684137, 0.99999976,\n",
       "        0.2717951 , 0.06099466, 0.0586982 , 0.08126999, 0.05410295,\n",
       "        0.04053858, 0.05000599, 0.06476124, 0.08500934, 0.05035061,\n",
       "        0.06281587, 0.05824688, 0.0547989 , 0.04471619, 0.04902712],\n",
       "       [0.07560316, 0.05581459, 0.06473182, 0.08409561, 0.2717951 ,\n",
       "        1.0000002 , 0.0693864 , 0.05071917, 0.05891968, 0.06536076,\n",
       "        0.06922325, 0.05328161, 0.05824382, 0.08136008, 0.07262402,\n",
       "        0.06170623, 0.07927605, 0.07357863, 0.08485486, 0.06912892],\n",
       "       [0.05999345, 0.14943112, 0.06234483, 0.12928648, 0.06099466,\n",
       "        0.0693864 , 1.0000002 , 0.08336799, 0.09760416, 0.07546426,\n",
       "        0.13023524, 0.13032043, 0.12600057, 0.09022876, 0.13101384,\n",
       "        0.06445669, 0.12511918, 0.09703939, 0.09391429, 0.10357373],\n",
       "       [0.04194814, 0.05143525, 0.05915822, 0.18071142, 0.0586982 ,\n",
       "        0.05071917, 0.08336799, 1.0000002 , 0.3616404 , 0.19782591,\n",
       "        0.13433914, 0.10103824, 0.15165365, 0.11104018, 0.1264373 ,\n",
       "        0.0745898 , 0.08727854, 0.13391566, 0.15013428, 0.05944756],\n",
       "       [0.0549625 , 0.08423477, 0.14548272, 0.10394667, 0.08126999,\n",
       "        0.05891968, 0.09760416, 0.3616404 , 1.0000002 , 0.14173442,\n",
       "        0.12327041, 0.1766295 , 0.12446777, 0.07479385, 0.12130634,\n",
       "        0.06477815, 0.12597659, 0.09668158, 0.17050882, 0.08968996],\n",
       "       [0.04293375, 0.0606058 , 0.09194133, 0.20070007, 0.05410295,\n",
       "        0.06536076, 0.07546426, 0.19782591, 0.14173442, 1.        ,\n",
       "        0.31370336, 0.07016165, 0.09511591, 0.10641261, 0.08610285,\n",
       "        0.0432184 , 0.07768817, 0.18154185, 0.23300183, 0.04162683],\n",
       "       [0.08447523, 0.09888165, 0.08504301, 0.14852   , 0.04053858,\n",
       "        0.06922325, 0.13023524, 0.13433914, 0.12327041, 0.31370336,\n",
       "        0.9999997 , 0.15809883, 0.20649323, 0.09756904, 0.09515389,\n",
       "        0.0672427 , 0.10559265, 0.21241087, 0.18520232, 0.07746977],\n",
       "       [0.06783494, 0.24716558, 0.11225588, 0.13730355, 0.05000599,\n",
       "        0.05328161, 0.13032043, 0.10103824, 0.1766295 , 0.07016165,\n",
       "        0.15809883, 1.0000001 , 0.25902766, 0.08030807, 0.17578034,\n",
       "        0.07225588, 0.06483632, 0.10998133, 0.15520537, 0.1808027 ],\n",
       "       [0.07097944, 0.14372583, 0.09479395, 0.15394069, 0.06476124,\n",
       "        0.05824382, 0.12600057, 0.15165365, 0.12446777, 0.09511591,\n",
       "        0.20649323, 0.25902766, 1.0000004 , 0.15436797, 0.40067676,\n",
       "        0.06346246, 0.07957914, 0.11576787, 0.13015503, 0.15707907],\n",
       "       [0.04038769, 0.06280698, 0.0509206 , 0.1528727 , 0.08500934,\n",
       "        0.08136008, 0.09022876, 0.11104018, 0.07479385, 0.10641261,\n",
       "        0.09756904, 0.08030807, 0.15436797, 0.9999996 , 0.1671372 ,\n",
       "        0.03611671, 0.08128802, 0.12457555, 0.10005343, 0.03922139],\n",
       "       [0.05111516, 0.21038973, 0.09711492, 0.15089074, 0.05035061,\n",
       "        0.07262402, 0.13101384, 0.1264373 , 0.12130634, 0.08610285,\n",
       "        0.09515389, 0.17578034, 0.40067676, 0.1671372 , 1.0000002 ,\n",
       "        0.03994653, 0.06819531, 0.08552434, 0.11665909, 0.22970685],\n",
       "       [0.04289774, 0.08878403, 0.07111394, 0.07124254, 0.06281587,\n",
       "        0.06170623, 0.06445669, 0.0745898 , 0.06477815, 0.0432184 ,\n",
       "        0.0672427 , 0.07225588, 0.06346246, 0.03611671, 0.03994653,\n",
       "        0.9999998 , 0.04079074, 0.06745082, 0.06317244, 0.05535287],\n",
       "       [0.07881914, 0.08842301, 0.14107816, 0.07474494, 0.05824688,\n",
       "        0.07927604, 0.12511916, 0.08727849, 0.12597662, 0.07768817,\n",
       "        0.10559264, 0.06483632, 0.07957917, 0.08128799, 0.06819531,\n",
       "        0.04079075, 0.99999976, 0.04928267, 0.08041534, 0.07301736],\n",
       "       [0.05452679, 0.09075072, 0.1351856 , 0.26377696, 0.0547989 ,\n",
       "        0.07357861, 0.0970394 , 0.13391566, 0.09668157, 0.18154186,\n",
       "        0.21241088, 0.10998131, 0.11576786, 0.12457557, 0.08552431,\n",
       "        0.06745082, 0.04928267, 0.9999999 , 0.2903297 , 0.04712452],\n",
       "       [0.06588725, 0.10901847, 0.12074563, 0.16802315, 0.04471618,\n",
       "        0.08485488, 0.09391429, 0.15013433, 0.17050879, 0.23300181,\n",
       "        0.1852023 , 0.15520543, 0.13015501, 0.10005344, 0.11665908,\n",
       "        0.06317245, 0.08041534, 0.2903297 , 1.0000005 , 0.0731394 ],\n",
       "       [0.07478864, 0.07160537, 0.03810149, 0.09076246, 0.04373215,\n",
       "        0.06039035, 0.09228037, 0.07358685, 0.08006182, 0.09055685,\n",
       "        0.2001799 , 0.13028054, 0.12171581, 0.08344413, 0.07355949,\n",
       "        0.12428121, 0.04973461, 0.27424538, 0.2846889 , 0.04559001],\n",
       "       [0.04503619, 0.2521952 , 0.16043442, 0.09491256, 0.04902712,\n",
       "        0.06912892, 0.10357369, 0.05944755, 0.08968996, 0.04162684,\n",
       "        0.07746975, 0.18080264, 0.1570791 , 0.03922138, 0.22970684,\n",
       "        0.05535287, 0.07301736, 0.04712452, 0.0731394 , 0.99999976]],\n",
       "      dtype=float32)"
      ]
     },
     "execution_count": 112,
     "metadata": {},
     "output_type": "execute_result"
    }
   ],
   "source": [
    "similar_list"
   ]
  },
  {
   "cell_type": "code",
   "execution_count": 114,
   "id": "f211244d",
   "metadata": {},
   "outputs": [],
   "source": [
    "import torch\n",
    "import torch.nn as nn\n",
    "import torch.optim as optim\n",
    "from torch.optim import lr_scheduler\n",
    "import numpy as np \n",
    "import torchvision\n",
    "from torchvision import datasets, models, transforms\n",
    "import matplotlib.pyplot as plt\n",
    "import time\n",
    "import os\n",
    "import copy"
   ]
  },
  {
   "cell_type": "code",
   "execution_count": 117,
   "id": "a6a2527f",
   "metadata": {},
   "outputs": [],
   "source": [
    "data_transforms = {'train': transforms.Compose([\n",
    "    transforms.RandomResizedCrop(224),\n",
    "    transforms.RandomHorizontalFlip(),\n",
    "    transforms.ToTensor(),\n",
    "    transforms.Normalize([0.485, 0.456, 0.406], [0.229, 0.224, 0.225])\n",
    "]),\n",
    "    'val': transforms.Compose([\n",
    "        transforms.Resize(256),\n",
    "        transforms.CenterCrop(224),\n",
    "        transforms.ToTensor(),\n",
    "        transforms.Normalize([0.485, 0.456, 0.406], [0.229, 0.224, 0.225])\n",
    "    ])}"
   ]
  },
  {
   "cell_type": "code",
   "execution_count": 119,
   "id": "e5de5062",
   "metadata": {},
   "outputs": [],
   "source": [
    "data_dir = './hymenoptera_data'\n",
    "image_datasets = {x: datasets.ImageFolder(os.path.join(data_dir, x),\n",
    "                                         data_transforms[x])\n",
    "                 for x in ['train', 'val']}"
   ]
  },
  {
   "cell_type": "code",
   "execution_count": 122,
   "id": "3ed37222",
   "metadata": {},
   "outputs": [],
   "source": [
    "dataloader = {x: torch.utils.data.DataLoader(image_datasets[x], batch_size = 4, shuffle = True, num_workers = 4) for x in ['train', 'val']}"
   ]
  },
  {
   "cell_type": "code",
   "execution_count": 123,
   "id": "59028813",
   "metadata": {},
   "outputs": [],
   "source": [
    "dataset_sizes = {x: len(image_datasets[x]) for x in ['train', 'val']}"
   ]
  },
  {
   "cell_type": "code",
   "execution_count": 125,
   "id": "b77c5b8c",
   "metadata": {},
   "outputs": [],
   "source": [
    "class_names = image_datasets['train'].classes"
   ]
  },
  {
   "cell_type": "code",
   "execution_count": 129,
   "id": "07455196",
   "metadata": {},
   "outputs": [
    {
     "data": {
      "text/plain": [
       "{'train': 244, 'val': 153}"
      ]
     },
     "execution_count": 129,
     "metadata": {},
     "output_type": "execute_result"
    }
   ],
   "source": [
    "dataset_sizes"
   ]
  },
  {
   "cell_type": "code",
   "execution_count": 130,
   "id": "5bc488e8",
   "metadata": {},
   "outputs": [],
   "source": [
    "device = 'cuda' if torch.cuda.is_available() else 'cpu'"
   ]
  },
  {
   "cell_type": "code",
   "execution_count": 132,
   "id": "8ad08f92",
   "metadata": {},
   "outputs": [
    {
     "data": {
      "image/png": "[encoded data removed]",
      "text/plain": [
       "<Figure size 432x288 with 1 Axes>"
      ]
     },
     "metadata": {
      "needs_background": "light"
     },
     "output_type": "display_data"
    }
   ],
   "source": [
    "def imshow(inp, title = None):\n",
    "    inp = inp.numpy().transpose(1, 2 ,0)\n",
    "    mean = np.array([0.485, 0.456, 0.406])\n",
    "    std = np.array([0.229, 0.224, 0.225])\n",
    "    inp = std * inp + mean\n",
    "    inp = np.clip(inp, 0, 1)\n",
    "    plt.axis('off')\n",
    "    plt.imshow(inp)\n",
    "    if title is not None:\n",
    "        plt.title(title)\n",
    "    plt.pause(0.001)\n",
    "inputs, classes = next(iter(dataloader['train']))\n",
    "\n",
    "# 顯示一批資料\n",
    "out = torchvision.utils.make_grid(inputs)\n",
    "imshow(out, title=[class_names[x] for x in classes])"
   ]
  },
  {
   "cell_type": "code",
   "execution_count": 134,
   "id": "5359374e",
   "metadata": {},
   "outputs": [
    {
     "data": {
      "text/plain": [
       "tensor([[[[ 0.1768, -0.2342, -0.5938,  ..., -1.8953, -1.9467, -1.9295],\n",
       "          [-0.9363, -0.6109,  0.7933,  ..., -1.9295, -1.9295, -1.9980],\n",
       "          [-0.7822,  0.3309,  0.8961,  ..., -1.9638, -1.8953, -1.9124],\n",
       "          ...,\n",
       "          [ 1.2214,  1.1872,  1.4440,  ..., -0.3541, -0.6794, -1.4672],\n",
       "          [ 1.8208,  1.9235,  1.1358,  ..., -0.1486, -0.4911, -1.4672],\n",
       "          [ 1.0673,  1.2728,  0.7419,  ..., -0.1999, -0.9192, -1.0904]],\n",
       "\n",
       "         [[ 0.3102, -0.1275, -0.4951,  ..., -1.8081, -1.8606, -1.8431],\n",
       "          [-0.9153, -0.5476,  0.8880,  ..., -1.8431, -1.8431, -1.9132],\n",
       "          [-0.7227,  0.4153,  0.9930,  ..., -1.8782, -1.8081, -1.8256],\n",
       "          ...,\n",
       "          [ 1.3782,  1.3431,  1.6057,  ..., -0.2325, -0.5651, -1.3704],\n",
       "          [ 1.9909,  2.0959,  1.2906,  ..., -0.0224, -0.3725, -1.3704],\n",
       "          [ 1.2206,  1.4307,  0.8880,  ..., -0.0749, -0.8102, -0.9853]],\n",
       "\n",
       "         [[ 0.3916,  0.0082, -0.3578,  ..., -1.5779, -1.6302, -1.6127],\n",
       "          [-0.7587, -0.4101,  1.0191,  ..., -1.6127, -1.6127, -1.6824],\n",
       "          [-0.6193,  0.5136,  1.0888,  ..., -1.6476, -1.5779, -1.5953],\n",
       "          ...,\n",
       "          [ 1.5942,  1.5594,  1.8208,  ..., -0.0092, -0.3404, -1.1421],\n",
       "          [ 2.2043,  2.3088,  1.5071,  ...,  0.1999, -0.1487, -1.1421],\n",
       "          [ 1.4374,  1.6465,  1.1062,  ...,  0.1476, -0.5844, -0.7587]]],\n",
       "\n",
       "\n",
       "        [[[ 0.9646,  0.9646,  0.9646,  ...,  1.7352,  1.8550,  1.9064],\n",
       "          [ 0.9817,  0.9817,  0.9817,  ...,  1.7352,  1.8550,  1.9064],\n",
       "          [ 1.0331,  1.0331,  1.0159,  ...,  1.7523,  1.8379,  1.8893],\n",
       "          ...,\n",
       "          [ 1.0331,  1.0502,  1.1358,  ..., -0.3712, -0.3027, -0.2856],\n",
       "          [ 0.8961,  0.9303,  1.0331,  ..., -0.3369, -0.2684, -0.2513],\n",
       "          [ 0.8618,  0.8961,  0.9988,  ..., -0.3369, -0.2684, -0.2513]],\n",
       "\n",
       "         [[ 1.6232,  1.6232,  1.6232,  ...,  2.1134,  2.1660,  2.2010],\n",
       "          [ 1.6408,  1.6408,  1.6408,  ...,  2.1134,  2.1660,  2.1835],\n",
       "          [ 1.6758,  1.6758,  1.6583,  ...,  2.0959,  2.1310,  2.1485],\n",
       "          ...,\n",
       "          [ 1.5882,  1.6057,  1.6758,  ...,  0.8354,  0.9055,  0.9230],\n",
       "          [ 1.5007,  1.5182,  1.6057,  ...,  0.8529,  0.9230,  0.9405],\n",
       "          [ 1.4657,  1.5007,  1.5882,  ...,  0.8529,  0.9230,  0.9405]],\n",
       "\n",
       "         [[ 1.4897,  1.4897,  1.4722,  ...,  1.9254,  2.0823,  2.1346],\n",
       "          [ 1.5071,  1.5071,  1.4897,  ...,  1.9254,  2.0823,  2.1171],\n",
       "          [ 1.5594,  1.5594,  1.5420,  ...,  1.9428,  2.0474,  2.0997],\n",
       "          ...,\n",
       "          [ 1.6291,  1.6640,  1.7163,  ..., -0.7238, -0.6018, -0.5670],\n",
       "          [ 1.4897,  1.5245,  1.6117,  ..., -0.6715, -0.5321, -0.4798],\n",
       "          [ 1.4548,  1.4897,  1.5768,  ..., -0.6541, -0.5147, -0.4624]]],\n",
       "\n",
       "\n",
       "        [[[-1.9638, -1.9638, -1.9467,  ..., -1.2274, -1.1760, -1.1932],\n",
       "          [-1.9980, -1.9638, -1.9638,  ..., -1.2445, -1.2274, -1.1932],\n",
       "          [-2.0152, -1.9809, -1.9638,  ..., -1.1932, -1.1760, -1.1418],\n",
       "          ...,\n",
       "          [-0.9020, -1.0390, -1.1075,  ...,  0.5707,  0.3481,  0.1083],\n",
       "          [-1.0733, -1.1760, -1.2445,  ...,  0.6221,  0.5536,  0.2111],\n",
       "          [-1.1760, -1.2617, -1.3302,  ...,  0.5707,  0.3994,  0.0056]],\n",
       "\n",
       "         [[-2.0357, -2.0357, -2.0357,  ..., -0.7227, -0.6527, -0.6001],\n",
       "          [-2.0182, -2.0357, -2.0357,  ..., -0.7052, -0.6702, -0.5651],\n",
       "          [-2.0357, -2.0357, -2.0357,  ..., -0.6527, -0.6176, -0.5126],\n",
       "          ...,\n",
       "          [-0.1450, -0.3901, -0.5651,  ..., -0.0924, -0.3375, -0.8277],\n",
       "          [-0.3725, -0.6001, -0.7927,  ...,  0.1176, -0.0399, -0.7752],\n",
       "          [-0.6001, -0.8102, -1.0028,  ..., -0.0399, -0.3725, -0.7752]],\n",
       "\n",
       "         [[-1.7522, -1.7696, -1.7870,  ..., -1.4559, -1.4210, -1.4036],\n",
       "          [-1.7870, -1.7870, -1.7696,  ..., -1.4733, -1.4733, -1.4384],\n",
       "          [-1.8044, -1.7870, -1.7522,  ..., -1.4384, -1.4210, -1.4384],\n",
       "          ...,\n",
       "          [-1.2467, -1.3339, -1.3687,  ...,  1.3851,  1.2805,  1.1759],\n",
       "          [-1.3861, -1.4384, -1.4384,  ...,  1.3328,  1.3502,  1.0888],\n",
       "          [-1.3861, -1.4384, -1.4733,  ...,  1.3502,  1.3328,  1.1585]]],\n",
       "\n",
       "\n",
       "        [[[-0.8678, -0.8678, -0.7822,  ..., -0.0972, -0.1828, -0.1828],\n",
       "          [-0.8678, -0.8678, -0.7822,  ..., -0.0972, -0.1828, -0.1828],\n",
       "          [-0.7308, -0.7308, -0.6452,  ..., -0.1486, -0.2342, -0.2342],\n",
       "          ...,\n",
       "          [ 0.6392,  0.6392,  0.5878,  ...,  0.5193,  0.5878,  0.5878],\n",
       "          [ 0.7591,  0.7591,  0.6906,  ...,  0.5364,  0.6221,  0.6221],\n",
       "          [ 0.7591,  0.7591,  0.6906,  ...,  0.5364,  0.6221,  0.6221]],\n",
       "\n",
       "         [[-1.1954, -1.1954, -1.1078,  ..., -0.9328, -1.0903, -1.0903],\n",
       "          [-1.1954, -1.1954, -1.1078,  ..., -0.9328, -1.0903, -1.0903],\n",
       "          [-1.1078, -1.1078, -1.0203,  ..., -1.0203, -1.1779, -1.1779],\n",
       "          ...,\n",
       "          [ 0.1527,  0.1527,  0.1352,  ..., -0.3025, -0.1800, -0.1800],\n",
       "          [ 0.1527,  0.1527,  0.1176,  ..., -0.4251, -0.3025, -0.3025],\n",
       "          [ 0.1527,  0.1527,  0.1176,  ..., -0.4251, -0.3025, -0.3025]],\n",
       "\n",
       "         [[-1.5081, -1.5081, -1.4210,  ..., -1.0027, -1.1770, -1.1770],\n",
       "          [-1.5081, -1.5081, -1.4210,  ..., -1.0027, -1.1770, -1.1770],\n",
       "          [-1.4384, -1.4384, -1.3513,  ..., -1.1073, -1.2816, -1.2816],\n",
       "          ...,\n",
       "          [ 0.1825,  0.1825,  0.1651,  ..., -0.5147, -0.3927, -0.3927],\n",
       "          [ 0.2173,  0.2173,  0.1825,  ..., -0.6890, -0.5670, -0.5670],\n",
       "          [ 0.2173,  0.2173,  0.1825,  ..., -0.6890, -0.5670, -0.5670]]]])"
      ]
     },
     "execution_count": 134,
     "metadata": {},
     "output_type": "execute_result"
    }
   ],
   "source": [
    "inputs"
   ]
  },
  {
   "cell_type": "code",
   "execution_count": 144,
   "id": "398ceecb",
   "metadata": {},
   "outputs": [],
   "source": [
    "def train_model(model, criterion, optimizer, schediler, num_epochs = 25):\n",
    "    since = time.time()\n",
    "    \n",
    "    best_model_wts = copy.deepcopy(model.state_dict())\n",
    "    best_acc = .0\n",
    "    for epoch in range(num_epochs):\n",
    "        print('Epoch {}/{}'.format(epoch, num_epochs - 1))\n",
    "        print('-' * 10)\n",
    "        \n",
    "        for phase in ['train', 'val']:\n",
    "            if phase == 'train':\n",
    "                model.train()\n",
    "            else:\n",
    "                model.eval()\n",
    "            running_loss = .0\n",
    "            running_correct = 0\n",
    "            \n",
    "            for inputs, labels in dataloader[phase]:\n",
    "                inputs = inputs.to(device)\n",
    "                labels = labels.to(device)\n",
    "                \n",
    "                optimizer.zero_grad()\n",
    "                with torch.set_grad_enabled(phase == 'train'):\n",
    "                    outputs = model(inputs)\n",
    "                    _, preds = torch.max(outputs, 1)\n",
    "                    loss = criterion(outputs, labels)\n",
    "                    if phase == 'train':\n",
    "                        loss.backward()\n",
    "                        optimizer.step()\n",
    "                running_loss += loss.item() * inputs.size(0)\n",
    "                running_corrects += torch.sum(preds == labels.data) \n",
    "            if phase == 'train':\n",
    "                scheduler.step()\n",
    "            epoch_loss = running_loss / dataset_sizes[phase]\n",
    "            epoch_acc = running_corrects.double() / dataset_sizes[phase]\n",
    "            \n",
    "            print('{} Loss: {:.4f} Acc:{:.4f}'.format(phase, epoch_loss, epoch_acc))\n",
    "            \n",
    "            if phase == 'val' and epoch_acc > best_acc:\n",
    "                best_acc = epoch_acc\n",
    "                bes\n",
    "                t_model_wts = copy.deepcopy(model.state_dict())\n",
    "        print()\n",
    "    time_elapsed = time.time() - since\n",
    "    print('Training complete in {(time_elapsed // 60):.0f}m {(time_elapsed % 60):.0f}s')\n",
    "    print(f'Best val Acc: {best_acc:4f}')\n",
    "    model.load_state_dict(best_model_wts)\n",
    "    return model"
   ]
  },
  {
   "cell_type": "code",
   "execution_count": 145,
   "id": "4fae6bff",
   "metadata": {},
   "outputs": [],
   "source": [
    "def imshow2(inp, title=None):\n",
    "    inp = inp.numpy().transpose((1, 2, 0))\n",
    "    mean = np.array([0.485, 0.456, 0.406])\n",
    "    std = np.array([0.229, 0.224, 0.225])\n",
    "    inp = std * inp + mean\n",
    "    inp = np.clip(inp, 0, 1)\n",
    "    plt.imshow(inp)"
   ]
  },
  {
   "cell_type": "code",
   "execution_count": 147,
   "id": "d2f1b244",
   "metadata": {},
   "outputs": [],
   "source": [
    "def visualize_model(model, num_images = 6):\n",
    "    was_training = model.training\n",
    "    model.eval()\n",
    "    images_so_far = 0\n",
    "    fig = plt.figure()\n",
    "    \n",
    "    with torch.no_grad():\n",
    "        for i, (inputs, labels) in enumerate(dataloaders['val']):\n",
    "            inputs = inputs.to(device)\n",
    "            labels = labels.to(device)\n",
    "            \n",
    "            outputs = model(inputs)\n",
    "            _, preds = torch.max(outputs, dim = 1)\n",
    "            for j in range(inputs.size()[0]):\n",
    "                images_so_far += 1\n",
    "                plt.subplot(num_images // 4 + 1, 4, images_so_far) \n",
    "                plt.axis('off')\n",
    "                plt.title(class_names[preds[j]])\n",
    "                imshow2(inputs.cpu().data[j])\n",
    "                \n",
    "                if images_so_far == num_images:\n",
    "                    model.train(mode = was_training)\n",
    "                    return\n",
    "        model.train(mode = was_training)\n",
    "    plt.tight_layout()\n",
    "    plt.show()"
   ]
  },
  {
   "cell_type": "code",
   "execution_count": 149,
   "id": "3a03814a",
   "metadata": {},
   "outputs": [],
   "source": [
    "model_ft = models.resnet18(pretrained = True)"
   ]
  },
  {
   "cell_type": "code",
   "execution_count": 158,
   "id": "7291578d",
   "metadata": {},
   "outputs": [
    {
     "data": {
      "text/plain": [
       "512"
      ]
     },
     "execution_count": 158,
     "metadata": {},
     "output_type": "execute_result"
    }
   ],
   "source": [
    "num_ftrs = model_ft.fc.in_features\n",
    "model_ft.fc "
   ]
  },
  {
   "cell_type": "code",
   "execution_count": null,
   "id": "43f19cd6",
   "metadata": {},
   "outputs": [],
   "source": []
  }
 ],
 "metadata": {
  "kernelspec": {
   "display_name": "Python 3 (ipykernel)",
   "language": "python",
   "name": "python3"
  },
  "language_info": {
   "codemirror_mode": {
    "name": "ipython",
    "version": 3
   },
   "file_extension": ".py",
   "mimetype": "text/x-python",
   "name": "python",
   "nbconvert_exporter": "python",
   "pygments_lexer": "ipython3",
   "version": "3.8.8"
  },
  "varInspector": {
   "cols": {
    "lenName": 16,
    "lenType": 16,
    "lenVar": 40
   },
   "kernels_config": {
    "python": {
     "delete_cmd_postfix": "",
     "delete_cmd_prefix": "del ",
     "library": "var_list.py",
     "varRefreshCmd": "print(var_dic_list())"
    },
    "r": {
     "delete_cmd_postfix": ") ",
     "delete_cmd_prefix": "rm(",
     "library": "var_list.r",
     "varRefreshCmd": "cat(var_dic_list()) "
    }
   },
   "types_to_exclude": [
    "module",
    "function",
    "builtin_function_or_method",
    "instance",
    "_Feature"
   ],
   "window_display": false
  }
 },
 "nbformat": 4,
 "nbformat_minor": 5
}
