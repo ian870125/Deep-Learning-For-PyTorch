{
 "cells": [
  {
   "cell_type": "markdown",
   "id": "6f53afda",
   "metadata": {
    "ExecuteTime": {
     "end_time": "2023-02-27T05:47:19.583868Z",
     "start_time": "2023-02-27T05:47:19.035125Z"
    }
   },
   "source": [
    "# Grid World 迷宮策略\n",
    "\n",
    "|  | 1 | 2 | 3 |\n",
    "|  ----  | ----  |  ----  | ----  |\n",
    "| 4 | 5 | 6 | 7 |\n",
    "| 8 | 9 | 10 | 11 |\n",
    "|12 | 13 | 14 |  |"
   ]
  },
  {
   "cell_type": "code",
   "execution_count": 11,
   "id": "0252ed80",
   "metadata": {
    "ExecuteTime": {
     "end_time": "2023-02-27T06:16:47.217211Z",
     "start_time": "2023-02-27T06:16:47.209381Z"
    }
   },
   "outputs": [],
   "source": [
    "import numpy as np\n",
    "import random"
   ]
  },
  {
   "cell_type": "code",
   "execution_count": 12,
   "id": "79c99e44",
   "metadata": {
    "ExecuteTime": {
     "end_time": "2023-02-27T06:45:29.727075Z",
     "start_time": "2023-02-27T06:45:29.711655Z"
    }
   },
   "outputs": [],
   "source": [
    "gridSize = 4     \n",
    "rewardValue = -1 \n",
    "terminationStates = [[0,0], [gridSize-1, gridSize-1]] \n",
    "actions = [[-1, 0], [1, 0], [0, 1], [0, -1]] "
   ]
  },
  {
   "cell_type": "code",
   "execution_count": 18,
   "id": "ebfe1d06",
   "metadata": {
    "ExecuteTime": {
     "end_time": "2023-02-27T07:06:38.340082Z",
     "start_time": "2023-02-27T07:06:38.327160Z"
    }
   },
   "outputs": [],
   "source": [
    "def actionValue(initialPosition, action):\n",
    "    if initialPosition in terminationStates:\n",
    "        finalPosition = initialPosition\n",
    "        reward = 0\n",
    "    else:\n",
    "        finalPosition = np.array(initialPosition) + np.array(action)\n",
    "        reward = rewardValue\n",
    "    \n",
    "    if -1 in finalPosition or gridSize in finalPosition:\n",
    "        finalPosition = initialPosition\n",
    "        reward = rewardValue\n",
    "    return finalPosition, reward"
   ]
  },
  {
   "cell_type": "code",
   "execution_count": 19,
   "id": "83d983e3",
   "metadata": {
    "ExecuteTime": {
     "end_time": "2023-02-27T07:06:38.651883Z",
     "start_time": "2023-02-27T07:06:38.639643Z"
    }
   },
   "outputs": [],
   "source": [
    "def policy_evaluation(numIterations, gamma, valueMap):\n",
    "    valueMap1 = np.copy(valueMap)\n",
    "    for i in range(numIterations):\n",
    "        for state in states:\n",
    "            weightedRewards = 0\n",
    "            for action in actions:\n",
    "                finalPosition,reward = actionValue(state,action)\n",
    "                weightedRewards += 1/4 * (reward + \n",
    "                     gamma * valueMap[finalPosition[0],finalPosition[1]])# 貝爾曼方程式(Bellman Equation) V(s)\n",
    "                valueMap1[state[0],state[1]] = weightedRewards\n",
    "        valueMap = np.copy(valueMap1)\n",
    "        print(valueMap)"
   ]
  },
  {
   "cell_type": "code",
   "execution_count": 20,
   "id": "8b2279c9",
   "metadata": {
    "ExecuteTime": {
     "end_time": "2023-02-27T07:06:39.039609Z",
     "start_time": "2023-02-27T07:06:39.019511Z"
    }
   },
   "outputs": [
    {
     "name": "stdout",
     "output_type": "stream",
     "text": [
      "[[ 0. -1. -1. -1.]\n",
      " [-1. -1. -1. -1.]\n",
      " [-1. -1. -1. -1.]\n",
      " [-1. -1. -1.  0.]]\n",
      "[[ 0.   -1.75 -2.   -2.  ]\n",
      " [-1.75 -2.   -2.   -2.  ]\n",
      " [-2.   -2.   -2.   -1.75]\n",
      " [-2.   -2.   -1.75  0.  ]]\n",
      "[[ 0.     -2.4375 -2.9375 -3.    ]\n",
      " [-2.4375 -2.875  -3.     -2.9375]\n",
      " [-2.9375 -3.     -2.875  -2.4375]\n",
      " [-3.     -2.9375 -2.4375  0.    ]]\n"
     ]
    }
   ],
   "source": [
    "valueMap = np.zeros((gridSize, gridSize))\n",
    "states = [[i, j] for i in range(gridSize) for j in range(gridSize)]\n",
    "policy_evaluation(3,1,valueMap)\n"
   ]
  },
  {
   "cell_type": "code",
   "execution_count": null,
   "id": "e012c63b",
   "metadata": {},
   "outputs": [],
   "source": []
  }
 ],
 "metadata": {
  "kernelspec": {
   "display_name": "Python 3 (ipykernel)",
   "language": "python",
   "name": "python3"
  },
  "language_info": {
   "codemirror_mode": {
    "name": "ipython",
    "version": 3
   },
   "file_extension": ".py",
   "mimetype": "text/x-python",
   "name": "python",
   "nbconvert_exporter": "python",
   "pygments_lexer": "ipython3",
   "version": "3.8.8"
  },
  "varInspector": {
   "cols": {
    "lenName": 16,
    "lenType": 16,
    "lenVar": 40
   },
   "kernels_config": {
    "python": {
     "delete_cmd_postfix": "",
     "delete_cmd_prefix": "del ",
     "library": "var_list.py",
     "varRefreshCmd": "print(var_dic_list())"
    },
    "r": {
     "delete_cmd_postfix": ") ",
     "delete_cmd_prefix": "rm(",
     "library": "var_list.r",
     "varRefreshCmd": "cat(var_dic_list()) "
    }
   },
   "types_to_exclude": [
    "module",
    "function",
    "builtin_function_or_method",
    "instance",
    "_Feature"
   ],
   "window_display": false
  }
 },
 "nbformat": 4,
 "nbformat_minor": 5
}
