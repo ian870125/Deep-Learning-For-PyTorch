{
 "cells": [
  {
   "cell_type": "code",
   "execution_count": 1,
   "id": "2bf428b1",
   "metadata": {
    "ExecuteTime": {
     "end_time": "2023-02-22T13:33:44.810144Z",
     "start_time": "2023-02-22T13:33:41.724105Z"
    }
   },
   "outputs": [
    {
     "name": "stderr",
     "output_type": "stream",
     "text": [
      "C:\\Users\\ian\\anaconda3\\lib\\site-packages\\gymnasium\\envs\\registration.py:521: UserWarning: \u001b[33mWARN: Overriding environment GymV26Environment-v0 already in registry.\u001b[0m\n",
      "  logger.warn(f\"Overriding environment {new_spec.id} already in registry.\")\n",
      "C:\\Users\\ian\\anaconda3\\lib\\site-packages\\gymnasium\\envs\\registration.py:521: UserWarning: \u001b[33mWARN: Overriding environment GymV22Environment-v0 already in registry.\u001b[0m\n",
      "  logger.warn(f\"Overriding environment {new_spec.id} already in registry.\")\n"
     ]
    }
   ],
   "source": [
    "import gymnasium as gym\n",
    "from gymnasium import envs"
   ]
  },
  {
   "cell_type": "code",
   "execution_count": 10,
   "id": "6f96766f",
   "metadata": {
    "ExecuteTime": {
     "end_time": "2023-02-22T14:01:56.728162Z",
     "start_time": "2023-02-22T14:01:56.722160Z"
    }
   },
   "outputs": [],
   "source": [
    "no = 50 \n",
    "env = gym.make(\"CartPole-v1\")\n",
    "\n",
    "observation = env.reset()\n",
    "all_rewards=[] # 每回合總報酬\n",
    "all_steps=[] # 每回合總步數\n",
    "total_rewards = 0\n",
    "total_steps=0"
   ]
  },
  {
   "cell_type": "code",
   "execution_count": 12,
   "id": "d930914a",
   "metadata": {
    "ExecuteTime": {
     "end_time": "2023-02-22T14:02:55.896021Z",
     "start_time": "2023-02-22T14:02:55.880927Z"
    }
   },
   "outputs": [],
   "source": [
    "while no > 0:\n",
    "    action = env.action_space.sample()\n",
    "    total_steps += 1\n",
    "    observation, reward, terminated, truncated, info = env.step(action)\n",
    "    print(observation, reward, terminated, truncated, info)\n",
    "    total_rewards += reward\n",
    "    if terminated:\n",
    "        observation = env.reset()\n",
    "        all_rewards.append(total_rewards)\n",
    "        all_steps.append(total_steps)\n",
    "        total_rewards = 0\n",
    "        total_steps=0\n",
    "        no-=1\n",
    "env.close()\n"
   ]
  },
  {
   "cell_type": "code",
   "execution_count": 13,
   "id": "473d3dee",
   "metadata": {
    "ExecuteTime": {
     "end_time": "2023-02-22T14:03:10.719377Z",
     "start_time": "2023-02-22T14:03:10.711274Z"
    }
   },
   "outputs": [
    {
     "name": "stdout",
     "output_type": "stream",
     "text": [
      "回合\t報酬\t結果\n",
      "0\t10.0\tLoss\n",
      "1\t9.0\tLoss\n",
      "2\t52.0\tLoss\n",
      "3\t20.0\tLoss\n",
      "4\t38.0\tLoss\n",
      "5\t13.0\tLoss\n",
      "6\t32.0\tLoss\n",
      "7\t24.0\tLoss\n",
      "8\t12.0\tLoss\n",
      "9\t24.0\tLoss\n",
      "10\t31.0\tLoss\n",
      "11\t28.0\tLoss\n",
      "12\t12.0\tLoss\n",
      "13\t30.0\tLoss\n",
      "14\t12.0\tLoss\n",
      "15\t14.0\tLoss\n",
      "16\t15.0\tLoss\n",
      "17\t16.0\tLoss\n",
      "18\t24.0\tLoss\n",
      "19\t10.0\tLoss\n",
      "20\t30.0\tLoss\n",
      "21\t16.0\tLoss\n",
      "22\t20.0\tLoss\n",
      "23\t20.0\tLoss\n",
      "24\t23.0\tLoss\n",
      "25\t13.0\tLoss\n",
      "26\t11.0\tLoss\n",
      "27\t28.0\tLoss\n",
      "28\t12.0\tLoss\n",
      "29\t24.0\tLoss\n",
      "30\t12.0\tLoss\n",
      "31\t19.0\tLoss\n",
      "32\t15.0\tLoss\n",
      "33\t21.0\tLoss\n",
      "34\t40.0\tLoss\n",
      "35\t16.0\tLoss\n",
      "36\t28.0\tLoss\n",
      "37\t32.0\tLoss\n",
      "38\t57.0\tLoss\n",
      "39\t38.0\tLoss\n",
      "40\t12.0\tLoss\n",
      "41\t23.0\tLoss\n",
      "42\t10.0\tLoss\n",
      "43\t14.0\tLoss\n",
      "44\t22.0\tLoss\n",
      "45\t28.0\tLoss\n",
      "46\t57.0\tLoss\n",
      "47\t25.0\tLoss\n",
      "48\t11.0\tLoss\n",
      "49\t14.0\tLoss\n"
     ]
    }
   ],
   "source": [
    "print('回合\\t報酬\\t結果')\n",
    "for i, (rewards, steps) in enumerate(zip(all_rewards, all_steps)):\n",
    "    result = 'Win' if steps >= 200 else 'Loss'\n",
    "    print(f'{i}\\t{rewards}\\t{result}')"
   ]
  },
  {
   "cell_type": "code",
   "execution_count": 53,
   "id": "48c070be",
   "metadata": {
    "ExecuteTime": {
     "end_time": "2023-02-22T15:27:33.433785Z",
     "start_time": "2023-02-22T15:27:33.425275Z"
    }
   },
   "outputs": [],
   "source": [
    "import math\n",
    "\n",
    "left, right = 0, 1\n",
    "max_angle = 8"
   ]
  },
  {
   "cell_type": "code",
   "execution_count": 57,
   "id": "27aa7db2",
   "metadata": {
    "ExecuteTime": {
     "end_time": "2023-02-22T15:27:47.632716Z",
     "start_time": "2023-02-22T15:27:47.626522Z"
    }
   },
   "outputs": [],
   "source": [
    "class Agent:\n",
    "    def __init__(self):\n",
    "        self.direction = left\n",
    "        self.last_direction = right\n",
    "    \n",
    "    def act(self, observation):\n",
    "        if observation[1] == {}:\n",
    "            cart_position, cart_velocity, pole_angle, pole_velocity = observation[0]\n",
    "        else:\n",
    "            cart_position, cart_velocity, pole_angle, pole_velocity = observation\n",
    "        if pole_angle < math.radians(max_angle) and pole_angle > math.radians(-max_angle):\n",
    "            self.direction = (self.last_direction + 1) % 2\n",
    "        elif pole_angle >= math.radians(max_angle):\n",
    "            self.direction = right\n",
    "        else:\n",
    "            self.direction = left\n",
    "        self.last_direction = self.direction\n",
    "        \n",
    "        return self.direction  "
   ]
  },
  {
   "cell_type": "code",
   "execution_count": 58,
   "id": "48cb2d37",
   "metadata": {
    "ExecuteTime": {
     "end_time": "2023-02-22T15:27:47.990311Z",
     "start_time": "2023-02-22T15:27:47.973761Z"
    }
   },
   "outputs": [],
   "source": [
    "no = 50 \n",
    "env = gym.make(\"CartPole-v1\")\n",
    "observation = env.reset()\n",
    "all_rewards=[] \n",
    "all_steps=[]\n",
    "total_rewards = 0\n",
    "total_steps=0"
   ]
  },
  {
   "cell_type": "code",
   "execution_count": 59,
   "id": "8a4f12a8",
   "metadata": {
    "ExecuteTime": {
     "end_time": "2023-02-22T15:27:48.640960Z",
     "start_time": "2023-02-22T15:27:48.566261Z"
    }
   },
   "outputs": [],
   "source": [
    "agent = Agent() \n",
    "while no > 0:\n",
    "    action = agent.act(observation)\n",
    "    total_steps += 1\n",
    "\n",
    "    # 觸動下一步\n",
    "    observation, reward, terminated, truncated, info = env.step(action)\n",
    "    # 累計報酬\n",
    "    total_rewards += reward\n",
    "\n",
    "    # 比賽回合結束，重置\n",
    "    if terminated or truncated:\n",
    "        observation = env.reset()\n",
    "        all_rewards.append(total_rewards)\n",
    "        total_rewards = 0\n",
    "        all_steps.append(total_steps)\n",
    "        total_steps = 0\n",
    "        no-=1\n",
    "\n",
    "    env.close()"
   ]
  },
  {
   "cell_type": "code",
   "execution_count": 60,
   "id": "919c89e5",
   "metadata": {
    "ExecuteTime": {
     "end_time": "2023-02-22T15:27:50.291302Z",
     "start_time": "2023-02-22T15:27:50.275686Z"
    }
   },
   "outputs": [
    {
     "name": "stdout",
     "output_type": "stream",
     "text": [
      "回合\t報酬\t結果\n",
      "0\t83.0\tLoss\n",
      "1\t82.0\tLoss\n",
      "2\t103.0\tLoss\n",
      "3\t122.0\tLoss\n",
      "4\t72.0\tLoss\n",
      "5\t80.0\tLoss\n",
      "6\t122.0\tLoss\n",
      "7\t98.0\tLoss\n",
      "8\t72.0\tLoss\n",
      "9\t81.0\tLoss\n",
      "10\t91.0\tLoss\n",
      "11\t134.0\tLoss\n",
      "12\t98.0\tLoss\n",
      "13\t91.0\tLoss\n",
      "14\t78.0\tLoss\n",
      "15\t48.0\tLoss\n",
      "16\t70.0\tLoss\n",
      "17\t102.0\tLoss\n",
      "18\t92.0\tLoss\n",
      "19\t69.0\tLoss\n",
      "20\t71.0\tLoss\n",
      "21\t66.0\tLoss\n",
      "22\t118.0\tLoss\n",
      "23\t95.0\tLoss\n",
      "24\t136.0\tLoss\n",
      "25\t69.0\tLoss\n",
      "26\t67.0\tLoss\n",
      "27\t97.0\tLoss\n",
      "28\t131.0\tLoss\n",
      "29\t42.0\tLoss\n",
      "30\t78.0\tLoss\n",
      "31\t103.0\tLoss\n",
      "32\t74.0\tLoss\n",
      "33\t45.0\tLoss\n",
      "34\t58.0\tLoss\n",
      "35\t133.0\tLoss\n",
      "36\t96.0\tLoss\n",
      "37\t76.0\tLoss\n",
      "38\t115.0\tLoss\n",
      "39\t120.0\tLoss\n",
      "40\t43.0\tLoss\n",
      "41\t105.0\tLoss\n",
      "42\t65.0\tLoss\n",
      "43\t93.0\tLoss\n",
      "44\t45.0\tLoss\n",
      "45\t108.0\tLoss\n",
      "46\t110.0\tLoss\n",
      "47\t47.0\tLoss\n",
      "48\t54.0\tLoss\n",
      "49\t66.0\tLoss\n"
     ]
    }
   ],
   "source": [
    "print('回合\\t報酬\\t結果')\n",
    "for i, (rewards, steps) in enumerate(zip(all_rewards, all_steps)):\n",
    "    result = 'Win' if steps >= 200 else 'Loss'\n",
    "    print(f'{i}\\t{rewards}\\t{result}')"
   ]
  },
  {
   "cell_type": "markdown",
   "id": "ae4a2234",
   "metadata": {},
   "source": [
    "以下程式來自：『From Scratch_ AI Balancing Act in 50 Lines of Python』"
   ]
  },
  {
   "cell_type": "code",
   "execution_count": 62,
   "id": "64810186",
   "metadata": {
    "ExecuteTime": {
     "end_time": "2023-02-22T15:49:25.128620Z",
     "start_time": "2023-02-22T15:49:25.116708Z"
    }
   },
   "outputs": [],
   "source": [
    "import numpy as np\n",
    "\n",
    "env = gym.make('CartPole-v1')"
   ]
  },
  {
   "cell_type": "code",
   "execution_count": 74,
   "id": "1928c861",
   "metadata": {
    "ExecuteTime": {
     "end_time": "2023-02-22T16:01:09.478017Z",
     "start_time": "2023-02-22T16:01:09.472052Z"
    }
   },
   "outputs": [],
   "source": [
    "def play(env, policy):\n",
    "    observation = env.reset()\n",
    "    terminated = truncated = False\n",
    "    score = 0\n",
    "    observations = []\n",
    "    for _ in range(5000):\n",
    "        if observation[1] == {}:\n",
    "            observations += [observation[0].tolist()]\n",
    "        else:\n",
    "            observations += [observation.tolist()]\n",
    "        if terminated or truncated:\n",
    "            break\n",
    "        if observation[1] == {}:\n",
    "            outcome = np.dot(policy, observation[0])\n",
    "        else:\n",
    "            outcome = np.dot(policy, observation)\n",
    "        action = 1 if outcome > 0 else 0\n",
    "        \n",
    "        observation, reward, terminated, truncated, info = env.step(action)\n",
    "        score += reward\n",
    "    return score, observation"
   ]
  },
  {
   "cell_type": "code",
   "execution_count": 75,
   "id": "46c0468e",
   "metadata": {
    "ExecuteTime": {
     "end_time": "2023-02-22T16:01:09.960648Z",
     "start_time": "2023-02-22T16:01:09.892107Z"
    }
   },
   "outputs": [],
   "source": [
    "max = (0, [], [])\n",
    "for _ in range(10):\n",
    "    policy = np.random.rand(1, 4)\n",
    "    score, observations = play(env, policy)\n",
    "    \n",
    "    if score > max[0]:\n",
    "        max = (score, observation, policy)"
   ]
  },
  {
   "cell_type": "code",
   "execution_count": 76,
   "id": "f4c038fd",
   "metadata": {
    "ExecuteTime": {
     "end_time": "2023-02-22T16:02:11.516010Z",
     "start_time": "2023-02-22T16:02:11.497207Z"
    }
   },
   "outputs": [
    {
     "name": "stdout",
     "output_type": "stream",
     "text": [
      "Max Score 500.0\n"
     ]
    }
   ],
   "source": [
    "print('Max Score', max[0])\n"
   ]
  },
  {
   "cell_type": "code",
   "execution_count": 77,
   "id": "c30bff1e",
   "metadata": {
    "ExecuteTime": {
     "end_time": "2023-02-22T16:02:46.831687Z",
     "start_time": "2023-02-22T16:02:46.701936Z"
    }
   },
   "outputs": [
    {
     "name": "stdout",
     "output_type": "stream",
     "text": [
      "Max Score 500.0\n"
     ]
    }
   ],
   "source": [
    "max = (0, [], [])\n",
    "for _ in range(100): # 訓練 100 回合    \n",
    "    policy = np.random.rand(1,4) - 0.5  # 改為 [-0.5, 0.5]\n",
    "    score, observations = play(env, policy)\n",
    "    \n",
    "    if score > max[0]:  # 取最大分數\n",
    "        max = (score, observations, policy)\n",
    "        \n",
    "print('Max Score', max[0])"
   ]
  },
  {
   "cell_type": "code",
   "execution_count": 78,
   "id": "b3a5a8c4",
   "metadata": {
    "ExecuteTime": {
     "end_time": "2023-02-22T16:02:59.031634Z",
     "start_time": "2023-02-22T16:02:59.019233Z"
    }
   },
   "outputs": [
    {
     "data": {
      "text/plain": [
       "array([[ 0.05388207, -0.03678805,  0.31793161,  0.21778035]])"
      ]
     },
     "execution_count": 78,
     "metadata": {},
     "output_type": "execute_result"
    }
   ],
   "source": [
    "policy = max[2]\n",
    "policy"
   ]
  },
  {
   "cell_type": "code",
   "execution_count": 79,
   "id": "b1f4b44e",
   "metadata": {
    "ExecuteTime": {
     "end_time": "2023-02-22T16:03:06.855001Z",
     "start_time": "2023-02-22T16:03:06.759524Z"
    }
   },
   "outputs": [
    {
     "name": "stdout",
     "output_type": "stream",
     "text": [
      "Score:  500.0\n",
      "Score:  500.0\n",
      "Score:  500.0\n",
      "Score:  500.0\n",
      "Score:  365.0\n",
      "Score:  500.0\n",
      "Score:  500.0\n",
      "Score:  500.0\n",
      "Score:  500.0\n",
      "Score:  472.0\n"
     ]
    }
   ],
   "source": [
    "for _ in range(10): \n",
    "    score, observations = play(env, policy)\n",
    "    print('Score: ', score)"
   ]
  },
  {
   "cell_type": "code",
   "execution_count": null,
   "id": "23a1e26c",
   "metadata": {},
   "outputs": [],
   "source": []
  }
 ],
 "metadata": {
  "kernelspec": {
   "display_name": "Python 3 (ipykernel)",
   "language": "python",
   "name": "python3"
  },
  "language_info": {
   "codemirror_mode": {
    "name": "ipython",
    "version": 3
   },
   "file_extension": ".py",
   "mimetype": "text/x-python",
   "name": "python",
   "nbconvert_exporter": "python",
   "pygments_lexer": "ipython3",
   "version": "3.8.8"
  },
  "varInspector": {
   "cols": {
    "lenName": 16,
    "lenType": 16,
    "lenVar": 40
   },
   "kernels_config": {
    "python": {
     "delete_cmd_postfix": "",
     "delete_cmd_prefix": "del ",
     "library": "var_list.py",
     "varRefreshCmd": "print(var_dic_list())"
    },
    "r": {
     "delete_cmd_postfix": ") ",
     "delete_cmd_prefix": "rm(",
     "library": "var_list.r",
     "varRefreshCmd": "cat(var_dic_list()) "
    }
   },
   "types_to_exclude": [
    "module",
    "function",
    "builtin_function_or_method",
    "instance",
    "_Feature"
   ],
   "window_display": false
  }
 },
 "nbformat": 4,
 "nbformat_minor": 5
}
