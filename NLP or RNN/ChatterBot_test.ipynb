{
 "cells": [
  {
   "cell_type": "code",
   "execution_count": 2,
   "id": "1f6668ed",
   "metadata": {
    "ExecuteTime": {
     "end_time": "2023-03-18T17:39:12.995171Z",
     "start_time": "2023-03-18T17:39:11.038999Z"
    }
   },
   "outputs": [],
   "source": [
    "from chatterbot import ChatBot\n",
    "from chatterbot.trainers import ListTrainer"
   ]
  },
  {
   "cell_type": "code",
   "execution_count": 4,
   "id": "1c0ab3e7",
   "metadata": {
    "ExecuteTime": {
     "end_time": "2023-03-18T17:41:54.491237Z",
     "start_time": "2023-03-18T17:41:44.665169Z"
    }
   },
   "outputs": [
    {
     "name": "stderr",
     "output_type": "stream",
     "text": [
      "[nltk_data] Downloading package averaged_perceptron_tagger to\n",
      "[nltk_data]     C:\\Users\\ian\\AppData\\Roaming\\nltk_data...\n",
      "[nltk_data]   Package averaged_perceptron_tagger is already up-to-\n",
      "[nltk_data]       date!\n",
      "[nltk_data] Downloading package punkt to\n",
      "[nltk_data]     C:\\Users\\ian\\AppData\\Roaming\\nltk_data...\n",
      "[nltk_data]   Unzipping tokenizers\\punkt.zip.\n",
      "[nltk_data] Downloading package stopwords to\n",
      "[nltk_data]     C:\\Users\\ian\\AppData\\Roaming\\nltk_data...\n"
     ]
    },
    {
     "name": "stdout",
     "output_type": "stream",
     "text": [
      "\r",
      "List Trainer: [###                 ] 14%"
     ]
    },
    {
     "name": "stderr",
     "output_type": "stream",
     "text": [
      "[nltk_data]   Unzipping corpora\\stopwords.zip.\n"
     ]
    },
    {
     "name": "stdout",
     "output_type": "stream",
     "text": [
      "List Trainer: [####################] 100%\n"
     ]
    }
   ],
   "source": [
    "chatbot = ChatBot(\"QA\")\n",
    "conversation = [\n",
    "    \"Hello\",\n",
    "    \"Hi there!\",\n",
    "    \"How are you doing?\",\n",
    "    \"I'm doing great.\",\n",
    "    \"That is good to hear\",\n",
    "    \"Thank you.\",\n",
    "    \"You're welcome.\"\n",
    "]\n",
    "trainer = ListTrainer(chatbot)\n",
    "\n",
    "trainer.train(conversation)"
   ]
  },
  {
   "cell_type": "code",
   "execution_count": 5,
   "id": "a9f12e35",
   "metadata": {
    "ExecuteTime": {
     "end_time": "2023-03-18T17:42:01.284414Z",
     "start_time": "2023-03-18T17:42:01.215631Z"
    }
   },
   "outputs": [
    {
     "name": "stdout",
     "output_type": "stream",
     "text": [
      "回答：Hi there!\n"
     ]
    }
   ],
   "source": [
    "response = chatbot.get_response(\"Good morning!\")\n",
    "print(f'回答：{response}')"
   ]
  },
  {
   "cell_type": "code",
   "execution_count": 6,
   "id": "3dcedd61",
   "metadata": {
    "ExecuteTime": {
     "end_time": "2023-03-18T17:42:11.592420Z",
     "start_time": "2023-03-18T17:42:11.541044Z"
    }
   },
   "outputs": [
    {
     "name": "stdout",
     "output_type": "stream",
     "text": [
      "回答：How are you doing?\n"
     ]
    }
   ],
   "source": [
    "response = chatbot.get_response(\"Hi there\")\n",
    "print(f'回答：{response}')"
   ]
  },
  {
   "cell_type": "code",
   "execution_count": 7,
   "id": "0bcc708c",
   "metadata": {
    "ExecuteTime": {
     "end_time": "2023-03-18T17:42:23.665047Z",
     "start_time": "2023-03-18T17:42:23.613249Z"
    }
   },
   "outputs": [
    {
     "name": "stderr",
     "output_type": "stream",
     "text": [
      "[nltk_data] Downloading package averaged_perceptron_tagger to\n",
      "[nltk_data]     C:\\Users\\ian\\AppData\\Roaming\\nltk_data...\n",
      "[nltk_data]   Package averaged_perceptron_tagger is already up-to-\n",
      "[nltk_data]       date!\n",
      "[nltk_data] Downloading package punkt to\n",
      "[nltk_data]     C:\\Users\\ian\\AppData\\Roaming\\nltk_data...\n",
      "[nltk_data]   Package punkt is already up-to-date!\n",
      "[nltk_data] Downloading package stopwords to\n",
      "[nltk_data]     C:\\Users\\ian\\AppData\\Roaming\\nltk_data...\n",
      "[nltk_data]   Package stopwords is already up-to-date!\n"
     ]
    }
   ],
   "source": [
    "bot = ChatBot(\n",
    "    'Built-in adapters',\n",
    "    storage_adapter='chatterbot.storage.SQLStorageAdapter',\n",
    "    logic_adapters=[\n",
    "        'chatterbot.logic.MathematicalEvaluation',\n",
    "        'chatterbot.logic.TimeLogicAdapter',\n",
    "        'chatterbot.logic.BestMatch'\n",
    "    ],\n",
    "    database_uri='sqlite:///database.sqlite3'\n",
    ")"
   ]
  },
  {
   "cell_type": "code",
   "execution_count": 8,
   "id": "a643a84f",
   "metadata": {
    "ExecuteTime": {
     "end_time": "2023-03-18T17:42:34.824108Z",
     "start_time": "2023-03-18T17:42:34.763438Z"
    }
   },
   "outputs": [
    {
     "name": "stdout",
     "output_type": "stream",
     "text": [
      "回答：The current time is 01:42 AM\n"
     ]
    }
   ],
   "source": [
    "response = bot.get_response(\"What time is it?\")\n",
    "print(f'回答：{response}')"
   ]
  },
  {
   "cell_type": "code",
   "execution_count": 9,
   "id": "53fbb7b6",
   "metadata": {
    "ExecuteTime": {
     "end_time": "2023-03-18T17:42:43.185093Z",
     "start_time": "2023-03-18T17:42:43.110739Z"
    }
   },
   "outputs": [
    {
     "name": "stdout",
     "output_type": "stream",
     "text": [
      "回答：The current time is 01:42 AM\n"
     ]
    }
   ],
   "source": [
    "response = bot.get_response(\"it is time to go to sleep\")\n",
    "print(f'回答：{response}')"
   ]
  },
  {
   "cell_type": "code",
   "execution_count": 11,
   "id": "64237932",
   "metadata": {
    "ExecuteTime": {
     "end_time": "2023-03-18T17:42:56.445278Z",
     "start_time": "2023-03-18T17:42:56.242792Z"
    }
   },
   "outputs": [
    {
     "name": "stdout",
     "output_type": "stream",
     "text": [
      "回答：7 = 7\n",
      "回答：8 minus 7 = 1\n",
      "回答：50 * 100 = 5000\n",
      "回答：50 * ( 85 / 100 ) = 42.50\n"
     ]
    }
   ],
   "source": [
    "response = bot.get_response(\"What is 7 plus 7?\")\n",
    "print(f'回答：{response}')\n",
    "\n",
    "# 8 - 7\n",
    "response = bot.get_response(\"What is 8 minus 7?\")\n",
    "print(f'回答：{response}')\n",
    "\n",
    "# 50 * 100\n",
    "response = bot.get_response(\"What is 50 * 100?\")\n",
    "print(f'回答：{response}')\n",
    "\n",
    "# 50 * (85 / 100)\n",
    "response = bot.get_response(\"What is 50 * (85 / 100)?\")\n",
    "print(f'回答：{response}')"
   ]
  },
  {
   "cell_type": "code",
   "execution_count": null,
   "id": "7ac04670",
   "metadata": {},
   "outputs": [],
   "source": []
  }
 ],
 "metadata": {
  "kernelspec": {
   "display_name": "Python 3 (ipykernel)",
   "language": "python",
   "name": "python3"
  },
  "language_info": {
   "codemirror_mode": {
    "name": "ipython",
    "version": 3
   },
   "file_extension": ".py",
   "mimetype": "text/x-python",
   "name": "python",
   "nbconvert_exporter": "python",
   "pygments_lexer": "ipython3",
   "version": "3.8.8"
  },
  "varInspector": {
   "cols": {
    "lenName": 16,
    "lenType": 16,
    "lenVar": 40
   },
   "kernels_config": {
    "python": {
     "delete_cmd_postfix": "",
     "delete_cmd_prefix": "del ",
     "library": "var_list.py",
     "varRefreshCmd": "print(var_dic_list())"
    },
    "r": {
     "delete_cmd_postfix": ") ",
     "delete_cmd_prefix": "rm(",
     "library": "var_list.r",
     "varRefreshCmd": "cat(var_dic_list()) "
    }
   },
   "types_to_exclude": [
    "module",
    "function",
    "builtin_function_or_method",
    "instance",
    "_Feature"
   ],
   "window_display": false
  }
 },
 "nbformat": 4,
 "nbformat_minor": 5
}
