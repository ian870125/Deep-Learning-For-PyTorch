{
 "cells": [
  {
   "cell_type": "code",
   "execution_count": 51,
   "id": "1e0852c7",
   "metadata": {
    "ExecuteTime": {
     "end_time": "2023-02-04T13:48:58.038648Z",
     "start_time": "2023-02-04T13:48:58.026291Z"
    }
   },
   "outputs": [],
   "source": [
    "import numpy as np\n",
    "import random"
   ]
  },
  {
   "cell_type": "code",
   "execution_count": 52,
   "id": "eeec3081",
   "metadata": {
    "ExecuteTime": {
     "end_time": "2023-02-04T13:48:58.240617Z",
     "start_time": "2023-02-04T13:48:58.231580Z"
    }
   },
   "outputs": [],
   "source": [
    "Node_count = 15\n",
    "Normal_reward = -.02\n"
   ]
  },
  {
   "cell_type": "code",
   "execution_count": 53,
   "id": "484ddc11",
   "metadata": {
    "ExecuteTime": {
     "end_time": "2023-02-04T13:48:58.472380Z",
     "start_time": "2023-02-04T13:48:58.456475Z"
    }
   },
   "outputs": [],
   "source": [
    "class Environment():\n",
    "    def __init__(self):\n",
    "        self.state_value = np.full((Node_count + 1), 0)\n",
    "        self.state_value_count = np.full((Node_count+1), 0)\n",
    "        \n",
    "    def reset(self):\n",
    "        self.poisition = int((1 + Node_count) / 2)\n",
    "        self.trajectory = [self.poisition]\n",
    "    \n",
    "    def get_states(self):\n",
    "        return [i for i in range(1, Node_count + 1)]\n",
    "    \n",
    "    def get_actions(self):\n",
    "        return [-1, 1]\n",
    "    \n",
    "    def is_done(self):\n",
    "        return self.poisition == 1 or self.poisition == Node_count\n",
    "    \n",
    "    def step(self, action):\n",
    "        if self.is_done():\n",
    "            raise Exception('Game over')\n",
    "            \n",
    "        self.poisition += action\n",
    "        self.trajectory.append(self.poisition)\n",
    "        if self.poisition == 1:\n",
    "            reward = -1\n",
    "        elif self.poisition == Node_count:\n",
    "            reward = 1\n",
    "        else:\n",
    "            reward = Normal_reward\n",
    "        return self.poisition, reward\n",
    "    \n",
    "    def update_state_value(self, final_value):\n",
    "        for i in range(len(self.trajectory) - 1, -1, -1):\n",
    "            final_value += Normal_reward\n",
    "            self.state_value[self.trajectory[i]] += final_value\n",
    "            self.state_value_count[self.trajectory[i]] += 1\n",
    "            \n",
    "    def get_observation(self):\n",
    "        mean1 = np.full((Node_count + 1), 0)\n",
    "        for i in range(1, Node_count + 1):\n",
    "            if self.state_value_count[i] == 0:\n",
    "                mean1[i] = 0\n",
    "                \n",
    "            else:\n",
    "                mean1[i] = self.state_value[i] / self.state_value_count[i]\n",
    "        return mean1\n",
    "            "
   ]
  },
  {
   "cell_type": "code",
   "execution_count": 54,
   "id": "64e0c907",
   "metadata": {
    "ExecuteTime": {
     "end_time": "2023-02-04T13:48:58.813542Z",
     "start_time": "2023-02-04T13:48:58.799527Z"
    }
   },
   "outputs": [],
   "source": [
    "class Agent():\n",
    "    def __init__(self):\n",
    "        pass\n",
    "    \n",
    "    def action(self, env):\n",
    "        state_value = env.get_observation()\n",
    "        \n",
    "        if state_value[env.poisition - 1] > state_value[env.poisition + 1]:\n",
    "            next_action = -1\n",
    "        elif state_value[env.poisition-1] < state_value[env.poisition+1]: \n",
    "            next_action = 1\n",
    "        else:\n",
    "            next_action = random.choice(env.get_actions())\n",
    "            \n",
    "        return next_action"
   ]
  },
  {
   "cell_type": "code",
   "execution_count": 55,
   "id": "69f25ceb",
   "metadata": {
    "ExecuteTime": {
     "end_time": "2023-02-04T13:48:59.198699Z",
     "start_time": "2023-02-04T13:48:59.172130Z"
    },
    "scrolled": true
   },
   "outputs": [
    {
     "name": "stdout",
     "output_type": "stream",
     "text": [
      "trajectory 0: [8, 9, 10, 9, 8, 9, 10, 9, 10, 11, 12, 11, 10, 9, 10, 9, 8, 9, 8, 7, 6, 7, 8, 7, 8, 9, 10, 11, 12, 13, 14, 15]\n",
      "trajectory 1: [8, 9, 8, 9, 8, 9, 8, 9, 8, 7, 6, 7, 8, 9, 8, 9, 10, 9, 8, 7, 6, 7, 8, 9, 10, 11, 12, 11, 10, 11, 12, 13, 12, 13, 14, 13, 14, 13, 12, 13, 14, 13, 12, 11, 10, 9, 10, 11, 10, 11, 12, 13, 12, 11, 12, 13, 14, 13, 14, 15]\n",
      "trajectory 2: [8, 9, 10, 9, 10, 9, 8, 7, 8, 7, 6, 5, 4, 5, 4, 3, 4, 3, 2, 1]\n",
      "trajectory 3: [8, 9, 10, 11, 10, 11, 12, 13, 14, 13, 14, 13, 12, 11, 12, 11, 10, 9, 8, 7, 6, 7, 6, 7, 6, 7, 8, 9, 10, 9, 8, 9, 10, 9, 10, 11, 12, 13, 14, 13, 12, 13, 12, 11, 10, 11, 10, 9, 10, 9, 8, 9, 8, 9, 8, 9, 8, 9, 10, 11, 12, 13, 14, 13, 12, 13, 14, 15]\n",
      "trajectory 4: [8, 9, 10, 11, 12, 13, 14, 15]\n",
      "trajectory 5: [8, 7, 8, 9, 10, 9, 8, 7, 8, 9, 8, 7, 8, 9, 10, 9, 10, 11, 10, 11, 10, 11, 10, 11, 10, 11, 10, 11, 12, 13, 12, 11, 10, 11, 10, 11, 10, 9, 8, 7, 8, 7, 6, 7, 8, 9, 10, 11, 10, 11, 12, 11, 10, 9, 8, 7, 8, 9, 10, 11, 10, 11, 12, 13, 14, 13, 14, 13, 12, 11, 12, 11, 10, 9, 8, 9, 8, 9, 10, 9, 10, 9, 10, 9, 8, 9, 8, 9, 10, 9, 8, 9, 10, 11, 12, 13, 14, 15]\n",
      "trajectory 6: [8, 9, 8, 9, 8, 9, 10, 11, 12, 13, 14, 13, 14, 13, 14, 13, 12, 11, 12, 11, 10, 9, 8, 9, 8, 9, 10, 11, 10, 11, 10, 11, 12, 11, 10, 9, 8, 9, 8, 9, 10, 9, 10, 9, 10, 9, 8, 9, 8, 9, 8, 9, 10, 11, 12, 11, 12, 13, 12, 11, 10, 11, 10, 11, 12, 11, 10, 9, 8, 9, 10, 11, 12, 11, 12, 11, 12, 11, 10, 11, 12, 13, 12, 13, 12, 13, 12, 13, 14, 13, 14, 15]\n",
      "trajectory 7: [8, 9, 10, 11, 10, 9, 10, 9, 10, 9, 10, 9, 10, 9, 10, 9, 10, 9, 10, 9, 10, 11, 12, 11, 10, 9, 10, 11, 12, 11, 10, 9, 10, 11, 10, 9, 10, 11, 10, 9, 10, 11, 12, 13, 12, 11, 10, 11, 10, 9, 10, 9, 10, 11, 12, 11, 10, 9, 10, 11, 10, 9, 10, 9, 10, 9, 10, 11, 12, 11, 12, 11, 12, 11, 10, 11, 12, 11, 12, 13, 12, 11, 10, 11, 10, 11, 12, 11, 10, 9, 10, 9, 10, 9, 10, 11, 12, 13, 12, 13, 14, 13]\n",
      "trajectory 8: [8, 9, 10, 11, 12, 13, 14, 13, 14, 15]\n",
      "trajectory 9: [8, 9, 10, 9, 8, 9, 10, 11, 12, 11, 12, 13, 14, 13, 14, 13, 14, 15]\n",
      "累計報酬: [0.4, -0.16, -1.36, -0.32, 0.88, -0.92, -0.8, -2.02, 0.84, 0.68]\n"
     ]
    }
   ],
   "source": [
    "env = Environment()\n",
    "agent = Agent()\n",
    "total_reward_list = []\n",
    "for i in range(10):\n",
    "    env.reset()\n",
    "    total_reward = 0\n",
    "    action_count = 0\n",
    "    while not env.is_done():\n",
    "        action = agent.action(env)\n",
    "        action_count += 1\n",
    "        state, reward = env.step(action)\n",
    "        \n",
    "        total_reward += reward\n",
    "        \n",
    "        if action_count > 100:\n",
    "            env.poision = int((1 + Node_count) / 2)\n",
    "            break\n",
    "            \n",
    "    print(f'trajectory {i}: {env.trajectory}')\n",
    "    \n",
    "    if action_count <= 100:\n",
    "        env.update_state_value(total_reward)\n",
    "    total_reward_list.append(round(total_reward, 2))   \n",
    "print(f\"累計報酬: {total_reward_list}\")\n",
    "    "
   ]
  },
  {
   "cell_type": "code",
   "execution_count": 56,
   "id": "5f952af0",
   "metadata": {
    "ExecuteTime": {
     "end_time": "2023-02-04T13:49:01.851941Z",
     "start_time": "2023-02-04T13:49:01.832919Z"
    }
   },
   "outputs": [
    {
     "data": {
      "text/plain": [
       "array([-1, -1, -1, -1, -1,  0, -1,  0,  0,  0,  0,  0,  0,  0,  0])"
      ]
     },
     "execution_count": 56,
     "metadata": {},
     "output_type": "execute_result"
    }
   ],
   "source": [
    "env.get_observation()[1:]\n"
   ]
  },
  {
   "cell_type": "code",
   "execution_count": 48,
   "id": "4f3a6590",
   "metadata": {
    "ExecuteTime": {
     "end_time": "2023-02-04T13:48:42.420955Z",
     "start_time": "2023-02-04T13:48:42.412245Z"
    }
   },
   "outputs": [],
   "source": []
  },
  {
   "cell_type": "code",
   "execution_count": null,
   "id": "6eac9248",
   "metadata": {},
   "outputs": [],
   "source": []
  }
 ],
 "metadata": {
  "kernelspec": {
   "display_name": "Python 3 (ipykernel)",
   "language": "python",
   "name": "python3"
  },
  "language_info": {
   "codemirror_mode": {
    "name": "ipython",
    "version": 3
   },
   "file_extension": ".py",
   "mimetype": "text/x-python",
   "name": "python",
   "nbconvert_exporter": "python",
   "pygments_lexer": "ipython3",
   "version": "3.8.8"
  },
  "varInspector": {
   "cols": {
    "lenName": 16,
    "lenType": 16,
    "lenVar": 40
   },
   "kernels_config": {
    "python": {
     "delete_cmd_postfix": "",
     "delete_cmd_prefix": "del ",
     "library": "var_list.py",
     "varRefreshCmd": "print(var_dic_list())"
    },
    "r": {
     "delete_cmd_postfix": ") ",
     "delete_cmd_prefix": "rm(",
     "library": "var_list.r",
     "varRefreshCmd": "cat(var_dic_list()) "
    }
   },
   "types_to_exclude": [
    "module",
    "function",
    "builtin_function_or_method",
    "instance",
    "_Feature"
   ],
   "window_display": false
  }
 },
 "nbformat": 4,
 "nbformat_minor": 5
}
