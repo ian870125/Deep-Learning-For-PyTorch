{
 "cells": [
  {
   "cell_type": "code",
   "execution_count": 1,
   "id": "dacba972",
   "metadata": {
    "ExecuteTime": {
     "end_time": "2023-03-18T16:34:29.718360Z",
     "start_time": "2023-03-18T16:34:24.274148Z"
    }
   },
   "outputs": [],
   "source": [
    "import spacy\n",
    "import json\n",
    "import random\n",
    "import pandas as pd"
   ]
  },
  {
   "cell_type": "code",
   "execution_count": 2,
   "id": "723b33e9",
   "metadata": {
    "ExecuteTime": {
     "end_time": "2023-03-18T16:34:29.750744Z",
     "start_time": "2023-03-18T16:34:29.739607Z"
    }
   },
   "outputs": [],
   "source": [
    "data_file = open('./chatbot_data/intents.json').read()\n",
    "intents = json.loads(data_file)\n"
   ]
  },
  {
   "cell_type": "code",
   "execution_count": 3,
   "id": "bf37be72",
   "metadata": {
    "ExecuteTime": {
     "end_time": "2023-03-18T16:34:29.781530Z",
     "start_time": "2023-03-18T16:34:29.767686Z"
    },
    "scrolled": true
   },
   "outputs": [
    {
     "data": {
      "text/plain": [
       "{'intents': [{'tag': 'greeting',\n",
       "   'patterns': ['Hi there',\n",
       "    'How are you',\n",
       "    'Is anyone there?',\n",
       "    'Hey',\n",
       "    'Hola',\n",
       "    'Hello',\n",
       "    'Good day'],\n",
       "   'responses': ['Hello, thanks for asking',\n",
       "    'Good to see you again',\n",
       "    'Hi there, how can I help?'],\n",
       "   'context': ['']},\n",
       "  {'tag': 'goodbye',\n",
       "   'patterns': ['Bye',\n",
       "    'See you later',\n",
       "    'Goodbye',\n",
       "    'Nice chatting to you, bye',\n",
       "    'Till next time'],\n",
       "   'responses': ['See you!', 'Have a nice day', 'Bye! Come back again soon.'],\n",
       "   'context': ['']},\n",
       "  {'tag': 'thanks',\n",
       "   'patterns': ['Thanks',\n",
       "    'Thank you',\n",
       "    \"That's helpful\",\n",
       "    'Awesome, thanks',\n",
       "    'Thanks for helping me'],\n",
       "   'responses': ['Happy to help!', 'Any time!', 'My pleasure'],\n",
       "   'context': ['']},\n",
       "  {'tag': 'noanswer',\n",
       "   'patterns': [],\n",
       "   'responses': [\"Sorry, can't understand you\",\n",
       "    'Please give me more info',\n",
       "    'Not sure I understand'],\n",
       "   'context': ['']},\n",
       "  {'tag': 'options',\n",
       "   'patterns': ['How you could help me?',\n",
       "    'What you can do?',\n",
       "    'What help you provide?',\n",
       "    'How you can be helpful?',\n",
       "    'What support is offered'],\n",
       "   'responses': ['I can guide you through Adverse drug reaction list, Blood pressure tracking, Hospitals and Pharmacies',\n",
       "    'Offering support for Adverse drug reaction, Blood pressure, Hospitals and Pharmacies'],\n",
       "   'context': ['']},\n",
       "  {'tag': 'adverse_drug',\n",
       "   'patterns': ['How to check Adverse drug reaction?',\n",
       "    'Open adverse drugs module',\n",
       "    'Give me a list of drugs causing adverse behavior',\n",
       "    'List all drugs suitable for patient with adverse reaction',\n",
       "    'Which drugs dont have adverse reaction?'],\n",
       "   'responses': ['Navigating to Adverse drug reaction module'],\n",
       "   'context': ['']},\n",
       "  {'tag': 'blood_pressure',\n",
       "   'patterns': ['Open blood pressure module',\n",
       "    'Task related to blood pressure',\n",
       "    'Blood pressure data entry',\n",
       "    'I want to log blood pressure results',\n",
       "    'Blood pressure data management'],\n",
       "   'responses': ['Navigating to Blood Pressure module'],\n",
       "   'context': ['']},\n",
       "  {'tag': 'blood_pressure_search',\n",
       "   'patterns': ['I want to search for blood pressure result history',\n",
       "    'Blood pressure for patient',\n",
       "    'Load patient blood pressure result',\n",
       "    'Show blood pressure results for patient',\n",
       "    'Find blood pressure results by ID'],\n",
       "   'responses': ['Please provide Patient ID', 'Patient ID?'],\n",
       "   'context': ['search_blood_pressure_by_patient_id']},\n",
       "  {'tag': 'search_blood_pressure_by_patient_id',\n",
       "   'patterns': [],\n",
       "   'responses': ['Loading Blood pressure result for Patient'],\n",
       "   'context': ['']},\n",
       "  {'tag': 'pharmacy_search',\n",
       "   'patterns': ['Find me a pharmacy',\n",
       "    'Find pharmacy',\n",
       "    'List of pharmacies nearby',\n",
       "    'Locate pharmacy',\n",
       "    'Search pharmacy'],\n",
       "   'responses': ['Please provide pharmacy name'],\n",
       "   'context': ['search_pharmacy_by_name']},\n",
       "  {'tag': 'search_pharmacy_by_name',\n",
       "   'patterns': [],\n",
       "   'responses': ['Loading pharmacy details'],\n",
       "   'context': ['']},\n",
       "  {'tag': 'hospital_search',\n",
       "   'patterns': ['Lookup for hospital',\n",
       "    'Searching for hospital to transfer patient',\n",
       "    'I want to search hospital data',\n",
       "    'Hospital lookup for patient',\n",
       "    'Looking up hospital details'],\n",
       "   'responses': ['Please provide hospital name or location'],\n",
       "   'context': ['search_hospital_by_params']},\n",
       "  {'tag': 'search_hospital_by_params',\n",
       "   'patterns': [],\n",
       "   'responses': ['Please provide hospital type'],\n",
       "   'context': ['search_hospital_by_type']},\n",
       "  {'tag': 'search_hospital_by_type',\n",
       "   'patterns': [],\n",
       "   'responses': ['Loading hospital details'],\n",
       "   'context': ['']}]}"
      ]
     },
     "execution_count": 3,
     "metadata": {},
     "output_type": "execute_result"
    }
   ],
   "source": [
    "intents"
   ]
  },
  {
   "cell_type": "code",
   "execution_count": 4,
   "id": "0958d42a",
   "metadata": {
    "ExecuteTime": {
     "end_time": "2023-03-18T16:34:29.813403Z",
     "start_time": "2023-03-18T16:34:29.798378Z"
    }
   },
   "outputs": [
    {
     "name": "stdout",
     "output_type": "stream",
     "text": [
      "例句個數:47, intent個數:9\n"
     ]
    },
    {
     "data": {
      "text/html": [
       "<div>\n",
       "<style scoped>\n",
       "    .dataframe tbody tr th:only-of-type {\n",
       "        vertical-align: middle;\n",
       "    }\n",
       "\n",
       "    .dataframe tbody tr th {\n",
       "        vertical-align: top;\n",
       "    }\n",
       "\n",
       "    .dataframe thead th {\n",
       "        text-align: right;\n",
       "    }\n",
       "</style>\n",
       "<table border=\"1\" class=\"dataframe\">\n",
       "  <thead>\n",
       "    <tr style=\"text-align: right;\">\n",
       "      <th></th>\n",
       "      <th>no</th>\n",
       "      <th>response</th>\n",
       "    </tr>\n",
       "  </thead>\n",
       "  <tbody>\n",
       "    <tr>\n",
       "      <th>0</th>\n",
       "      <td>0</td>\n",
       "      <td>Hello, thanks for asking</td>\n",
       "    </tr>\n",
       "    <tr>\n",
       "      <th>1</th>\n",
       "      <td>0</td>\n",
       "      <td>Good to see you again</td>\n",
       "    </tr>\n",
       "    <tr>\n",
       "      <th>2</th>\n",
       "      <td>0</td>\n",
       "      <td>Hi there, how can I help?</td>\n",
       "    </tr>\n",
       "    <tr>\n",
       "      <th>3</th>\n",
       "      <td>1</td>\n",
       "      <td>See you!</td>\n",
       "    </tr>\n",
       "    <tr>\n",
       "      <th>4</th>\n",
       "      <td>1</td>\n",
       "      <td>Have a nice day</td>\n",
       "    </tr>\n",
       "    <tr>\n",
       "      <th>5</th>\n",
       "      <td>1</td>\n",
       "      <td>Bye! Come back again soon.</td>\n",
       "    </tr>\n",
       "    <tr>\n",
       "      <th>6</th>\n",
       "      <td>2</td>\n",
       "      <td>Happy to help!</td>\n",
       "    </tr>\n",
       "    <tr>\n",
       "      <th>7</th>\n",
       "      <td>2</td>\n",
       "      <td>Any time!</td>\n",
       "    </tr>\n",
       "    <tr>\n",
       "      <th>8</th>\n",
       "      <td>2</td>\n",
       "      <td>My pleasure</td>\n",
       "    </tr>\n",
       "    <tr>\n",
       "      <th>9</th>\n",
       "      <td>3</td>\n",
       "      <td>Sorry, can't understand you</td>\n",
       "    </tr>\n",
       "    <tr>\n",
       "      <th>10</th>\n",
       "      <td>3</td>\n",
       "      <td>Please give me more info</td>\n",
       "    </tr>\n",
       "    <tr>\n",
       "      <th>11</th>\n",
       "      <td>3</td>\n",
       "      <td>Not sure I understand</td>\n",
       "    </tr>\n",
       "    <tr>\n",
       "      <th>12</th>\n",
       "      <td>4</td>\n",
       "      <td>I can guide you through Adverse drug reaction ...</td>\n",
       "    </tr>\n",
       "    <tr>\n",
       "      <th>13</th>\n",
       "      <td>4</td>\n",
       "      <td>Offering support for Adverse drug reaction, Bl...</td>\n",
       "    </tr>\n",
       "    <tr>\n",
       "      <th>14</th>\n",
       "      <td>5</td>\n",
       "      <td>Navigating to Adverse drug reaction module</td>\n",
       "    </tr>\n",
       "    <tr>\n",
       "      <th>15</th>\n",
       "      <td>6</td>\n",
       "      <td>Navigating to Blood Pressure module</td>\n",
       "    </tr>\n",
       "    <tr>\n",
       "      <th>16</th>\n",
       "      <td>7</td>\n",
       "      <td>Please provide Patient ID</td>\n",
       "    </tr>\n",
       "    <tr>\n",
       "      <th>17</th>\n",
       "      <td>7</td>\n",
       "      <td>Patient ID?</td>\n",
       "    </tr>\n",
       "    <tr>\n",
       "      <th>18</th>\n",
       "      <td>8</td>\n",
       "      <td>Loading Blood pressure result for Patient</td>\n",
       "    </tr>\n",
       "    <tr>\n",
       "      <th>19</th>\n",
       "      <td>9</td>\n",
       "      <td>Please provide pharmacy name</td>\n",
       "    </tr>\n",
       "    <tr>\n",
       "      <th>20</th>\n",
       "      <td>10</td>\n",
       "      <td>Loading pharmacy details</td>\n",
       "    </tr>\n",
       "    <tr>\n",
       "      <th>21</th>\n",
       "      <td>11</td>\n",
       "      <td>Please provide hospital name or location</td>\n",
       "    </tr>\n",
       "    <tr>\n",
       "      <th>22</th>\n",
       "      <td>12</td>\n",
       "      <td>Please provide hospital type</td>\n",
       "    </tr>\n",
       "    <tr>\n",
       "      <th>23</th>\n",
       "      <td>13</td>\n",
       "      <td>Loading hospital details</td>\n",
       "    </tr>\n",
       "  </tbody>\n",
       "</table>\n",
       "</div>"
      ],
      "text/plain": [
       "    no                                           response\n",
       "0    0                           Hello, thanks for asking\n",
       "1    0                              Good to see you again\n",
       "2    0                          Hi there, how can I help?\n",
       "3    1                                           See you!\n",
       "4    1                                    Have a nice day\n",
       "5    1                         Bye! Come back again soon.\n",
       "6    2                                     Happy to help!\n",
       "7    2                                          Any time!\n",
       "8    2                                        My pleasure\n",
       "9    3                        Sorry, can't understand you\n",
       "10   3                           Please give me more info\n",
       "11   3                              Not sure I understand\n",
       "12   4  I can guide you through Adverse drug reaction ...\n",
       "13   4  Offering support for Adverse drug reaction, Bl...\n",
       "14   5         Navigating to Adverse drug reaction module\n",
       "15   6                Navigating to Blood Pressure module\n",
       "16   7                          Please provide Patient ID\n",
       "17   7                                        Patient ID?\n",
       "18   8          Loading Blood pressure result for Patient\n",
       "19   9                       Please provide pharmacy name\n",
       "20  10                           Loading pharmacy details\n",
       "21  11           Please provide hospital name or location\n",
       "22  12                       Please provide hospital type\n",
       "23  13                           Loading hospital details"
      ]
     },
     "execution_count": 4,
     "metadata": {},
     "output_type": "execute_result"
    }
   ],
   "source": [
    "intent_list = []\n",
    "documents = []\n",
    "responses = []\n",
    "\n",
    "for i, intent in enumerate(intents['intents']):\n",
    "    for pattern in intent['patterns']:\n",
    "        documents.append((pattern, intent['tag'], i))\n",
    "        if intent['tag'] not in intent_list:\n",
    "            intent_list.append(intent['tag'])\n",
    "    for response in intent['responses']:\n",
    "        responses.append((i, response))\n",
    "responses_df = pd.DataFrame(responses, columns=['no', 'response'])\n",
    "print(f'例句個數:{len(documents)}, intent個數:{len(intent_list)}')\n",
    "responses_df"
   ]
  },
  {
   "cell_type": "code",
   "execution_count": 8,
   "id": "729dde1d",
   "metadata": {
    "ExecuteTime": {
     "end_time": "2023-03-18T16:36:04.792417Z",
     "start_time": "2023-03-18T16:36:03.623793Z"
    }
   },
   "outputs": [],
   "source": [
    "nlp = spacy.load('en_core_web_md')\n"
   ]
  },
  {
   "cell_type": "code",
   "execution_count": 9,
   "id": "d3afc3f7",
   "metadata": {
    "ExecuteTime": {
     "end_time": "2023-03-18T16:36:21.309348Z",
     "start_time": "2023-03-18T16:36:21.291093Z"
    }
   },
   "outputs": [],
   "source": [
    "from spacy.lang.en.stop_words import STOP_WORDS\n"
   ]
  },
  {
   "cell_type": "code",
   "execution_count": 15,
   "id": "eb0d0112",
   "metadata": {
    "ExecuteTime": {
     "end_time": "2023-03-18T17:15:00.465006Z",
     "start_time": "2023-03-18T17:15:00.457840Z"
    }
   },
   "outputs": [],
   "source": [
    "def remove_stopwords(text1):\n",
    "    filtered_sentence =[] \n",
    "    doc = nlp(text1)\n",
    "    for word in doc:\n",
    "        if word.is_stop == False:\n",
    "            filtered_sentence.append(word.lemma_)\n",
    "    return nlp(' '.join(filtered_sentence))"
   ]
  },
  {
   "cell_type": "code",
   "execution_count": 17,
   "id": "3addf651",
   "metadata": {
    "ExecuteTime": {
     "end_time": "2023-03-18T17:18:05.699292Z",
     "start_time": "2023-03-18T17:18:05.684071Z"
    }
   },
   "outputs": [],
   "source": [
    "def say_goodbye():\n",
    "    tag = 1\n",
    "    response_filter = responses_df[responses_df['no'] == tag][['response']]\n",
    "    selected_response = response_filter.sample().iloc[0, 0]\n",
    "    return selected_response\n",
    "\n",
    "\n",
    "def say_not_understand():\n",
    "    tag = 3 \n",
    "    response_filter = responses_df[responses_df['no'] == tag][['response']]\n",
    "    selected_response = response_filter.sample().iloc[0, 0]\n",
    "    return selected_response"
   ]
  },
  {
   "cell_type": "code",
   "execution_count": 18,
   "id": "0dc5fd8c",
   "metadata": {
    "ExecuteTime": {
     "end_time": "2023-03-18T17:18:07.155482Z",
     "start_time": "2023-03-18T17:18:06.312749Z"
    }
   },
   "outputs": [
    {
     "name": "stdout",
     "output_type": "stream",
     "text": [
      "請輸入:\n",
      "\n",
      "回答：See you!\n"
     ]
    }
   ],
   "source": [
    "prob_thread =0.6\n",
    "while True:\n",
    "    max_score = 0\n",
    "    intent_no = -1\n",
    "    similar_question = ''\n",
    "    question = input('請輸入:\\n')\n",
    "    if question == '':\n",
    "        break\n",
    "    doc1 = remove_stopwords(question)\n",
    "    for utterance in documents:\n",
    "        doc2 = remove_stopwords(utterance[0])\n",
    "        if len(doc1) > 0 and len(doc2) > 0:\n",
    "            score = doc1.similarity(doc2)\n",
    "        if score > max_score:\n",
    "            max_score = score\n",
    "            intent_no = utterance[2]\n",
    "            similar_question = utterance[1] +', '+utterance[0]\n",
    "    if intent_no == -1 or max_score < prob_thread:\n",
    "        print(say_not_understand())\n",
    "    else:\n",
    "        print(f'你問的是：{similar_question}')\n",
    "        response_filter = responses_df[responses_df['no'] == intent_no][['response']]\n",
    "        # print(response_filter)\n",
    "        selected_response = response_filter.sample().iloc[0, 0]\n",
    "        # print(type(selected_response))\n",
    "        print(f'回答：{selected_response}')\n",
    "\n",
    "# say goodbye!        \n",
    "print(f'回答：{say_goodbye()}')"
   ]
  },
  {
   "cell_type": "code",
   "execution_count": null,
   "id": "39ac4e27",
   "metadata": {},
   "outputs": [],
   "source": []
  }
 ],
 "metadata": {
  "kernelspec": {
   "display_name": "Python 3 (ipykernel)",
   "language": "python",
   "name": "python3"
  },
  "language_info": {
   "codemirror_mode": {
    "name": "ipython",
    "version": 3
   },
   "file_extension": ".py",
   "mimetype": "text/x-python",
   "name": "python",
   "nbconvert_exporter": "python",
   "pygments_lexer": "ipython3",
   "version": "3.8.8"
  },
  "varInspector": {
   "cols": {
    "lenName": 16,
    "lenType": 16,
    "lenVar": 40
   },
   "kernels_config": {
    "python": {
     "delete_cmd_postfix": "",
     "delete_cmd_prefix": "del ",
     "library": "var_list.py",
     "varRefreshCmd": "print(var_dic_list())"
    },
    "r": {
     "delete_cmd_postfix": ") ",
     "delete_cmd_prefix": "rm(",
     "library": "var_list.r",
     "varRefreshCmd": "cat(var_dic_list()) "
    }
   },
   "types_to_exclude": [
    "module",
    "function",
    "builtin_function_or_method",
    "instance",
    "_Feature"
   ],
   "window_display": false
  }
 },
 "nbformat": 4,
 "nbformat_minor": 5
}
