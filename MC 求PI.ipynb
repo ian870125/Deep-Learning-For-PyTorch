{
 "cells": [
  {
   "cell_type": "code",
   "execution_count": 1,
   "id": "047e0160",
   "metadata": {
    "ExecuteTime": {
     "end_time": "2023-02-28T05:13:00.534754Z",
     "start_time": "2023-02-28T05:13:00.526440Z"
    }
   },
   "outputs": [],
   "source": [
    "import random"
   ]
  },
  {
   "cell_type": "code",
   "execution_count": 2,
   "id": "d52f5e3d",
   "metadata": {
    "ExecuteTime": {
     "end_time": "2023-02-28T06:54:16.180935Z",
     "start_time": "2023-02-28T06:54:04.992610Z"
    }
   },
   "outputs": [
    {
     "data": {
      "text/plain": [
       "3.141834"
      ]
     },
     "execution_count": 2,
     "metadata": {},
     "output_type": "execute_result"
    }
   ],
   "source": [
    "run_count = 10000000\n",
    "list1 = []\n",
    "for _ in range(run_count):\n",
    "    list1.append([random.random()-0.5, random.random()-0.5])\n",
    "in_circle_count = 0\n",
    "for i in range(run_count):\n",
    "    if list1[i][0] ** 2 + list1[i][1] ** 2 <= 0.5 ** 2:\n",
    "        in_circle_count += 1\n",
    "pi = (in_circle_count / run_count) * 4\n",
    "pi"
   ]
  },
  {
   "cell_type": "code",
   "execution_count": null,
   "id": "04e017fb",
   "metadata": {},
   "outputs": [],
   "source": []
  }
 ],
 "metadata": {
  "kernelspec": {
   "display_name": "Python 3 (ipykernel)",
   "language": "python",
   "name": "python3"
  },
  "language_info": {
   "codemirror_mode": {
    "name": "ipython",
    "version": 3
   },
   "file_extension": ".py",
   "mimetype": "text/x-python",
   "name": "python",
   "nbconvert_exporter": "python",
   "pygments_lexer": "ipython3",
   "version": "3.8.8"
  },
  "varInspector": {
   "cols": {
    "lenName": 16,
    "lenType": 16,
    "lenVar": 40
   },
   "kernels_config": {
    "python": {
     "delete_cmd_postfix": "",
     "delete_cmd_prefix": "del ",
     "library": "var_list.py",
     "varRefreshCmd": "print(var_dic_list())"
    },
    "r": {
     "delete_cmd_postfix": ") ",
     "delete_cmd_prefix": "rm(",
     "library": "var_list.r",
     "varRefreshCmd": "cat(var_dic_list()) "
    }
   },
   "types_to_exclude": [
    "module",
    "function",
    "builtin_function_or_method",
    "instance",
    "_Feature"
   ],
   "window_display": false
  }
 },
 "nbformat": 4,
 "nbformat_minor": 5
}
