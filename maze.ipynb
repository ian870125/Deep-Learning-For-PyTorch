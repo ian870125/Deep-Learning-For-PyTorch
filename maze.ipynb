{
 "cells": [
  {
   "cell_type": "markdown",
   "id": "8415d4e1",
   "metadata": {
    "ExecuteTime": {
     "end_time": "2023-02-04T16:04:06.758851Z",
     "start_time": "2023-02-04T16:04:06.442373Z"
    }
   },
   "source": [
    "## 起點為(1, 1)，終點為(4, 3)或(4, 2)，走到(4, 3)獎勵為1，走到(4, 2)獎勵為 -1，每走一步獎勵均為 -0.04。\n"
   ]
  },
  {
   "cell_type": "code",
   "execution_count": 73,
   "id": "8d1d9283",
   "metadata": {
    "ExecuteTime": {
     "end_time": "2023-02-06T13:05:35.264383Z",
     "start_time": "2023-02-06T13:05:35.255912Z"
    }
   },
   "outputs": [],
   "source": [
    "import numpy as np\n",
    "import random\n"
   ]
  },
  {
   "cell_type": "code",
   "execution_count": 74,
   "id": "4b86b4f3",
   "metadata": {
    "ExecuteTime": {
     "end_time": "2023-02-06T13:05:35.490645Z",
     "start_time": "2023-02-06T13:05:35.477962Z"
    }
   },
   "outputs": [],
   "source": [
    "row_count, column_count = 3, 4\n",
    "node_count = row_count * column_count\n",
    "normal_reward = -0.04\n",
    "win_reward = 1\n",
    "loss_reward = -1\n",
    "\n",
    "win_terminal = node_count - 1\n",
    "loss_terminal = node_count - 1 - column_count\n",
    "wall_nodes = [5]\n",
    "(up, down, left, right) = range(4)"
   ]
  },
  {
   "cell_type": "code",
   "execution_count": 75,
   "id": "33c49387",
   "metadata": {
    "ExecuteTime": {
     "end_time": "2023-02-06T13:05:35.781785Z",
     "start_time": "2023-02-06T13:05:35.766304Z"
    }
   },
   "outputs": [
    {
     "data": {
      "text/plain": [
       "{0, 1, 2, 3, 4, 7}"
      ]
     },
     "execution_count": 75,
     "metadata": {},
     "output_type": "execute_result"
    }
   ],
   "source": [
    "x = [0, 4, 0, 1, 2, 1, 0, 4, 0, 1, 2, 1, 2, 3, 7]\n",
    "set(x)"
   ]
  },
  {
   "cell_type": "code",
   "execution_count": 76,
   "id": "8f61a9dc",
   "metadata": {
    "ExecuteTime": {
     "end_time": "2023-02-06T13:05:36.074397Z",
     "start_time": "2023-02-06T13:05:36.061261Z"
    }
   },
   "outputs": [
    {
     "data": {
      "text/plain": [
       "[7, 3, 2, 1, 2, 1, 0, 4, 0, 1, 2, 1, 0, 4, 0]"
      ]
     },
     "execution_count": 76,
     "metadata": {},
     "output_type": "execute_result"
    }
   ],
   "source": [
    "x = [0, 4, 0, 1, 2, 1, 0, 4, 0, 1, 2, 1, 2, 3, 7]\n",
    "x.reverse() \n",
    "x"
   ]
  },
  {
   "cell_type": "code",
   "execution_count": 96,
   "id": "71199b2f",
   "metadata": {
    "ExecuteTime": {
     "end_time": "2023-02-06T13:22:44.933188Z",
     "start_time": "2023-02-06T13:22:44.921000Z"
    }
   },
   "outputs": [],
   "source": [
    "class Environment():\n",
    "    def __init__(self):\n",
    "        self.state_value = np.full(node_count, 0.0)\n",
    "        self.state_value_count = np.full(node_count, 0.0)\n",
    "        \n",
    "        \n",
    "    def reset(self):\n",
    "        self.poisition = 0\n",
    "        self.trajectory = [self.poisition]\n",
    "        \n",
    "    def get_states(self):\n",
    "        return [i for i in range(node_count)]\n",
    "    def get_actions(self):\n",
    "        return [up, down, left, right]\n",
    "    \n",
    "    def is_done(self):\n",
    "        return self.poisition == win_terminal or self.poisition == loss_terminal\n",
    "    \n",
    "    def update_poisition(self, action):\n",
    "        if action == down:\n",
    "            new_poisition = self.poisition - column_count\n",
    "            \n",
    "        if action == up:\n",
    "            new_poisition = self.poisition + column_count\n",
    "        if action == left:\n",
    "            new_poisition = self.poisition - 1\n",
    "        if action == right:\n",
    "            new_poisition = self.poisition + 1\n",
    "            \n",
    "        if new_poisition < 0 or new_poisition > node_count \\\n",
    "            or new_poisition in wall_nodes:\n",
    "            return self.poisition\n",
    "        \n",
    "        return new_poisition\n",
    "    \n",
    "    def step(self, action):\n",
    "        if self.is_done():\n",
    "            raise Exception('Game over')\n",
    "            \n",
    "        self.poisition = self.update_poisition(action)\n",
    "        self.trajectory.append(self.poisition)\n",
    "        if self.poisition == win_terminal:\n",
    "            reward = win_reward\n",
    "        elif self.poisition == loss_terminal:\n",
    "            reward = loss_reward\n",
    "        else:    \n",
    "            reward = normal_reward\n",
    "\n",
    "        return self.poisition, reward\n",
    "    \n",
    "    def update_state_value(self, final_value):\n",
    "        distinct_node_list = list(set(self.trajectory))\n",
    "        distinct_state_value = np.full(len(distinct_node_list), 0.0)\n",
    "        reverse_trajectory = self.trajectory.copy()\n",
    "        reverse_trajectory.reverse()\n",
    "        for i in reverse_trajectory:\n",
    "            final_value += normal_reward\n",
    "            index = distinct_node_list.index(i)\n",
    "            distinct_state_value[index] = final_value\n",
    "            \n",
    "        for index, val in enumerate(distinct_node_list):\n",
    "            self.state_value[val] += distinct_state_value[index] \n",
    "            self.state_value_count[val] += 1\n",
    "    \n",
    "    def get_observation(self):\n",
    "        mean1 = np.full(node_count, 0.0)\n",
    "        for i in range(node_count):\n",
    "            if self.state_value_count[i] == 0:\n",
    "                mean1[i] = 0\n",
    "            else:\n",
    "                mean1[i] = self.state_value[i] / self.state_value_count[i]\n",
    "        return mean1\n",
    "    \n",
    "        "
   ]
  },
  {
   "cell_type": "code",
   "execution_count": 97,
   "id": "4dae05dc",
   "metadata": {
    "ExecuteTime": {
     "end_time": "2023-02-06T13:22:45.192236Z",
     "start_time": "2023-02-06T13:22:45.176477Z"
    }
   },
   "outputs": [],
   "source": [
    "class Agent():\n",
    "    def __init__(self):\n",
    "        pass\n",
    "    \n",
    "    def check_possible_action(self, env):\n",
    "        possible_actions = env.get_actions()\n",
    "        \n",
    "        possible_actions = env.get_actions()\n",
    "        if env.poisition < column_count: # 最下一列不可向下\n",
    "            possible_actions.remove(down)\n",
    "        if env.poisition % column_count == 0: # 第一行不可向左\n",
    "            possible_actions.remove(left)\n",
    "        if env.poisition >= node_count - column_count : # 最上一列不可向上\n",
    "            possible_actions.remove(up)\n",
    "        if env.poisition % column_count == column_count -1 : # 最右一行不可向右\n",
    "            possible_actions.remove(right)\n",
    "            \n",
    "        if env.poisition -1 in wall_nodes : # 向左若遇牆，不可向左\n",
    "            possible_actions.remove(left)\n",
    "        if env.poisition +1 in wall_nodes : # 向右若遇牆，不可向右\n",
    "            possible_actions.remove(right)\n",
    "        if env.poisition + column_count in wall_nodes : # 向上若遇牆，不可向上\n",
    "            possible_actions.remove(up)\n",
    "        if env.poisition - column_count in wall_nodes : # 向下若遇牆，不可向下\n",
    "            possible_actions.remove(down)\n",
    "            \n",
    "        return possible_actions\n",
    "    \n",
    "    def action(self, env):\n",
    "        state_value = env.get_observation()\n",
    "        max_value = -999\n",
    "        next_action_list = []\n",
    "        possible_actions = self.check_possible_action(env)\n",
    "        for i in possible_actions:\n",
    "            if state_value[env.update_poisition(i)] > max_value:\n",
    "                max_value = state_value[env.update_poisition(i)]\n",
    "                next_action_list = [i]\n",
    "            elif state_value[env.update_poisition(i)] == max_value:\n",
    "                next_action_list += [i]\n",
    "                \n",
    "        if len(next_action_list) == 0:\n",
    "            next_action = random.choice(possible_actions)\n",
    "        else:\n",
    "            next_action = random.choice(next_action_list)\n",
    "            new_poisition = env.update_poisition(next_action)\n",
    "        \n",
    "        while len(possible_actions) > 1 and len(env.trajectory) >= 4 and new_poisition == env.trajectory[-2] and new_poisition == env.trajectory[-4]:\n",
    "            possible_actions.remove(next_action)\n",
    "            next_action = random.choice(possible_actions)\n",
    "            new_poistion = env.update_poisition(next_action)\n",
    "        return next_action"
   ]
  },
  {
   "cell_type": "code",
   "execution_count": 98,
   "id": "bdce8988",
   "metadata": {
    "ExecuteTime": {
     "end_time": "2023-02-06T13:22:45.438995Z",
     "start_time": "2023-02-06T13:22:45.422226Z"
    }
   },
   "outputs": [
    {
     "name": "stdout",
     "output_type": "stream",
     "text": [
      "trajectory 0 : [0, 4, 0, 4, 8, 9, 10, 9, 8, 4, 8, 9, 10, 6, 10, 6, 7]\n",
      "trajectory 1 : [0, 1, 2, 3, 2, 1, 0, 1, 2, 3, 2, 3, 7]\n",
      "trajectory 2 : [0, 1, 2, 6, 7]\n",
      "trajectory 3 : [0, 1, 2, 6, 7]\n",
      "trajectory 4 : [0, 1, 2, 6, 7]\n",
      "trajectory 5 : [0, 1, 2, 6, 7]\n",
      "trajectory 6 : [0, 1, 2, 6, 7]\n",
      "trajectory 7 : [0, 1, 2, 6, 7]\n",
      "trajectory 8 : [0, 1, 2, 6, 7]\n",
      "trajectory 9 : [0, 1, 2, 6, 7]\n",
      "trajectory 10 : [0, 1, 2, 6, 7]\n",
      "trajectory 11 : [0, 1, 2, 6, 7]\n",
      "trajectory 12 : [0, 1, 2, 6, 7]\n",
      "trajectory 13 : [0, 1, 2, 6, 7]\n",
      "trajectory 14 : [0, 1, 2, 6, 7]\n",
      "trajectory 15 : [0, 1, 2, 6, 7]\n",
      "trajectory 16 : [0, 1, 2, 6, 7]\n",
      "trajectory 17 : [0, 1, 2, 6, 7]\n",
      "trajectory 18 : [0, 1, 2, 6, 7]\n",
      "trajectory 19 : [0, 1, 2, 6, 7]\n",
      "trajectory 20 : [0, 1, 2, 6, 7]\n",
      "trajectory 21 : [0, 1, 2, 6, 7]\n",
      "trajectory 22 : [0, 1, 2, 6, 7]\n",
      "trajectory 23 : [0, 1, 2, 6, 7]\n",
      "trajectory 24 : [0, 1, 2, 6, 7]\n",
      "trajectory 25 : [0, 1, 2, 6, 7]\n",
      "trajectory 26 : [0, 1, 2, 6, 7]\n",
      "trajectory 27 : [0, 1, 2, 6, 7]\n",
      "trajectory 28 : [0, 1, 2, 6, 7]\n",
      "trajectory 29 : [0, 1, 2, 6, 7]\n",
      "trajectory 30 : [0, 1, 2, 6, 7]\n",
      "trajectory 31 : [0, 1, 2, 6, 7]\n",
      "trajectory 32 : [0, 1, 2, 6, 7]\n",
      "trajectory 33 : [0, 1, 2, 6, 7]\n",
      "trajectory 34 : [0, 1, 2, 6, 7]\n",
      "trajectory 35 : [0, 1, 2, 6, 7]\n",
      "trajectory 36 : [0, 1, 2, 6, 7]\n",
      "trajectory 37 : [0, 1, 2, 6, 7]\n",
      "trajectory 38 : [0, 1, 2, 6, 7]\n",
      "trajectory 39 : [0, 1, 2, 6, 7]\n",
      "trajectory 40 : [0, 1, 2, 6, 7]\n",
      "累計報酬: [-1.6, -1.6, -1.44, -1.44, -1.12, -1.12, -1.12, -1.12, -1.12, -1.12, -1.12, -1.12, -1.12, -1.12, -1.12, -1.12, -1.12, -1.12, -1.12, -1.12, -1.12, -1.12, -1.12, -1.12, -1.12, -1.12, -1.12, -1.12, -1.12, -1.12, -1.12, -1.12, -1.12, -1.12, -1.12, -1.12, -1.12, -1.12, -1.12, -1.12, -1.12, -1.12, -1.12, -1.12, -1.12, -1.12, -1.12, -1.12, -1.12, -1.12, -1.12, -1.12, -1.12, -1.12, -1.12, -1.12, -1.12, -1.12, -1.12, -1.12, -1.12, -1.12, -1.12, -1.12, -1.12, -1.12, -1.12, -1.12, -1.12, -1.12, -1.12, -1.12, -1.12, -1.12, -1.12, -1.12, -1.12, -1.12, -1.12, -1.12, -1.12, -1.12]\n"
     ]
    }
   ],
   "source": [
    "env = Environment()\n",
    "agent = Agent()\n",
    "total_reward_list = []\n",
    "no = 0\n",
    "done_no = 0\n",
    "while no < 100 and done_no < 41:\n",
    "    no += 1\n",
    "    env.reset()\n",
    "    total_reward = 0\n",
    "    action_count = 0\n",
    "    while not env.is_done():\n",
    "        action = agent.action(env)\n",
    "        action_count += 1\n",
    "        state, reward = env.step(action)\n",
    "        total_reward += reward\n",
    "        \n",
    "        if action_count > 100:\n",
    "            env.poisition = 0\n",
    "            break\n",
    "            \n",
    "    print('trajectory', done_no, ':', env.trajectory)\n",
    "    \n",
    "    if action_count <= 100:\n",
    "        env.update_state_value(total_reward)\n",
    "        total_reward_list.append(round(total_reward, 2))\n",
    "        done_no += 1\n",
    "    \n",
    "    total_reward_list.append(round(total_reward, 2))\n",
    "    \n",
    "print(f\"累計報酬: {total_reward_list}\")\n"
   ]
  },
  {
   "cell_type": "code",
   "execution_count": 99,
   "id": "f0a9623f",
   "metadata": {
    "ExecuteTime": {
     "end_time": "2023-02-06T13:22:46.120572Z",
     "start_time": "2023-02-06T13:22:45.959302Z"
    }
   },
   "outputs": [
    {
     "data": {
      "text/plain": [
       "[<matplotlib.lines.Line2D at 0x1bff4318310>]"
      ]
     },
     "execution_count": 99,
     "metadata": {},
     "output_type": "execute_result"
    },
    {
     "data": {
      "image/png": "[encoded data removed]",
      "text/plain": [
       "<Figure size 1000x600 with 1 Axes>"
      ]
     },
     "metadata": {},
     "output_type": "display_data"
    }
   ],
   "source": [
    "import matplotlib.pyplot as plt\n",
    "\n",
    "plt.figure(figsize=(10,6))\n",
    "plt.plot(total_reward_list)"
   ]
  },
  {
   "cell_type": "code",
   "execution_count": 81,
   "id": "8b078e35",
   "metadata": {
    "ExecuteTime": {
     "end_time": "2023-02-06T13:05:41.456231Z",
     "start_time": "2023-02-06T13:05:41.449983Z"
    }
   },
   "outputs": [
    {
     "data": {
      "text/plain": [
       "array([ 0,  0,  0,  0,  0,  0,  0, -1,  0,  0,  0,  0])"
      ]
     },
     "execution_count": 81,
     "metadata": {},
     "output_type": "execute_result"
    }
   ],
   "source": [
    "env.get_observation()\n"
   ]
  },
  {
   "cell_type": "code",
   "execution_count": 82,
   "id": "d2996dce",
   "metadata": {
    "ExecuteTime": {
     "end_time": "2023-02-06T13:05:42.361010Z",
     "start_time": "2023-02-06T13:05:42.346648Z"
    }
   },
   "outputs": [],
   "source": [
    "import numpy as np\n",
    "import random"
   ]
  },
  {
   "cell_type": "code",
   "execution_count": 83,
   "id": "6bce65a3",
   "metadata": {
    "ExecuteTime": {
     "end_time": "2023-02-06T13:05:46.276854Z",
     "start_time": "2023-02-06T13:05:46.266712Z"
    }
   },
   "outputs": [],
   "source": [
    "ROW_COUNT, COLUMN_COUNT = 3, 4         # 3列 x 4行\n",
    "NODE_COUNT = ROW_COUNT * COLUMN_COUNT  # 節點總數\n",
    "NORMAL_REWARD = -0.04 # 每走一步扣分 -0.04\n",
    "WIN_REWARD = 1    # 終點(4, 3)的得分\n",
    "LOSS_REWARD = -1  # 終點(4, 2)的失分\n",
    "\n",
    "# 特殊節點\n",
    "WIN_TERMINAL = NODE_COUNT-1    # 得分的終點\n",
    "LOSS_TERMINAL = NODE_COUNT-1-COLUMN_COUNT # 失分的終點\n",
    "WALL_NODES = [5]                # 牆節點，不能駐留的節點\n",
    "# 行動空間\n",
    "(UP, DOWN, LEFT, RIGHT) = range(4) # 上/下/左/右"
   ]
  },
  {
   "cell_type": "code",
   "execution_count": 84,
   "id": "7588ec85",
   "metadata": {
    "ExecuteTime": {
     "end_time": "2023-02-06T13:05:46.539969Z",
     "start_time": "2023-02-06T13:05:46.520656Z"
    }
   },
   "outputs": [],
   "source": [
    "class Environment():\n",
    "    # 初始化\n",
    "    def __init__(self):\n",
    "        # 儲存狀態值函數\n",
    "        self.state_value = np.full(NODE_COUNT, 0.0)\n",
    "\n",
    "        # 更新次數\n",
    "        self.state_value_count = np.full(NODE_COUNT, 0)\n",
    "        \n",
    "    # 初始化\n",
    "    def reset(self):\n",
    "        self.poistion = 0  # 玩家開始的位置\n",
    "        self.trajectory=[self.poistion] # 行動軌跡\n",
    "\n",
    "    def get_states(self):\n",
    "        # 狀態空間(State Space)\n",
    "        return [i for i in range(NODE_COUNT)]\n",
    "\n",
    "    def get_actions(self):  \n",
    "        # 行動空間(Action Space)\n",
    "        return [UP, DOWN, LEFT, RIGHT] # 上/下/左/右\n",
    "\n",
    "    def is_done(self): # 判斷比賽回合是否結束\n",
    "        # 是否走到終點\n",
    "        return self.poistion == WIN_TERMINAL or self.poistion == LOSS_TERMINAL\n",
    "    \n",
    "    # 更新位置\n",
    "    def update_poistion(self, action):\n",
    "        if action == DOWN:\n",
    "            new_poistion = self.poistion - COLUMN_COUNT\n",
    "        if action == UP:\n",
    "            new_poistion = self.poistion + COLUMN_COUNT\n",
    "        if action == LEFT:\n",
    "            new_poistion = self.poistion - 1\n",
    "        if action == RIGHT:\n",
    "            new_poistion = self.poistion + 1\n",
    "            \n",
    "        if new_poistion < 0 or new_poistion > NODE_COUNT \\\n",
    "            or new_poistion in WALL_NODES: \n",
    "            return self.poistion\n",
    "        \n",
    "        return new_poistion\n",
    "    \n",
    "    # 步驟\n",
    "    def step(self, action):\n",
    "        # 是否回合已結束\n",
    "        if self.is_done():\n",
    "            raise Exception(\"Game over\")\n",
    "            \n",
    "        self.poistion = self.update_poistion(action)\n",
    "        self.trajectory.append(self.poistion)        \n",
    "        if self.poistion == WIN_TERMINAL:\n",
    "            reward = WIN_REWARD\n",
    "        elif self.poistion == LOSS_TERMINAL:\n",
    "            reward = LOSS_REWARD\n",
    "        else:    \n",
    "            reward = NORMAL_REWARD\n",
    "\n",
    "        return self.poistion, reward\n",
    "\n",
    "    def update_state_value(self, final_value):\n",
    "        # 考慮節點被走過兩次或以上，分數會被重複扣分\n",
    "        # 採首次訪問(first visit)的報酬更新狀態值 \n",
    "        distinct_node_list = list(set(self.trajectory))\n",
    "        # print('distinct_node_list:', distinct_node_list)\n",
    "        distinct_state_value = np.full(len(distinct_node_list), 0.0)\n",
    "        # 倒推，更新狀態值函數\n",
    "        reverse_trajectory = self.trajectory.copy()\n",
    "        reverse_trajectory.reverse()  \n",
    "        for i in reverse_trajectory:\n",
    "            final_value += NORMAL_REWARD\n",
    "            # 如有訪問多次的節點，狀態值會被蓋掉\n",
    "            index = distinct_node_list.index(i) # 取得索引值\n",
    "            distinct_state_value[index] = final_value # 暫存狀態值函數\n",
    "            \n",
    "        # 更新軌跡的狀態值函數\n",
    "        # print('distinct_state_value:', distinct_state_value)\n",
    "        for index, val in enumerate(distinct_node_list):\n",
    "            # 更新狀態值函數\n",
    "            self.state_value[val] += distinct_state_value[index] \n",
    "            self.state_value_count[val] += 1        \n",
    "                \n",
    "    # 取得狀態值函數期望值\n",
    "    def get_observation(self):\n",
    "        mean1 = np.full(NODE_COUNT, 0.0)\n",
    "        for i in range(NODE_COUNT):\n",
    "            if self.state_value_count[i] == 0: \n",
    "                mean1[i] = 0\n",
    "            else:\n",
    "                mean1[i] = self.state_value[i] / self.state_value_count[i]\n",
    "        return mean1"
   ]
  },
  {
   "cell_type": "code",
   "execution_count": 85,
   "id": "21decf8d",
   "metadata": {
    "ExecuteTime": {
     "end_time": "2023-02-06T13:05:46.762053Z",
     "start_time": "2023-02-06T13:05:46.738005Z"
    }
   },
   "outputs": [],
   "source": [
    "class Agent():\n",
    "    # 初始化\n",
    "    def __init__(self):\n",
    "        pass\n",
    "        \n",
    "    # 取得可以行走的方向\n",
    "    def check_possible_action(self, env):\n",
    "        possible_actions = env.get_actions()\n",
    "        if env.poistion < COLUMN_COUNT: # 最下一列不可向下\n",
    "            possible_actions.remove(DOWN)\n",
    "        if env.poistion % COLUMN_COUNT == 0: # 第一行不可向左\n",
    "            possible_actions.remove(LEFT)\n",
    "        if env.poistion >= NODE_COUNT - COLUMN_COUNT : # 最上一列不可向上\n",
    "            possible_actions.remove(UP)\n",
    "        if env.poistion % COLUMN_COUNT == COLUMN_COUNT -1 : # 最右一行不可向右\n",
    "            possible_actions.remove(RIGHT)\n",
    "            \n",
    "        if env.poistion -1 in WALL_NODES : # 向左若遇牆，不可向左\n",
    "            possible_actions.remove(LEFT)\n",
    "        if env.poistion +1 in WALL_NODES : # 向右若遇牆，不可向右\n",
    "            possible_actions.remove(RIGHT)\n",
    "        if env.poistion + COLUMN_COUNT in WALL_NODES : # 向上若遇牆，不可向上\n",
    "            possible_actions.remove(UP)\n",
    "        if env.poistion - COLUMN_COUNT in WALL_NODES : # 向下若遇牆，不可向下\n",
    "            possible_actions.remove(DOWN)\n",
    "            \n",
    "        return possible_actions\n",
    "        \n",
    "    def action(self, env):\n",
    "        # 取得狀態值函數期望值\n",
    "        state_value = env.get_observation()\n",
    "\n",
    "        # 找到最大的狀態值函數\n",
    "        max_value = -999\n",
    "        next_action_list = [] \n",
    "        possible_actions = self.check_possible_action(env)\n",
    "        # print('possible_actions:', possible_actions)\n",
    "        for i in possible_actions:\n",
    "            if state_value[env.update_poistion(i)] > max_value:\n",
    "                max_value = state_value[env.update_poistion(i)]\n",
    "                next_action_list = [i]\n",
    "            elif state_value[env.update_poistion(i)] == max_value:\n",
    "                next_action_list += [i]\n",
    "            # print('next_action:', next_action_list, ', max_value:', max_value)\n",
    "                \n",
    "        if len(next_action_list) == 0:\n",
    "            next_action = random.choice(possible_actions) \n",
    "        else: # 有多個最大狀態值函數的節點，隨機抽樣\n",
    "            next_action = random.choice(next_action_list)\n",
    "            new_poistion = env.update_poistion(next_action)\n",
    "            \n",
    "        # 若發生循環，隨機抽樣\n",
    "        while len(possible_actions) > 1 and len(env.trajectory)>=4 and \\\n",
    "            new_poistion == env.trajectory[-2] and \\\n",
    "            new_poistion == env.trajectory[-4] :\n",
    "            # print('loop:', env.trajectory[-4:], new_poistion)\n",
    "            possible_actions.remove(next_action)          # 去除造成循環的行動\n",
    "            next_action = random.choice(possible_actions) # 選擇其他的行動\n",
    "            new_poistion = env.update_poistion(next_action)\n",
    "            # print('change action:', new_poistion)\n",
    "            \n",
    "        # print('next_action:', next_action_list, ', max_value:', max_value)\n",
    "        return next_action           "
   ]
  },
  {
   "cell_type": "code",
   "execution_count": 86,
   "id": "9974f83c",
   "metadata": {
    "ExecuteTime": {
     "end_time": "2023-02-06T13:05:47.047937Z",
     "start_time": "2023-02-06T13:05:47.026943Z"
    }
   },
   "outputs": [
    {
     "name": "stdout",
     "output_type": "stream",
     "text": [
      "trajectory 0 : [0, 4, 8, 4, 0, 1, 2, 3, 7]\n",
      "trajectory 1 : [0, 1, 2, 6, 10, 6, 10, 9, 8, 9, 10, 6, 10, 9, 8, 9, 10, 6, 10, 9, 8, 9, 10, 11]\n",
      "trajectory 2 : [0, 1, 2, 6, 10, 11]\n",
      "trajectory 3 : [0, 1, 2, 6, 10, 11]\n",
      "trajectory 4 : [0, 1, 2, 6, 10, 11]\n",
      "trajectory 5 : [0, 1, 2, 6, 10, 11]\n",
      "trajectory 6 : [0, 1, 2, 6, 10, 11]\n",
      "trajectory 7 : [0, 1, 2, 6, 10, 11]\n",
      "trajectory 8 : [0, 1, 2, 6, 10, 11]\n",
      "trajectory 9 : [0, 1, 2, 6, 10, 11]\n",
      "trajectory 10 : [0, 1, 2, 6, 10, 11]\n",
      "trajectory 11 : [0, 1, 2, 6, 10, 11]\n",
      "trajectory 12 : [0, 1, 2, 6, 10, 11]\n",
      "trajectory 13 : [0, 1, 2, 6, 10, 11]\n",
      "trajectory 14 : [0, 1, 2, 6, 10, 11]\n",
      "trajectory 15 : [0, 1, 2, 6, 10, 11]\n",
      "trajectory 16 : [0, 1, 2, 6, 10, 11]\n",
      "trajectory 17 : [0, 1, 2, 6, 10, 11]\n",
      "trajectory 18 : [0, 1, 2, 6, 10, 11]\n",
      "trajectory 19 : [0, 1, 2, 6, 10, 11]\n",
      "trajectory 20 : [0, 1, 2, 6, 10, 11]\n",
      "trajectory 21 : [0, 1, 2, 6, 10, 11]\n",
      "trajectory 22 : [0, 1, 2, 6, 10, 11]\n",
      "trajectory 23 : [0, 1, 2, 6, 10, 11]\n",
      "trajectory 24 : [0, 1, 2, 6, 10, 11]\n",
      "trajectory 25 : [0, 1, 2, 6, 10, 11]\n",
      "trajectory 26 : [0, 1, 2, 6, 10, 11]\n",
      "trajectory 27 : [0, 1, 2, 6, 10, 11]\n",
      "trajectory 28 : [0, 1, 2, 6, 10, 11]\n",
      "trajectory 29 : [0, 1, 2, 6, 10, 11]\n",
      "trajectory 30 : [0, 1, 2, 6, 10, 11]\n",
      "trajectory 31 : [0, 1, 2, 6, 10, 11]\n",
      "trajectory 32 : [0, 1, 2, 6, 10, 11]\n",
      "trajectory 33 : [0, 1, 2, 6, 10, 11]\n",
      "trajectory 34 : [0, 1, 2, 6, 10, 11]\n",
      "trajectory 35 : [0, 1, 2, 6, 10, 11]\n",
      "trajectory 36 : [0, 1, 2, 6, 10, 11]\n",
      "trajectory 37 : [0, 1, 2, 6, 10, 11]\n",
      "trajectory 38 : [0, 1, 2, 6, 10, 11]\n",
      "trajectory 39 : [0, 1, 2, 6, 10, 11]\n",
      "trajectory 40 : [0, 1, 2, 6, 10, 11]\n",
      "累計報酬: [-1.28, -1.28, 0.12, 0.12, 0.84, 0.84, 0.84, 0.84, 0.84, 0.84, 0.84, 0.84, 0.84, 0.84, 0.84, 0.84, 0.84, 0.84, 0.84, 0.84, 0.84, 0.84, 0.84, 0.84, 0.84, 0.84, 0.84, 0.84, 0.84, 0.84, 0.84, 0.84, 0.84, 0.84, 0.84, 0.84, 0.84, 0.84, 0.84, 0.84, 0.84, 0.84, 0.84, 0.84, 0.84, 0.84, 0.84, 0.84, 0.84, 0.84, 0.84, 0.84, 0.84, 0.84, 0.84, 0.84, 0.84, 0.84, 0.84, 0.84, 0.84, 0.84, 0.84, 0.84, 0.84, 0.84, 0.84, 0.84, 0.84, 0.84, 0.84, 0.84, 0.84, 0.84, 0.84, 0.84, 0.84, 0.84, 0.84, 0.84, 0.84, 0.84]\n"
     ]
    }
   ],
   "source": [
    "# 建立實驗，含環境、代理人物件\n",
    "env = Environment()\n",
    "agent = Agent()\n",
    "\n",
    "# 進行實驗\n",
    "total_reward_list = []\n",
    "no = 0\n",
    "done_no = 0\n",
    "while no < 100 and done_no < 41:\n",
    "    no += 1\n",
    "    env.reset()  # 重置\n",
    "    total_reward=0  # 累計報酬\n",
    "    action_count = 0\n",
    "    while not env.is_done():\n",
    "        # 採取行動\n",
    "        action = agent.action(env)\n",
    "        action_count+=1\n",
    "        \n",
    "        # 更新下一步\n",
    "        state, reward = env.step(action)\n",
    "        #print(state, reward)\n",
    "        # 計算累計報酬\n",
    "        total_reward += reward\n",
    "        \n",
    "        # 避免一直循環，跑不完\n",
    "        if action_count > 100:\n",
    "            env.poistion = 0\n",
    "            break\n",
    "    \n",
    "    print('trajectory', done_no, ':', env.trajectory)\n",
    "    # 未達終點不更新值函數，以免過度降低循環節點的值函數\n",
    "    if action_count <= 100:\n",
    "        env.update_state_value(total_reward)\n",
    "        total_reward_list.append(round(total_reward, 2))\n",
    "        done_no += 1\n",
    "        \n",
    "    # state_value = np.around(env.get_observation().reshape(ROW_COUNT, COLUMN_COUNT),2)\n",
    "    # print(f\"state value:\\n{np.flip(state_value, axis=0)}\") # 列反轉，與圖一致，便於觀察\n",
    "    total_reward_list.append(round(total_reward, 2))\n",
    "    \n",
    "# 顯示累計報酬\n",
    "print(f\"累計報酬: {total_reward_list}\")"
   ]
  },
  {
   "cell_type": "code",
   "execution_count": 87,
   "id": "ad1caf4c",
   "metadata": {
    "ExecuteTime": {
     "end_time": "2023-02-06T13:05:47.613198Z",
     "start_time": "2023-02-06T13:05:47.456707Z"
    }
   },
   "outputs": [
    {
     "data": {
      "text/plain": [
       "[<matplotlib.lines.Line2D at 0x1bff26dd7c0>]"
      ]
     },
     "execution_count": 87,
     "metadata": {},
     "output_type": "execute_result"
    },
    {
     "data": {
      "image/png": "[encoded data removed]",
      "text/plain": [
       "<Figure size 1000x600 with 1 Axes>"
      ]
     },
     "metadata": {},
     "output_type": "display_data"
    }
   ],
   "source": [
    "import matplotlib.pyplot as plt\n",
    "\n",
    "plt.figure(figsize=(10,6))\n",
    "plt.plot(total_reward_list)"
   ]
  },
  {
   "cell_type": "code",
   "execution_count": 60,
   "id": "b7be23af",
   "metadata": {
    "ExecuteTime": {
     "end_time": "2023-02-06T12:54:51.931033Z",
     "start_time": "2023-02-06T12:54:51.924672Z"
    }
   },
   "outputs": [
    {
     "data": {
      "text/plain": [
       "array([ 0.57268293, -0.32      , -0.28      ,  0.        ,  0.61853659,\n",
       "        0.        , -0.24      ,  0.        ,  0.65658537,  0.69658537,\n",
       "        0.73463415,  0.78634146])"
      ]
     },
     "execution_count": 60,
     "metadata": {},
     "output_type": "execute_result"
    }
   ],
   "source": [
    "env.get_observation()\n"
   ]
  },
  {
   "cell_type": "code",
   "execution_count": null,
   "id": "4192ec15",
   "metadata": {},
   "outputs": [],
   "source": []
  }
 ],
 "metadata": {
  "kernelspec": {
   "display_name": "Python 3 (ipykernel)",
   "language": "python",
   "name": "python3"
  },
  "language_info": {
   "codemirror_mode": {
    "name": "ipython",
    "version": 3
   },
   "file_extension": ".py",
   "mimetype": "text/x-python",
   "name": "python",
   "nbconvert_exporter": "python",
   "pygments_lexer": "ipython3",
   "version": "3.8.8"
  },
  "varInspector": {
   "cols": {
    "lenName": 16,
    "lenType": 16,
    "lenVar": 40
   },
   "kernels_config": {
    "python": {
     "delete_cmd_postfix": "",
     "delete_cmd_prefix": "del ",
     "library": "var_list.py",
     "varRefreshCmd": "print(var_dic_list())"
    },
    "r": {
     "delete_cmd_postfix": ") ",
     "delete_cmd_prefix": "rm(",
     "library": "var_list.r",
     "varRefreshCmd": "cat(var_dic_list()) "
    }
   },
   "types_to_exclude": [
    "module",
    "function",
    "builtin_function_or_method",
    "instance",
    "_Feature"
   ],
   "window_display": false
  }
 },
 "nbformat": 4,
 "nbformat_minor": 5
}
