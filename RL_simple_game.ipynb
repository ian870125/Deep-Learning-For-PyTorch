{
 "cells": [
  {
   "cell_type": "code",
   "execution_count": 12,
   "id": "c4197057",
   "metadata": {
    "ExecuteTime": {
     "end_time": "2023-02-03T16:44:59.889051Z",
     "start_time": "2023-02-03T16:44:59.870077Z"
    }
   },
   "outputs": [],
   "source": [
    "import random\n",
    "class Environment:\n",
    "    def __init__(self):\n",
    "        self.poisition = 3\n",
    "    def get_observation(self):\n",
    "        return [i for i in range(1, 6)]\n",
    "    \n",
    "    def get_actions(self):\n",
    "        return [-1, 1]\n",
    "    def is_done(self):\n",
    "        return self.poisition == 1 or self.poisition == 5\n",
    "        \n",
    "    def step(self, action):\n",
    "        if self.is_done():\n",
    "            raise Exception('game over')\n",
    "        self.poisition += action\n",
    "        if self.poisition == 1:\n",
    "            reward = -1\n",
    "        elif self.poisition == 5:\n",
    "            reward = 1\n",
    "        else: \n",
    "            reward = -0.02\n",
    "        return self.poisition, reward"
   ]
  },
  {
   "cell_type": "code",
   "execution_count": 13,
   "id": "a16a8d1d",
   "metadata": {
    "ExecuteTime": {
     "end_time": "2023-02-03T16:45:00.151376Z",
     "start_time": "2023-02-03T16:45:00.140032Z"
    }
   },
   "outputs": [],
   "source": [
    "class Agent:\n",
    "    def __init__(self):\n",
    "        pass\n",
    "    def action(self, env):\n",
    "        current_obs = env.get_observation()\n",
    "        return random.choice(env.get_actions())\n"
   ]
  },
  {
   "cell_type": "code",
   "execution_count": 14,
   "id": "4483e1fc",
   "metadata": {
    "ExecuteTime": {
     "end_time": "2023-02-03T16:45:00.461097Z",
     "start_time": "2023-02-03T16:45:00.455774Z"
    }
   },
   "outputs": [
    {
     "name": "stdout",
     "output_type": "stream",
     "text": [
      "累計報酬: -1.0600\n",
      "行動: [-1, 1, -1, -1]\n"
     ]
    }
   ],
   "source": [
    "if __name__ == '__main__':\n",
    "    env = Environment()\n",
    "    agent = Agent()\n",
    "    \n",
    "    total_reward = 0\n",
    "    action_list = []\n",
    "    while not env.is_done():\n",
    "        action = agent.action(env)\n",
    "        action_list += [action]\n",
    "        state, reward = env.step(action)\n",
    "        total_reward += reward\n",
    "        \n",
    "    print(f\"累計報酬: {total_reward:.4f}\")\n",
    "    print(f\"行動: {action_list}\")"
   ]
  },
  {
   "cell_type": "code",
   "execution_count": null,
   "id": "d2c7a6fb",
   "metadata": {},
   "outputs": [],
   "source": []
  }
 ],
 "metadata": {
  "kernelspec": {
   "display_name": "Python 3 (ipykernel)",
   "language": "python",
   "name": "python3"
  },
  "language_info": {
   "codemirror_mode": {
    "name": "ipython",
    "version": 3
   },
   "file_extension": ".py",
   "mimetype": "text/x-python",
   "name": "python",
   "nbconvert_exporter": "python",
   "pygments_lexer": "ipython3",
   "version": "3.8.8"
  },
  "varInspector": {
   "cols": {
    "lenName": 16,
    "lenType": 16,
    "lenVar": 40
   },
   "kernels_config": {
    "python": {
     "delete_cmd_postfix": "",
     "delete_cmd_prefix": "del ",
     "library": "var_list.py",
     "varRefreshCmd": "print(var_dic_list())"
    },
    "r": {
     "delete_cmd_postfix": ") ",
     "delete_cmd_prefix": "rm(",
     "library": "var_list.r",
     "varRefreshCmd": "cat(var_dic_list()) "
    }
   },
   "types_to_exclude": [
    "module",
    "function",
    "builtin_function_or_method",
    "instance",
    "_Feature"
   ],
   "window_display": false
  }
 },
 "nbformat": 4,
 "nbformat_minor": 5
}
