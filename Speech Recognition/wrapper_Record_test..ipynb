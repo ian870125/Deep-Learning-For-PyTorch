{
 "cells": [
  {
   "cell_type": "code",
   "execution_count": 1,
   "id": "fe9e5aa2",
   "metadata": {
    "ExecuteTime": {
     "end_time": "2023-02-22T16:52:00.586656Z",
     "start_time": "2023-02-22T16:51:59.354620Z"
    }
   },
   "outputs": [
    {
     "name": "stderr",
     "output_type": "stream",
     "text": [
      "C:\\Users\\ian\\anaconda3\\lib\\site-packages\\gymnasium\\envs\\registration.py:521: UserWarning: \u001b[33mWARN: Overriding environment GymV26Environment-v0 already in registry.\u001b[0m\n",
      "  logger.warn(f\"Overriding environment {new_spec.id} already in registry.\")\n",
      "C:\\Users\\ian\\anaconda3\\lib\\site-packages\\gymnasium\\envs\\registration.py:521: UserWarning: \u001b[33mWARN: Overriding environment GymV22Environment-v0 already in registry.\u001b[0m\n",
      "  logger.warn(f\"Overriding environment {new_spec.id} already in registry.\")\n"
     ]
    }
   ],
   "source": [
    "import gymnasium as gym"
   ]
  },
  {
   "cell_type": "code",
   "execution_count": 13,
   "id": "1fa8d52a",
   "metadata": {
    "ExecuteTime": {
     "end_time": "2023-02-22T17:02:34.955810Z",
     "start_time": "2023-02-22T17:02:34.923967Z"
    },
    "scrolled": true
   },
   "outputs": [
    {
     "name": "stdout",
     "output_type": "stream",
     "text": [
      "報酬: 24.00\n",
      "報酬: 20.00\n",
      "報酬: 14.00\n",
      "報酬: 11.00\n",
      "報酬: 13.00\n",
      "報酬: 12.00\n",
      "報酬: 15.00\n",
      "報酬: 28.00\n",
      "報酬: 16.00\n",
      "報酬: 14.00\n",
      "報酬: 17.00\n",
      "報酬: 14.00\n",
      "報酬: 18.00\n",
      "報酬: 29.00\n",
      "報酬: 14.00\n",
      "報酬: 13.00\n",
      "報酬: 32.00\n",
      "報酬: 12.00\n",
      "報酬: 35.00\n",
      "報酬: 21.00\n",
      "報酬: 13.00\n",
      "報酬: 32.00\n",
      "報酬: 20.00\n",
      "報酬: 14.00\n",
      "報酬: 11.00\n",
      "報酬: 15.00\n",
      "報酬: 18.00\n",
      "報酬: 29.00\n",
      "報酬: 86.00\n",
      "報酬: 26.00\n",
      "報酬: 16.00\n",
      "報酬: 14.00\n",
      "報酬: 21.00\n",
      "報酬: 14.00\n",
      "報酬: 23.00\n",
      "報酬: 20.00\n",
      "報酬: 32.00\n",
      "報酬: 14.00\n",
      "報酬: 21.00\n",
      "報酬: 44.00\n",
      "報酬: 17.00\n",
      "報酬: 38.00\n",
      "報酬: 10.00\n",
      "報酬: 19.00\n",
      "報酬: 25.00\n",
      "報酬: 12.00\n",
      "報酬: 17.00\n",
      "報酬: 14.00\n",
      "報酬: 27.00\n",
      "報酬: 25.00\n"
     ]
    }
   ],
   "source": [
    "env = gym.make(\"CartPole-v0\")\n",
    "\n",
    "env = gym.wrappers.RecordVideo(env, \"recording\")\n",
    "\n",
    "# 實驗\n",
    "for _ in range(50):\n",
    "    total_reward = 0.0\n",
    "    obs = env.reset()\n",
    "\n",
    "    while True:\n",
    "        env.render()\n",
    "        action = env.action_space.sample()\n",
    "        obs, reward, terminated, truncated, info = env.step(action)\n",
    "        total_reward += reward\n",
    "        if terminated or truncated:\n",
    "            break\n",
    "\n",
    "    print(f\"報酬: {total_reward:.2f}\")\n",
    "    \n",
    "env.close()"
   ]
  },
  {
   "cell_type": "code",
   "execution_count": null,
   "id": "276a2223",
   "metadata": {},
   "outputs": [],
   "source": []
  }
 ],
 "metadata": {
  "kernelspec": {
   "display_name": "Python 3 (ipykernel)",
   "language": "python",
   "name": "python3"
  },
  "language_info": {
   "codemirror_mode": {
    "name": "ipython",
    "version": 3
   },
   "file_extension": ".py",
   "mimetype": "text/x-python",
   "name": "python",
   "nbconvert_exporter": "python",
   "pygments_lexer": "ipython3",
   "version": "3.8.8"
  },
  "varInspector": {
   "cols": {
    "lenName": 16,
    "lenType": 16,
    "lenVar": 40
   },
   "kernels_config": {
    "python": {
     "delete_cmd_postfix": "",
     "delete_cmd_prefix": "del ",
     "library": "var_list.py",
     "varRefreshCmd": "print(var_dic_list())"
    },
    "r": {
     "delete_cmd_postfix": ") ",
     "delete_cmd_prefix": "rm(",
     "library": "var_list.r",
     "varRefreshCmd": "cat(var_dic_list()) "
    }
   },
   "types_to_exclude": [
    "module",
    "function",
    "builtin_function_or_method",
    "instance",
    "_Feature"
   ],
   "window_display": false
  }
 },
 "nbformat": 4,
 "nbformat_minor": 5
}
