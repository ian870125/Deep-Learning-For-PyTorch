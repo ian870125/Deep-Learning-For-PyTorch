{
 "cells": [
  {
   "cell_type": "code",
   "execution_count": 2,
   "id": "f92b0dc6",
   "metadata": {},
   "outputs": [],
   "source": [
    "import matplotlib.pyplot as plt\n",
    "import numpy as np\n",
    "import math \n",
    "import pandas as pd\n",
    "df = pd.read_csv(r'C:\\Users\\ian\\Desktop\\data\\data\\population.csv')"
   ]
  },
  {
   "cell_type": "code",
   "execution_count": 4,
   "id": "7ee027ea",
   "metadata": {},
   "outputs": [
    {
     "data": {
      "text/html": [
       "<div>\n",
       "<style scoped>\n",
       "    .dataframe tbody tr th:only-of-type {\n",
       "        vertical-align: middle;\n",
       "    }\n",
       "\n",
       "    .dataframe tbody tr th {\n",
       "        vertical-align: top;\n",
       "    }\n",
       "\n",
       "    .dataframe thead th {\n",
       "        text-align: right;\n",
       "    }\n",
       "</style>\n",
       "<table border=\"1\" class=\"dataframe\">\n",
       "  <thead>\n",
       "    <tr style=\"text-align: right;\">\n",
       "      <th></th>\n",
       "      <th>year</th>\n",
       "      <th>pop</th>\n",
       "    </tr>\n",
       "  </thead>\n",
       "  <tbody>\n",
       "    <tr>\n",
       "      <th>0</th>\n",
       "      <td>1950</td>\n",
       "      <td>2.53</td>\n",
       "    </tr>\n",
       "    <tr>\n",
       "      <th>1</th>\n",
       "      <td>1951</td>\n",
       "      <td>2.57</td>\n",
       "    </tr>\n",
       "    <tr>\n",
       "      <th>2</th>\n",
       "      <td>1952</td>\n",
       "      <td>2.62</td>\n",
       "    </tr>\n",
       "    <tr>\n",
       "      <th>3</th>\n",
       "      <td>1953</td>\n",
       "      <td>2.67</td>\n",
       "    </tr>\n",
       "    <tr>\n",
       "      <th>4</th>\n",
       "      <td>1954</td>\n",
       "      <td>2.71</td>\n",
       "    </tr>\n",
       "  </tbody>\n",
       "</table>\n",
       "</div>"
      ],
      "text/plain": [
       "   year   pop\n",
       "0  1950  2.53\n",
       "1  1951  2.57\n",
       "2  1952  2.62\n",
       "3  1953  2.67\n",
       "4  1954  2.71"
      ]
     },
     "execution_count": 4,
     "metadata": {},
     "output_type": "execute_result"
    }
   ],
   "source": [
    "df.head()"
   ]
  },
  {
   "cell_type": "code",
   "execution_count": 5,
   "id": "1df6ffbe",
   "metadata": {},
   "outputs": [],
   "source": [
    "w = ((df['pop'] - df['pop'].mean()) * df['year']).sum() / ((df['year'] - df['year'].mean())**2).sum()\n",
    "b = df['pop'].mean() - w * df['year'].mean()"
   ]
  },
  {
   "cell_type": "code",
   "execution_count": 12,
   "id": "f78c59fe",
   "metadata": {},
   "outputs": [
    {
     "name": "stdout",
     "output_type": "stream",
     "text": [
      "w = 0.061159358661557375, b = -116.35631056117687\n"
     ]
    }
   ],
   "source": [
    "print(f'w = {w}, b = {b}')"
   ]
  },
  {
   "cell_type": "code",
   "execution_count": 13,
   "id": "7c17ba9d",
   "metadata": {},
   "outputs": [
    {
     "name": "stdout",
     "output_type": "stream",
     "text": [
      "w = 0.061159358661554586, b = -116.35631056117121\n"
     ]
    }
   ],
   "source": [
    "coef = np.polyfit(df['year'], df['pop'], deg = 1)\n",
    "print(f'w = {coef[0]}, b = {coef[1]}')"
   ]
  },
  {
   "cell_type": "code",
   "execution_count": 1,
   "id": "e3d14b34",
   "metadata": {},
   "outputs": [],
   "source": [
    "from sklearn.datasets import load_boston\n",
    "import torch"
   ]
  },
  {
   "cell_type": "code",
   "execution_count": 16,
   "id": "18fdc6b1",
   "metadata": {},
   "outputs": [],
   "source": [
    "x, y = load_boston(return_X_y = True)"
   ]
  },
  {
   "cell_type": "code",
   "execution_count": 18,
   "id": "916caf6e",
   "metadata": {},
   "outputs": [],
   "source": [
    "X_tensor = torch.from_numpy(x)"
   ]
  },
  {
   "cell_type": "code",
   "execution_count": 19,
   "id": "77aa6761",
   "metadata": {},
   "outputs": [],
   "source": [
    "def func(x): return x ** 2 "
   ]
  },
  {
   "cell_type": "code",
   "execution_count": 20,
   "id": "caf82ea8",
   "metadata": {},
   "outputs": [],
   "source": [
    "def dfunc(x): return 2 * x"
   ]
  },
  {
   "cell_type": "code",
   "execution_count": 21,
   "id": "02cfee2b",
   "metadata": {},
   "outputs": [],
   "source": [
    "def GD(x_start, df, epochs, lr):\n",
    "    xs = np.zeros(epochs + 1)\n",
    "    x = x_start\n",
    "    xs[0] = x\n",
    "    for i in range(epochs):\n",
    "        dx = df(x)\n",
    "        x += - dx * lr\n",
    "        xs[i+1] = x\n",
    "    return xs"
   ]
  },
  {
   "cell_type": "code",
   "execution_count": 22,
   "id": "7e3fedf5",
   "metadata": {},
   "outputs": [
    {
     "name": "stdout",
     "output_type": "stream",
     "text": [
      "[5.   2.   0.8  0.32 0.13 0.05 0.02 0.01 0.   0.   0.   0.   0.   0.\n",
      " 0.   0.  ]\n"
     ]
    }
   ],
   "source": [
    "x_start = 5\n",
    "epochs = 15\n",
    "lr = 0.3\n",
    "\n",
    "w = GD(x_start, dfunc, epochs, lr = lr)\n",
    "print(np.around(w, 2))"
   ]
  },
  {
   "cell_type": "code",
   "execution_count": 34,
   "id": "e7b3cdb0",
   "metadata": {},
   "outputs": [
    {
     "data": {
      "image/png": "[encoded data removed]",
      "text/plain": [
       "<Figure size 432x288 with 1 Axes>"
      ]
     },
     "metadata": {
      "needs_background": "light"
     },
     "output_type": "display_data"
    }
   ],
   "source": [
    "t = np.arange(-6.0, 6.0, 0.01)\n",
    "plt.plot(t, func(t), c = 'b')\n",
    "plt.plot(w, func(w), c = 'r', marker = 'o', markersize = 5)\n",
    "plt.rcParams['font.sans-serif'] = ['Microsoft JhengHei']\n",
    "plt.rcParams['axes.unicode_minus'] = False\n",
    "plt.title('梯度下降法', fontsize = 20)\n",
    "plt.xlabel('x', fontsize = 20)\n",
    "plt.ylabel('y', fontsize = 20)\n",
    "plt.show()"
   ]
  },
  {
   "cell_type": "code",
   "execution_count": 36,
   "id": "e016858d",
   "metadata": {},
   "outputs": [
    {
     "data": {
      "image/png": "[encoded data removed]",
      "text/plain": [
       "<Figure size 432x288 with 1 Axes>"
      ]
     },
     "metadata": {
      "needs_background": "light"
     },
     "output_type": "display_data"
    }
   ],
   "source": [
    "plt.plot(t, func(t), c = 'b')\n",
    "plt.plot(w, func(w), c = 'r', marker = 'o', markersize = 5)\n",
    "plt.rcParams['font.sans-serif'] = ['Microsoft JhengHei']\n",
    "plt.title('梯度下降法', fontsize = 20)\n",
    "plt.xlabel('x', fontsize = 20)\n",
    "plt.ylabel('y', fontsize = 20)\n",
    "plt.show()"
   ]
  },
  {
   "cell_type": "code",
   "execution_count": 1,
   "id": "d8c04d74",
   "metadata": {},
   "outputs": [],
   "source": [
    "origin = [0], [0]"
   ]
  },
  {
   "cell_type": "code",
   "execution_count": 2,
   "id": "7cc5e499",
   "metadata": {},
   "outputs": [
    {
     "data": {
      "text/plain": [
       "([0], [0])"
      ]
     },
     "execution_count": 2,
     "metadata": {},
     "output_type": "execute_result"
    }
   ],
   "source": [
    "origin"
   ]
  },
  {
   "cell_type": "code",
   "execution_count": 6,
   "id": "d790d93d",
   "metadata": {},
   "outputs": [
    {
     "data": {
      "text/plain": [
       "'11.3'"
      ]
     },
     "execution_count": 6,
     "metadata": {},
     "output_type": "execute_result"
    }
   ],
   "source": [
    "torch.version.cuda"
   ]
  },
  {
   "cell_type": "code",
   "execution_count": 7,
   "id": "ab440deb",
   "metadata": {},
   "outputs": [
    {
     "data": {
      "text/plain": [
       "1"
      ]
     },
     "execution_count": 7,
     "metadata": {},
     "output_type": "execute_result"
    }
   ],
   "source": [
    "torch.cuda.device_count()"
   ]
  },
  {
   "cell_type": "code",
   "execution_count": 11,
   "id": "88e11e8b",
   "metadata": {},
   "outputs": [
    {
     "data": {
      "text/plain": [
       "'NVIDIA GeForce RTX 3060 Laptop GPU'"
      ]
     },
     "execution_count": 11,
     "metadata": {},
     "output_type": "execute_result"
    }
   ],
   "source": [
    "torch.cuda.get_device_name(0)"
   ]
  },
  {
   "cell_type": "code",
   "execution_count": 10,
   "id": "73370c0e",
   "metadata": {},
   "outputs": [],
   "source": [
    "x = torch.tensor(4.0, requires_grad = True)\n",
    "y = x ** 2"
   ]
  },
  {
   "cell_type": "code",
   "execution_count": 12,
   "id": "731bf0f1",
   "metadata": {},
   "outputs": [
    {
     "name": "stdout",
     "output_type": "stream",
     "text": [
      "tensor(16., grad_fn=<PowBackward0>)\n"
     ]
    }
   ],
   "source": [
    "print(y)"
   ]
  },
  {
   "cell_type": "code",
   "execution_count": 13,
   "id": "a6e3e297",
   "metadata": {},
   "outputs": [
    {
     "name": "stdout",
     "output_type": "stream",
     "text": [
      "<PowBackward0 object at 0x000001D384ED51C0>\n"
     ]
    }
   ],
   "source": [
    "print(y.grad_fn)"
   ]
  },
  {
   "cell_type": "code",
   "execution_count": 14,
   "id": "2e0e0419",
   "metadata": {},
   "outputs": [],
   "source": [
    "y.backward()"
   ]
  },
  {
   "cell_type": "code",
   "execution_count": 15,
   "id": "41f56102",
   "metadata": {},
   "outputs": [
    {
     "name": "stdout",
     "output_type": "stream",
     "text": [
      "tensor(8.)\n"
     ]
    }
   ],
   "source": [
    "print(x.grad)"
   ]
  },
  {
   "cell_type": "code",
   "execution_count": 18,
   "id": "ec370034",
   "metadata": {},
   "outputs": [],
   "source": [
    "x = torch.tensor(1.0, requires_grad = True)\n",
    "y = torch.tensor(2.0)\n",
    "z = x * y"
   ]
  },
  {
   "cell_type": "code",
   "execution_count": 20,
   "id": "aab4eb2f",
   "metadata": {},
   "outputs": [
    {
     "name": "stdout",
     "output_type": "stream",
     "text": [
      "x\n",
      "data: 1.0\n",
      "requires_grad:True\n",
      "grad: None\n",
      "grad_fn: None\n",
      " is_leaf:True\n",
      "\n",
      "y\n",
      "data: 2.0\n",
      "requires_grad:False\n",
      "grad: None\n",
      "grad_fn: None\n",
      " is_leaf:True\n",
      "\n",
      "z\n",
      "data: 2.0\n",
      "requires_grad:True\n",
      "grad: None\n",
      "grad_fn: <MulBackward0 object at 0x000001D3852845E0>\n",
      " is_leaf:False\n",
      "\n"
     ]
    },
    {
     "name": "stderr",
     "output_type": "stream",
     "text": [
      "C:\\Users\\ian\\anaconda3\\lib\\site-packages\\torch\\_tensor.py:1013: UserWarning: The .grad attribute of a Tensor that is not a leaf Tensor is being accessed. Its .grad attribute won't be populated during autograd.backward(). If you indeed want the .grad field to be populated for a non-leaf Tensor, use .retain_grad() on the non-leaf Tensor. If you access the non-leaf Tensor by mistake, make sure you access the leaf Tensor instead. See github.com/pytorch/pytorch/pull/30531 for more informations. (Triggered internally at  aten\\src\\ATen/core/TensorBody.h:417.)\n",
      "  return self._grad\n"
     ]
    }
   ],
   "source": [
    "for i, name in zip([x,y,z], 'xyz'):\n",
    "    print(f'{name}\\ndata: {i.data}\\nrequires_grad:{i.requires_grad}\\n' + \n",
    "         f'grad: {i.grad}\\ngrad_fn: {i.grad_fn}\\n is_leaf:{i.is_leaf}\\n')"
   ]
  },
  {
   "cell_type": "code",
   "execution_count": 21,
   "id": "a5fbdc0b",
   "metadata": {},
   "outputs": [],
   "source": [
    "x = torch.ones(5)"
   ]
  },
  {
   "cell_type": "code",
   "execution_count": 23,
   "id": "bbb0e77b",
   "metadata": {},
   "outputs": [],
   "source": [
    "y = torch.zeros(3)"
   ]
  },
  {
   "cell_type": "code",
   "execution_count": 25,
   "id": "4ce9d581",
   "metadata": {},
   "outputs": [],
   "source": [
    "w = torch.randn(5, 3, requires_grad = True)"
   ]
  },
  {
   "cell_type": "code",
   "execution_count": 27,
   "id": "1e0cf9f6",
   "metadata": {},
   "outputs": [],
   "source": [
    "b = torch.randn(3, requires_grad = True)"
   ]
  },
  {
   "cell_type": "code",
   "execution_count": 29,
   "id": "32d5e879",
   "metadata": {},
   "outputs": [],
   "source": [
    "z = torch.matmul(x,w)"
   ]
  },
  {
   "cell_type": "code",
   "execution_count": 30,
   "id": "29f82a18",
   "metadata": {},
   "outputs": [
    {
     "data": {
      "text/plain": [
       "tensor([1.4478, 5.4936, 2.4938], grad_fn=<SqueezeBackward3>)"
      ]
     },
     "execution_count": 30,
     "metadata": {},
     "output_type": "execute_result"
    }
   ],
   "source": [
    "z"
   ]
  },
  {
   "cell_type": "code",
   "execution_count": null,
   "id": "56cdd2b8",
   "metadata": {},
   "outputs": [],
   "source": []
  }
 ],
 "metadata": {
  "kernelspec": {
   "display_name": "Python 3 (ipykernel)",
   "language": "python",
   "name": "python3"
  },
  "language_info": {
   "codemirror_mode": {
    "name": "ipython",
    "version": 3
   },
   "file_extension": ".py",
   "mimetype": "text/x-python",
   "name": "python",
   "nbconvert_exporter": "python",
   "pygments_lexer": "ipython3",
   "version": "3.8.8"
  },
  "varInspector": {
   "cols": {
    "lenName": 16,
    "lenType": 16,
    "lenVar": 40
   },
   "kernels_config": {
    "python": {
     "delete_cmd_postfix": "",
     "delete_cmd_prefix": "del ",
     "library": "var_list.py",
     "varRefreshCmd": "print(var_dic_list())"
    },
    "r": {
     "delete_cmd_postfix": ") ",
     "delete_cmd_prefix": "rm(",
     "library": "var_list.r",
     "varRefreshCmd": "cat(var_dic_list()) "
    }
   },
   "types_to_exclude": [
    "module",
    "function",
    "builtin_function_or_method",
    "instance",
    "_Feature"
   ],
   "window_display": false
  }
 },
 "nbformat": 4,
 "nbformat_minor": 5
}
